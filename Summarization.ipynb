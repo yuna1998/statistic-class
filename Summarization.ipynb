{
  "nbformat": 4,
  "nbformat_minor": 0,
  "metadata": {
    "colab": {
      "name": "Summarization.ipynb",
      "provenance": [],
      "authorship_tag": "ABX9TyO8ONf+Kqvy13fDW7ZotEza",
      "include_colab_link": true
    },
    "kernelspec": {
      "name": "ir",
      "display_name": "R"
    },
    "language_info": {
      "name": "R"
    }
  },
  "cells": [
    {
      "cell_type": "markdown",
      "metadata": {
        "id": "view-in-github",
        "colab_type": "text"
      },
      "source": [
        "<a href=\"https://colab.research.google.com/github/yuna1998/statistic-class/blob/main/Summarization.ipynb\" target=\"_parent\"><img src=\"https://colab.research.google.com/assets/colab-badge.svg\" alt=\"Open In Colab\"/></a>"
      ]
    },
    {
      "cell_type": "code",
      "metadata": {
        "colab": {
          "base_uri": "https://localhost:8080/"
        },
        "id": "ZdsbolGRZt9H",
        "outputId": "ab15fa95-d0fe-4d3e-a827-7bb1e757fa9d"
      },
      "source": [
        "install.packages(\"ISLR\")"
      ],
      "execution_count": 1,
      "outputs": [
        {
          "output_type": "stream",
          "text": [
            "Installing package into ‘/usr/local/lib/R/site-library’\n",
            "(as ‘lib’ is unspecified)\n",
            "\n"
          ],
          "name": "stderr"
        }
      ]
    },
    {
      "cell_type": "code",
      "metadata": {
        "id": "BVu3sZ1pZyCM"
      },
      "source": [
        "library(ISLR)"
      ],
      "execution_count": 2,
      "outputs": []
    },
    {
      "cell_type": "code",
      "metadata": {
        "colab": {
          "base_uri": "https://localhost:8080/",
          "height": 281
        },
        "id": "uV9dSVkVZzl4",
        "outputId": "08f04869-2a5a-47ad-d597-d6f705207f08"
      },
      "source": [
        "head(Default)"
      ],
      "execution_count": 3,
      "outputs": [
        {
          "output_type": "display_data",
          "data": {
            "text/plain": [
              "  default student balance   income   \n",
              "1 No      No       729.5265 44361.625\n",
              "2 No      Yes      817.1804 12106.135\n",
              "3 No      No      1073.5492 31767.139\n",
              "4 No      No       529.2506 35704.494\n",
              "5 No      No       785.6559 38463.496\n",
              "6 No      Yes      919.5885  7491.559"
            ],
            "text/latex": "A data.frame: 6 × 4\n\\begin{tabular}{r|llll}\n  & default & student & balance & income\\\\\n  & <fct> & <fct> & <dbl> & <dbl>\\\\\n\\hline\n\t1 & No & No  &  729.5265 & 44361.625\\\\\n\t2 & No & Yes &  817.1804 & 12106.135\\\\\n\t3 & No & No  & 1073.5492 & 31767.139\\\\\n\t4 & No & No  &  529.2506 & 35704.494\\\\\n\t5 & No & No  &  785.6559 & 38463.496\\\\\n\t6 & No & Yes &  919.5885 &  7491.559\\\\\n\\end{tabular}\n",
            "text/markdown": "\nA data.frame: 6 × 4\n\n| <!--/--> | default &lt;fct&gt; | student &lt;fct&gt; | balance &lt;dbl&gt; | income &lt;dbl&gt; |\n|---|---|---|---|---|\n| 1 | No | No  |  729.5265 | 44361.625 |\n| 2 | No | Yes |  817.1804 | 12106.135 |\n| 3 | No | No  | 1073.5492 | 31767.139 |\n| 4 | No | No  |  529.2506 | 35704.494 |\n| 5 | No | No  |  785.6559 | 38463.496 |\n| 6 | No | Yes |  919.5885 |  7491.559 |\n\n",
            "text/html": [
              "<table class=\"dataframe\">\n",
              "<caption>A data.frame: 6 × 4</caption>\n",
              "<thead>\n",
              "\t<tr><th></th><th scope=col>default</th><th scope=col>student</th><th scope=col>balance</th><th scope=col>income</th></tr>\n",
              "\t<tr><th></th><th scope=col>&lt;fct&gt;</th><th scope=col>&lt;fct&gt;</th><th scope=col>&lt;dbl&gt;</th><th scope=col>&lt;dbl&gt;</th></tr>\n",
              "</thead>\n",
              "<tbody>\n",
              "\t<tr><th scope=row>1</th><td>No</td><td>No </td><td> 729.5265</td><td>44361.625</td></tr>\n",
              "\t<tr><th scope=row>2</th><td>No</td><td>Yes</td><td> 817.1804</td><td>12106.135</td></tr>\n",
              "\t<tr><th scope=row>3</th><td>No</td><td>No </td><td>1073.5492</td><td>31767.139</td></tr>\n",
              "\t<tr><th scope=row>4</th><td>No</td><td>No </td><td> 529.2506</td><td>35704.494</td></tr>\n",
              "\t<tr><th scope=row>5</th><td>No</td><td>No </td><td> 785.6559</td><td>38463.496</td></tr>\n",
              "\t<tr><th scope=row>6</th><td>No</td><td>Yes</td><td> 919.5885</td><td> 7491.559</td></tr>\n",
              "</tbody>\n",
              "</table>\n"
            ]
          },
          "metadata": {
            "tags": []
          }
        }
      ]
    },
    {
      "cell_type": "code",
      "metadata": {
        "colab": {
          "base_uri": "https://localhost:8080/"
        },
        "id": "1QsYGJvvZ08r",
        "outputId": "de775d1c-7cbd-4e19-edfc-23c2e91d8930"
      },
      "source": [
        "str(Default)"
      ],
      "execution_count": 4,
      "outputs": [
        {
          "output_type": "stream",
          "text": [
            "'data.frame':\t10000 obs. of  4 variables:\n",
            " $ default: Factor w/ 2 levels \"No\",\"Yes\": 1 1 1 1 1 1 1 1 1 1 ...\n",
            " $ student: Factor w/ 2 levels \"No\",\"Yes\": 1 2 1 1 1 2 1 2 1 1 ...\n",
            " $ balance: num  730 817 1074 529 786 ...\n",
            " $ income : num  44362 12106 31767 35704 38463 ...\n"
          ],
          "name": "stdout"
        }
      ]
    },
    {
      "cell_type": "code",
      "metadata": {
        "id": "V5AFrIbSZ2Ii"
      },
      "source": [
        "set.seed(1)"
      ],
      "execution_count": 5,
      "outputs": []
    },
    {
      "cell_type": "code",
      "metadata": {
        "id": "2VqLmC41Z5ue"
      },
      "source": [
        "n = dim(Default)[1]"
      ],
      "execution_count": 6,
      "outputs": []
    },
    {
      "cell_type": "code",
      "metadata": {
        "id": "78HfYstWZ8CB"
      },
      "source": [
        "train = sample(n, n/2)"
      ],
      "execution_count": 7,
      "outputs": []
    },
    {
      "cell_type": "code",
      "metadata": {
        "colab": {
          "base_uri": "https://localhost:8080/",
          "height": 35
        },
        "id": "Knh3awEwZ_Xy",
        "outputId": "25ac6bc7-2b9b-4d0b-a244-5ca7cad835b5"
      },
      "source": [
        "n"
      ],
      "execution_count": 8,
      "outputs": [
        {
          "output_type": "display_data",
          "data": {
            "text/plain": [
              "[1] 10000"
            ],
            "text/latex": "10000",
            "text/markdown": "10000",
            "text/html": [
              "10000"
            ]
          },
          "metadata": {
            "tags": []
          }
        }
      ]
    },
    {
      "cell_type": "code",
      "metadata": {
        "id": "U3nap0XcaDPE"
      },
      "source": [
        "fit = glm(default~., data = Default, subset = train, family = binomial)"
      ],
      "execution_count": 10,
      "outputs": []
    },
    {
      "cell_type": "code",
      "metadata": {
        "id": "6ox--YCkaJRL"
      },
      "source": [
        "pred = predict(fit, newdata = Default[-train,], type = \"response\")"
      ],
      "execution_count": 11,
      "outputs": []
    },
    {
      "cell_type": "code",
      "metadata": {
        "colab": {
          "base_uri": "https://localhost:8080/",
          "height": 52
        },
        "id": "By2r0NhOaSaU",
        "outputId": "3c222943-b409-4568-e473-61343733a0c0"
      },
      "source": [
        "head(pred)"
      ],
      "execution_count": 12,
      "outputs": [
        {
          "output_type": "display_data",
          "data": {
            "text/plain": [
              "           1            2            3            5            8            9 \n",
              "0.0016854120 0.0008917230 0.0098307287 0.0021082735 0.0009313462 0.0177824618 "
            ],
            "text/latex": "\\begin{description*}\n\\item[1] 0.00168541199136213\n\\item[2] 0.000891722990304194\n\\item[3] 0.00983072868780845\n\\item[5] 0.00210827350291255\n\\item[8] 0.000931346193340715\n\\item[9] 0.0177824618390103\n\\end{description*}\n",
            "text/markdown": "1\n:   0.001685411991362132\n:   0.0008917229903041943\n:   0.009830728687808455\n:   0.002108273502912558\n:   0.0009313461933407159\n:   0.0177824618390103\n\n",
            "text/html": [
              "<style>\n",
              ".dl-inline {width: auto; margin:0; padding: 0}\n",
              ".dl-inline>dt, .dl-inline>dd {float: none; width: auto; display: inline-block}\n",
              ".dl-inline>dt::after {content: \":\\0020\"; padding-right: .5ex}\n",
              ".dl-inline>dt:not(:first-of-type) {padding-left: .5ex}\n",
              "</style><dl class=dl-inline><dt>1</dt><dd>0.00168541199136213</dd><dt>2</dt><dd>0.000891722990304194</dd><dt>3</dt><dd>0.00983072868780845</dd><dt>5</dt><dd>0.00210827350291255</dd><dt>8</dt><dd>0.000931346193340715</dd><dt>9</dt><dd>0.0177824618390103</dd></dl>\n"
            ]
          },
          "metadata": {
            "tags": []
          }
        }
      ]
    },
    {
      "cell_type": "code",
      "metadata": {
        "id": "MU57bWfDaT2P"
      },
      "source": [
        "#Minimizing TPM -> Cutoff= 0.5"
      ],
      "execution_count": 13,
      "outputs": []
    },
    {
      "cell_type": "code",
      "metadata": {
        "id": "PCk6p8aRaaCG"
      },
      "source": [
        "pcl = rep(\"No\", length(pred))"
      ],
      "execution_count": 14,
      "outputs": []
    },
    {
      "cell_type": "code",
      "metadata": {
        "id": "-55etrc9agJL"
      },
      "source": [
        "ct = 0.5"
      ],
      "execution_count": 15,
      "outputs": []
    },
    {
      "cell_type": "code",
      "metadata": {
        "id": "-e35Ctx_acfE"
      },
      "source": [
        "pcl[pred>=ct] = \"Yes\""
      ],
      "execution_count": 16,
      "outputs": []
    },
    {
      "cell_type": "code",
      "metadata": {
        "colab": {
          "base_uri": "https://localhost:8080/"
        },
        "id": "7p0gV-A2ajUj",
        "outputId": "6cd38306-34d2-4d1b-ba46-e569e21ad665"
      },
      "source": [
        "install.packages(\"caret\")"
      ],
      "execution_count": 17,
      "outputs": [
        {
          "output_type": "stream",
          "text": [
            "Installing package into ‘/usr/local/lib/R/site-library’\n",
            "(as ‘lib’ is unspecified)\n",
            "\n",
            "also installing the dependencies ‘numDeriv’, ‘SQUAREM’, ‘lava’, ‘prodlim’, ‘iterators’, ‘gower’, ‘ipred’, ‘timeDate’, ‘foreach’, ‘plyr’, ‘ModelMetrics’, ‘reshape2’, ‘recipes’, ‘pROC’\n",
            "\n",
            "\n"
          ],
          "name": "stderr"
        }
      ]
    },
    {
      "cell_type": "code",
      "metadata": {
        "colab": {
          "base_uri": "https://localhost:8080/"
        },
        "id": "QMxloYwgam2P",
        "outputId": "0021ec6f-3666-4aa1-f39e-99a1cf98b7c5"
      },
      "source": [
        "library(caret)"
      ],
      "execution_count": 18,
      "outputs": [
        {
          "output_type": "stream",
          "text": [
            "Loading required package: lattice\n",
            "\n",
            "Loading required package: ggplot2\n",
            "\n",
            "Warning message in system(\"timedatectl\", intern = TRUE):\n",
            "“running command 'timedatectl' had status 1”\n"
          ],
          "name": "stderr"
        }
      ]
    },
    {
      "cell_type": "code",
      "metadata": {
        "colab": {
          "base_uri": "https://localhost:8080/"
        },
        "id": "Cjyo0l-IbyjY",
        "outputId": "279077ed-6464-415b-d5ff-2aa7acbbeedb"
      },
      "source": [
        "install.packages(\"e1071\")"
      ],
      "execution_count": 20,
      "outputs": [
        {
          "output_type": "stream",
          "text": [
            "Installing package into ‘/usr/local/lib/R/site-library’\n",
            "(as ‘lib’ is unspecified)\n",
            "\n",
            "also installing the dependency ‘proxy’\n",
            "\n",
            "\n"
          ],
          "name": "stderr"
        }
      ]
    },
    {
      "cell_type": "code",
      "metadata": {
        "id": "-EU2X6pHb2Pj"
      },
      "source": [
        "library(e1071)"
      ],
      "execution_count": 21,
      "outputs": []
    },
    {
      "cell_type": "code",
      "metadata": {
        "colab": {
          "base_uri": "https://localhost:8080/",
          "height": 577
        },
        "id": "dCMvQFpNanzL",
        "outputId": "78b3b1b6-cae8-49fc-8e4a-c26b40f4be61"
      },
      "source": [
        "confusionMatrix(factor(pcl), Default$default[-train],positive = \"Yes\", mode = \"everything\")"
      ],
      "execution_count": 24,
      "outputs": [
        {
          "output_type": "display_data",
          "data": {
            "text/plain": [
              "Confusion Matrix and Statistics\n",
              "\n",
              "          Reference\n",
              "Prediction   No  Yes\n",
              "       No  4825  112\n",
              "       Yes   18   45\n",
              "                                          \n",
              "               Accuracy : 0.974           \n",
              "                 95% CI : (0.9692, 0.9782)\n",
              "    No Information Rate : 0.9686          \n",
              "    P-Value [Acc > NIR] : 0.01394         \n",
              "                                          \n",
              "                  Kappa : 0.3983          \n",
              "                                          \n",
              " Mcnemar's Test P-Value : 3.445e-16       \n",
              "                                          \n",
              "            Sensitivity : 0.2866          \n",
              "            Specificity : 0.9963          \n",
              "         Pos Pred Value : 0.7143          \n",
              "         Neg Pred Value : 0.9773          \n",
              "              Precision : 0.7143          \n",
              "                 Recall : 0.2866          \n",
              "                     F1 : 0.4091          \n",
              "             Prevalence : 0.0314          \n",
              "         Detection Rate : 0.0090          \n",
              "   Detection Prevalence : 0.0126          \n",
              "      Balanced Accuracy : 0.6415          \n",
              "                                          \n",
              "       'Positive' Class : Yes             \n",
              "                                          "
            ]
          },
          "metadata": {
            "tags": []
          }
        }
      ]
    },
    {
      "cell_type": "code",
      "metadata": {
        "id": "3EiAKoiHbwyF"
      },
      "source": [
        "ct = 0.3"
      ],
      "execution_count": 25,
      "outputs": []
    },
    {
      "cell_type": "code",
      "metadata": {
        "id": "zbN-uuVQdwrs"
      },
      "source": [
        "pcl = rep(\"No\", length(pred))"
      ],
      "execution_count": 26,
      "outputs": []
    },
    {
      "cell_type": "code",
      "metadata": {
        "id": "cgkZjRHXd0Fr"
      },
      "source": [
        "pcl[pred >= ct]= \"Yes\""
      ],
      "execution_count": 27,
      "outputs": []
    },
    {
      "cell_type": "code",
      "metadata": {
        "colab": {
          "base_uri": "https://localhost:8080/",
          "height": 577
        },
        "id": "oy3H20Tvd2XE",
        "outputId": "02d2999a-925e-4654-93cb-fadbf4a702d1"
      },
      "source": [
        "confusionMatrix(factor(pcl), Default$default[-train], positive= \"Yes\", mode = \"everything\")"
      ],
      "execution_count": 28,
      "outputs": [
        {
          "output_type": "display_data",
          "data": {
            "text/plain": [
              "Confusion Matrix and Statistics\n",
              "\n",
              "          Reference\n",
              "Prediction   No  Yes\n",
              "       No  4769   74\n",
              "       Yes   74   83\n",
              "                                          \n",
              "               Accuracy : 0.9704          \n",
              "                 95% CI : (0.9653, 0.9749)\n",
              "    No Information Rate : 0.9686          \n",
              "    P-Value [Acc > NIR] : 0.2474          \n",
              "                                          \n",
              "                  Kappa : 0.5134          \n",
              "                                          \n",
              " Mcnemar's Test P-Value : 1.0000          \n",
              "                                          \n",
              "            Sensitivity : 0.5287          \n",
              "            Specificity : 0.9847          \n",
              "         Pos Pred Value : 0.5287          \n",
              "         Neg Pred Value : 0.9847          \n",
              "              Precision : 0.5287          \n",
              "                 Recall : 0.5287          \n",
              "                     F1 : 0.5287          \n",
              "             Prevalence : 0.0314          \n",
              "         Detection Rate : 0.0166          \n",
              "   Detection Prevalence : 0.0314          \n",
              "      Balanced Accuracy : 0.7567          \n",
              "                                          \n",
              "       'Positive' Class : Yes             \n",
              "                                          "
            ]
          },
          "metadata": {
            "tags": []
          }
        }
      ]
    },
    {
      "cell_type": "code",
      "metadata": {
        "id": "kpqkwpXId-aD"
      },
      "source": [
        ""
      ],
      "execution_count": null,
      "outputs": []
    }
  ]
}