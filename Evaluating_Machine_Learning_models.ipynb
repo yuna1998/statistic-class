{
  "nbformat": 4,
  "nbformat_minor": 0,
  "metadata": {
    "colab": {
      "name": "Evaluating Machine Learning models.ipynb",
      "provenance": [],
      "authorship_tag": "ABX9TyPWfi5/xS1523lULqQYR4xJ",
      "include_colab_link": true
    },
    "kernelspec": {
      "name": "python3",
      "display_name": "Python 3"
    },
    "language_info": {
      "name": "python"
    }
  },
  "cells": [
    {
      "cell_type": "markdown",
      "metadata": {
        "id": "view-in-github",
        "colab_type": "text"
      },
      "source": [
        "<a href=\"https://colab.research.google.com/github/yuna1998/statistic-class/blob/main/Evaluating_Machine_Learning_models.ipynb\" target=\"_parent\"><img src=\"https://colab.research.google.com/assets/colab-badge.svg\" alt=\"Open In Colab\"/></a>"
      ]
    },
    {
      "cell_type": "markdown",
      "metadata": {
        "id": "5NcqKXLWxQng"
      },
      "source": [
        "Simple hold-out validation - example code"
      ]
    },
    {
      "cell_type": "code",
      "metadata": {
        "id": "9WV2iHqgw3h1"
      },
      "source": [
        "num_validation_samples = 1000"
      ],
      "execution_count": 1,
      "outputs": []
    },
    {
      "cell_type": "code",
      "metadata": {
        "id": "7V5mTwhSxU5_"
      },
      "source": [
        "import numpy as np"
      ],
      "execution_count": 2,
      "outputs": []
    },
    {
      "cell_type": "code",
      "metadata": {
        "colab": {
          "base_uri": "https://localhost:8080/",
          "height": 213
        },
        "id": "ihOZR25lxWh5",
        "outputId": "f17729a2-3f75-4362-8453-d9a7f05ca4f3"
      },
      "source": [
        "data = data[num_validation_samples:]\n",
        "np.random.shuffle(data)\n",
        "validation_data = data[:num_validation_samples]"
      ],
      "execution_count": 5,
      "outputs": [
        {
          "output_type": "error",
          "ename": "NameError",
          "evalue": "ignored",
          "traceback": [
            "\u001b[0;31m---------------------------------------------------------------------------\u001b[0m",
            "\u001b[0;31mNameError\u001b[0m                                 Traceback (most recent call last)",
            "\u001b[0;32m<ipython-input-5-2632331166ed>\u001b[0m in \u001b[0;36m<module>\u001b[0;34m()\u001b[0m\n\u001b[0;32m----> 1\u001b[0;31m \u001b[0mdata\u001b[0m \u001b[0;34m=\u001b[0m \u001b[0mdata\u001b[0m\u001b[0;34m[\u001b[0m\u001b[0mnum_validation_samples\u001b[0m\u001b[0;34m:\u001b[0m\u001b[0;34m]\u001b[0m\u001b[0;34m\u001b[0m\u001b[0;34m\u001b[0m\u001b[0m\n\u001b[0m\u001b[1;32m      2\u001b[0m \u001b[0mnp\u001b[0m\u001b[0;34m.\u001b[0m\u001b[0mrandom\u001b[0m\u001b[0;34m.\u001b[0m\u001b[0mshuffle\u001b[0m\u001b[0;34m(\u001b[0m\u001b[0mdata\u001b[0m\u001b[0;34m)\u001b[0m\u001b[0;34m\u001b[0m\u001b[0;34m\u001b[0m\u001b[0m\n\u001b[1;32m      3\u001b[0m \u001b[0mvalidation_data\u001b[0m \u001b[0;34m=\u001b[0m \u001b[0mdata\u001b[0m\u001b[0;34m[\u001b[0m\u001b[0;34m:\u001b[0m\u001b[0mnum_validation_samples\u001b[0m\u001b[0;34m]\u001b[0m\u001b[0;34m\u001b[0m\u001b[0;34m\u001b[0m\u001b[0m\n",
            "\u001b[0;31mNameError\u001b[0m: name 'data' is not defined"
          ]
        }
      ]
    },
    {
      "cell_type": "code",
      "metadata": {
        "id": "EOSiiw_HxY_h"
      },
      "source": [
        "training_data = data{:}"
      ],
      "execution_count": null,
      "outputs": []
    },
    {
      "cell_type": "code",
      "metadata": {
        "id": "UofvFwazxw4Y"
      },
      "source": [
        "model = get_model()\n",
        "model.train(training_data)\n",
        "validation_score = model.evaluate(validation_data)\n",
        "\n",
        "model = get_model()\n",
        "model.train(np.concatenate([training_data, validation_data]))\n",
        "test_score = model.evaluate(test_data)"
      ],
      "execution_count": null,
      "outputs": []
    },
    {
      "cell_type": "markdown",
      "metadata": {
        "id": "4ljUYe_Z0iGv"
      },
      "source": [
        "original model"
      ]
    },
    {
      "cell_type": "code",
      "metadata": {
        "id": "-mbO2BBNyV-n"
      },
      "source": [
        " from keras import models\n",
        " from keras import layers"
      ],
      "execution_count": 7,
      "outputs": []
    },
    {
      "cell_type": "code",
      "metadata": {
        "id": "FFvPNL0B0mKH"
      },
      "source": [
        "model = models.Sequential()"
      ],
      "execution_count": 8,
      "outputs": []
    },
    {
      "cell_type": "code",
      "metadata": {
        "id": "rP8RLk-105J0"
      },
      "source": [
        "model.add(layers.Dense(16, activation = 'relu', input_shape = (10000,)))\n",
        "model.add(layers.Dense(16, activation = 'relu'))\n",
        "model.add(layers.Dense(1, activation = 'sigmoid'))"
      ],
      "execution_count": 9,
      "outputs": []
    },
    {
      "cell_type": "markdown",
      "metadata": {
        "id": "2uQ798Kv1Tdo"
      },
      "source": [
        "Version of the model with lower capacity"
      ]
    },
    {
      "cell_type": "code",
      "metadata": {
        "id": "5oBma5M_1SCX"
      },
      "source": [
        "model = models.Sequential()\n",
        "model.add(layers.Dense(4, activation = 'relu', input_shape = (10000,)))\n",
        "model.add(layers.Dense(4, activation = 'relu'))\n",
        "model.add(layers.Dense(1, activation = 'sigmoid'))"
      ],
      "execution_count": 10,
      "outputs": []
    },
    {
      "cell_type": "markdown",
      "metadata": {
        "id": "IUkv7EP61-mi"
      },
      "source": [
        "Version of the model with higher capacity"
      ]
    },
    {
      "cell_type": "code",
      "metadata": {
        "id": "ED4hMjOR17Zj"
      },
      "source": [
        "model = models.Sequential()\n",
        "model.add(layers.Dense(512, activation = 'relu', input_shape = (10000,)))\n",
        "model.add(layers.Dense(512, activation = 'relu'))\n",
        "model.add(layers.Dense(1, activation = 'sigmoid'))"
      ],
      "execution_count": 11,
      "outputs": []
    },
    {
      "cell_type": "code",
      "metadata": {
        "colab": {
          "base_uri": "https://localhost:8080/",
          "height": 36
        },
        "id": "Ook1sgfd2Ls8",
        "outputId": "8a5932d3-e485-46d3-e2f1-8fe7e62c3bcd"
      },
      "source": [
        "import tensorflow\n",
        "tensorflow.keras.__version__"
      ],
      "execution_count": 12,
      "outputs": [
        {
          "output_type": "execute_result",
          "data": {
            "application/vnd.google.colaboratory.intrinsic+json": {
              "type": "string"
            },
            "text/plain": [
              "'2.4.0'"
            ]
          },
          "metadata": {
            "tags": []
          },
          "execution_count": 12
        }
      ]
    },
    {
      "cell_type": "code",
      "metadata": {
        "colab": {
          "base_uri": "https://localhost:8080/"
        },
        "id": "aMkRKFr62QgR",
        "outputId": "8852f183-f830-4020-80e6-e61205d7e81a"
      },
      "source": [
        "from tensorflow.keras.datasets import imdb\n",
        "import numpy as np\n",
        "\n",
        "(train_data, train_labels), (test_data, test_labels) = imdb.load_data(num_words=10000)\n",
        "\n",
        "def vectorize_sequences(sequences, dimension=10000):\n",
        "    # Create an all-zero matrix of shape (len(sequences), dimension)\n",
        "    results = np.zeros((len(sequences), dimension))\n",
        "    for i, sequence in enumerate(sequences):\n",
        "        results[i, sequence] = 1.  # set specific indices of results[i] to 1s\n",
        "    return results\n",
        "\n",
        "# Our vectorized training data\n",
        "x_train = vectorize_sequences(train_data)\n",
        "# Our vectorized test data\n",
        "x_test = vectorize_sequences(test_data)\n",
        "# Our vectorized labels\n",
        "y_train = np.asarray(train_labels).astype('float32')\n",
        "y_test = np.asarray(test_labels).astype('float32')"
      ],
      "execution_count": 13,
      "outputs": [
        {
          "output_type": "stream",
          "text": [
            "Downloading data from https://storage.googleapis.com/tensorflow/tf-keras-datasets/imdb.npz\n",
            "17465344/17464789 [==============================] - 0s 0us/step\n"
          ],
          "name": "stdout"
        },
        {
          "output_type": "stream",
          "text": [
            "<string>:6: VisibleDeprecationWarning: Creating an ndarray from ragged nested sequences (which is a list-or-tuple of lists-or-tuples-or ndarrays with different lengths or shapes) is deprecated. If you meant to do this, you must specify 'dtype=object' when creating the ndarray\n",
            "/usr/local/lib/python3.7/dist-packages/tensorflow/python/keras/datasets/imdb.py:159: VisibleDeprecationWarning: Creating an ndarray from ragged nested sequences (which is a list-or-tuple of lists-or-tuples-or ndarrays with different lengths or shapes) is deprecated. If you meant to do this, you must specify 'dtype=object' when creating the ndarray\n",
            "  x_train, y_train = np.array(xs[:idx]), np.array(labels[:idx])\n",
            "/usr/local/lib/python3.7/dist-packages/tensorflow/python/keras/datasets/imdb.py:160: VisibleDeprecationWarning: Creating an ndarray from ragged nested sequences (which is a list-or-tuple of lists-or-tuples-or ndarrays with different lengths or shapes) is deprecated. If you meant to do this, you must specify 'dtype=object' when creating the ndarray\n",
            "  x_test, y_test = np.array(xs[idx:]), np.array(labels[idx:])\n"
          ],
          "name": "stderr"
        }
      ]
    },
    {
      "cell_type": "code",
      "metadata": {
        "id": "gc4MzzD12Sst"
      },
      "source": [
        "from tensorflow.keras import models\n",
        "from tensorflow.keras import layers\n",
        "\n",
        "original_model = models.Sequential()\n",
        "original_model.add(layers.Dense(16, activation='relu', input_shape=(10000,)))\n",
        "original_model.add(layers.Dense(16, activation='relu'))\n",
        "original_model.add(layers.Dense(1, activation='sigmoid'))\n",
        "\n",
        "original_model.compile(optimizer='rmsprop',\n",
        "                       loss='binary_crossentropy',\n",
        "                       metrics=['acc'])"
      ],
      "execution_count": 14,
      "outputs": []
    },
    {
      "cell_type": "code",
      "metadata": {
        "id": "wLSn_u5N2V5v"
      },
      "source": [
        "smaller_model = models.Sequential()\n",
        "smaller_model.add(layers.Dense(4, activation='relu', input_shape=(10000,)))\n",
        "smaller_model.add(layers.Dense(4, activation='relu'))\n",
        "smaller_model.add(layers.Dense(1, activation='sigmoid'))\n",
        "\n",
        "smaller_model.compile(optimizer='rmsprop',\n",
        "                      loss='binary_crossentropy',\n",
        "                      metrics=['acc'])"
      ],
      "execution_count": 15,
      "outputs": []
    },
    {
      "cell_type": "code",
      "metadata": {
        "colab": {
          "base_uri": "https://localhost:8080/"
        },
        "id": "044INYAe2XJH",
        "outputId": "53e93da6-0336-43a5-fb20-26b16a103360"
      },
      "source": [
        "original_hist = original_model.fit(x_train, y_train,\n",
        "                                   epochs=20,\n",
        "                                   batch_size=512,\n",
        "                                   validation_data=(x_test, y_test))"
      ],
      "execution_count": 16,
      "outputs": [
        {
          "output_type": "stream",
          "text": [
            "Epoch 1/20\n",
            "49/49 [==============================] - 3s 52ms/step - loss: 0.5575 - acc: 0.7358 - val_loss: 0.3532 - val_acc: 0.8782\n",
            "Epoch 2/20\n",
            "49/49 [==============================] - 2s 33ms/step - loss: 0.2867 - acc: 0.9104 - val_loss: 0.2937 - val_acc: 0.8854\n",
            "Epoch 3/20\n",
            "49/49 [==============================] - 2s 34ms/step - loss: 0.2068 - acc: 0.9337 - val_loss: 0.2914 - val_acc: 0.8834\n",
            "Epoch 4/20\n",
            "49/49 [==============================] - 2s 34ms/step - loss: 0.1703 - acc: 0.9411 - val_loss: 0.2877 - val_acc: 0.8855\n",
            "Epoch 5/20\n",
            "49/49 [==============================] - 2s 34ms/step - loss: 0.1418 - acc: 0.9552 - val_loss: 0.3054 - val_acc: 0.8805\n",
            "Epoch 6/20\n",
            "49/49 [==============================] - 2s 35ms/step - loss: 0.1230 - acc: 0.9617 - val_loss: 0.3258 - val_acc: 0.8770\n",
            "Epoch 7/20\n",
            "49/49 [==============================] - 2s 34ms/step - loss: 0.1022 - acc: 0.9684 - val_loss: 0.3394 - val_acc: 0.8754\n",
            "Epoch 8/20\n",
            "49/49 [==============================] - 2s 34ms/step - loss: 0.0880 - acc: 0.9741 - val_loss: 0.3643 - val_acc: 0.8727\n",
            "Epoch 9/20\n",
            "49/49 [==============================] - 2s 33ms/step - loss: 0.0746 - acc: 0.9783 - val_loss: 0.3954 - val_acc: 0.8684\n",
            "Epoch 10/20\n",
            "49/49 [==============================] - 2s 34ms/step - loss: 0.0642 - acc: 0.9823 - val_loss: 0.4503 - val_acc: 0.8610\n",
            "Epoch 11/20\n",
            "49/49 [==============================] - 2s 34ms/step - loss: 0.0578 - acc: 0.9830 - val_loss: 0.4551 - val_acc: 0.8638\n",
            "Epoch 12/20\n",
            "49/49 [==============================] - 2s 34ms/step - loss: 0.0439 - acc: 0.9891 - val_loss: 0.4736 - val_acc: 0.8621\n",
            "Epoch 13/20\n",
            "49/49 [==============================] - 2s 34ms/step - loss: 0.0374 - acc: 0.9914 - val_loss: 0.4978 - val_acc: 0.8602\n",
            "Epoch 14/20\n",
            "49/49 [==============================] - 2s 34ms/step - loss: 0.0300 - acc: 0.9939 - val_loss: 0.5501 - val_acc: 0.8590\n",
            "Epoch 15/20\n",
            "49/49 [==============================] - 2s 33ms/step - loss: 0.0231 - acc: 0.9952 - val_loss: 0.5776 - val_acc: 0.8582\n",
            "Epoch 16/20\n",
            "49/49 [==============================] - 2s 34ms/step - loss: 0.0190 - acc: 0.9963 - val_loss: 0.6213 - val_acc: 0.8554\n",
            "Epoch 17/20\n",
            "49/49 [==============================] - 2s 33ms/step - loss: 0.0125 - acc: 0.9982 - val_loss: 0.6622 - val_acc: 0.8548\n",
            "Epoch 18/20\n",
            "49/49 [==============================] - 2s 34ms/step - loss: 0.0122 - acc: 0.9982 - val_loss: 0.7248 - val_acc: 0.8528\n",
            "Epoch 19/20\n",
            "49/49 [==============================] - 2s 34ms/step - loss: 0.0113 - acc: 0.9975 - val_loss: 0.7387 - val_acc: 0.8518\n",
            "Epoch 20/20\n",
            "49/49 [==============================] - 2s 34ms/step - loss: 0.0089 - acc: 0.9980 - val_loss: 0.7726 - val_acc: 0.8513\n"
          ],
          "name": "stdout"
        }
      ]
    },
    {
      "cell_type": "code",
      "metadata": {
        "colab": {
          "base_uri": "https://localhost:8080/"
        },
        "id": "UwIpPoHk2Yqv",
        "outputId": "dd6e141b-43cc-4797-fc29-70c4d6581e9c"
      },
      "source": [
        "smaller_model_hist = smaller_model.fit(x_train, y_train,\n",
        "                                       epochs=20,\n",
        "                                       batch_size=512,\n",
        "                                       validation_data=(x_test, y_test))"
      ],
      "execution_count": 17,
      "outputs": [
        {
          "output_type": "stream",
          "text": [
            "Epoch 1/20\n",
            "49/49 [==============================] - 3s 45ms/step - loss: 0.6080 - acc: 0.7405 - val_loss: 0.4473 - val_acc: 0.8652\n",
            "Epoch 2/20\n",
            "49/49 [==============================] - 1s 30ms/step - loss: 0.3858 - acc: 0.8941 - val_loss: 0.3425 - val_acc: 0.8834\n",
            "Epoch 3/20\n",
            "49/49 [==============================] - 2s 31ms/step - loss: 0.2818 - acc: 0.9113 - val_loss: 0.2979 - val_acc: 0.8887\n",
            "Epoch 4/20\n",
            "49/49 [==============================] - 2s 31ms/step - loss: 0.2283 - acc: 0.9262 - val_loss: 0.2844 - val_acc: 0.8899\n",
            "Epoch 5/20\n",
            "49/49 [==============================] - 2s 31ms/step - loss: 0.1896 - acc: 0.9396 - val_loss: 0.2838 - val_acc: 0.8876\n",
            "Epoch 6/20\n",
            "49/49 [==============================] - 1s 31ms/step - loss: 0.1707 - acc: 0.9440 - val_loss: 0.2815 - val_acc: 0.8866\n",
            "Epoch 7/20\n",
            "49/49 [==============================] - 1s 31ms/step - loss: 0.1560 - acc: 0.9481 - val_loss: 0.2888 - val_acc: 0.8854\n",
            "Epoch 8/20\n",
            "49/49 [==============================] - 2s 31ms/step - loss: 0.1381 - acc: 0.9556 - val_loss: 0.2972 - val_acc: 0.8828\n",
            "Epoch 9/20\n",
            "49/49 [==============================] - 2s 31ms/step - loss: 0.1253 - acc: 0.9610 - val_loss: 0.3087 - val_acc: 0.8796\n",
            "Epoch 10/20\n",
            "49/49 [==============================] - 2s 31ms/step - loss: 0.1138 - acc: 0.9653 - val_loss: 0.3241 - val_acc: 0.8766\n",
            "Epoch 11/20\n",
            "49/49 [==============================] - 1s 31ms/step - loss: 0.1089 - acc: 0.9653 - val_loss: 0.3366 - val_acc: 0.8756\n",
            "Epoch 12/20\n",
            "49/49 [==============================] - 1s 31ms/step - loss: 0.0995 - acc: 0.9697 - val_loss: 0.3488 - val_acc: 0.8749\n",
            "Epoch 13/20\n",
            "49/49 [==============================] - 1s 30ms/step - loss: 0.0907 - acc: 0.9742 - val_loss: 0.3642 - val_acc: 0.8722\n",
            "Epoch 14/20\n",
            "49/49 [==============================] - 1s 30ms/step - loss: 0.0863 - acc: 0.9749 - val_loss: 0.3805 - val_acc: 0.8704\n",
            "Epoch 15/20\n",
            "49/49 [==============================] - 2s 31ms/step - loss: 0.0798 - acc: 0.9774 - val_loss: 0.4007 - val_acc: 0.8689\n",
            "Epoch 16/20\n",
            "49/49 [==============================] - 2s 31ms/step - loss: 0.0718 - acc: 0.9809 - val_loss: 0.4227 - val_acc: 0.8646\n",
            "Epoch 17/20\n",
            "49/49 [==============================] - 1s 30ms/step - loss: 0.0683 - acc: 0.9816 - val_loss: 0.4386 - val_acc: 0.8646\n",
            "Epoch 18/20\n",
            "49/49 [==============================] - 1s 31ms/step - loss: 0.0622 - acc: 0.9824 - val_loss: 0.4594 - val_acc: 0.8629\n",
            "Epoch 19/20\n",
            "49/49 [==============================] - 2s 31ms/step - loss: 0.0542 - acc: 0.9864 - val_loss: 0.4821 - val_acc: 0.8596\n",
            "Epoch 20/20\n",
            "49/49 [==============================] - 2s 31ms/step - loss: 0.0527 - acc: 0.9874 - val_loss: 0.4983 - val_acc: 0.8594\n"
          ],
          "name": "stdout"
        }
      ]
    },
    {
      "cell_type": "code",
      "metadata": {
        "id": "a9_dVOUC2b8K"
      },
      "source": [
        "epochs = range(1, 21)\n",
        "original_val_loss = original_hist.history['val_loss']\n",
        "smaller_model_val_loss = smaller_model_hist.history['val_loss']"
      ],
      "execution_count": 18,
      "outputs": []
    },
    {
      "cell_type": "code",
      "metadata": {
        "colab": {
          "base_uri": "https://localhost:8080/",
          "height": 279
        },
        "id": "T92H2g9b2eXW",
        "outputId": "8d7b5abe-2fd9-4b43-d8cb-754a7f48b007"
      },
      "source": [
        "import matplotlib.pyplot as plt\n",
        "\n",
        "# b+ is for \"blue cross\"\n",
        "plt.plot(epochs, original_val_loss, 'b+', label='Original model')\n",
        "# \"bo\" is for \"blue dot\"\n",
        "plt.plot(epochs, smaller_model_val_loss, 'bo', label='Smaller model')\n",
        "plt.xlabel('Epochs')\n",
        "plt.ylabel('Validation loss')\n",
        "plt.legend()\n",
        "\n",
        "plt.show()"
      ],
      "execution_count": 19,
      "outputs": [
        {
          "output_type": "display_data",
          "data": {
            "image/png": "[encoded data removed]",
            "text/plain": [
              "<Figure size 432x288 with 1 Axes>"
            ]
          },
          "metadata": {
            "tags": [],
            "needs_background": "light"
          }
        }
      ]
    },
    {
      "cell_type": "code",
      "metadata": {
        "id": "aTKL0U7y2gRV"
      },
      "source": [
        "bigger_model = models.Sequential()\n",
        "bigger_model.add(layers.Dense(512, activation='relu', input_shape=(10000,)))\n",
        "bigger_model.add(layers.Dense(512, activation='relu'))\n",
        "bigger_model.add(layers.Dense(1, activation='sigmoid'))\n",
        "\n",
        "bigger_model.compile(optimizer='rmsprop',\n",
        "                     loss='binary_crossentropy',\n",
        "                     metrics=['acc'])"
      ],
      "execution_count": 20,
      "outputs": []
    },
    {
      "cell_type": "code",
      "metadata": {
        "colab": {
          "base_uri": "https://localhost:8080/"
        },
        "id": "bAiDMyKt2q5o",
        "outputId": "74dbbd55-47ea-4f1c-fd1a-db7be236aa7c"
      },
      "source": [
        "bigger_model_hist = bigger_model.fit(x_train, y_train,\n",
        "                                     epochs=20,\n",
        "                                     batch_size=512,\n",
        "                                     validation_data=(x_test, y_test))"
      ],
      "execution_count": 21,
      "outputs": [
        {
          "output_type": "stream",
          "text": [
            "Epoch 1/20\n",
            "49/49 [==============================] - 12s 231ms/step - loss: 0.6203 - acc: 0.7149 - val_loss: 0.2780 - val_acc: 0.8880\n",
            "Epoch 2/20\n",
            "49/49 [==============================] - 10s 208ms/step - loss: 0.2270 - acc: 0.9120 - val_loss: 0.3669 - val_acc: 0.8413\n",
            "Epoch 3/20\n",
            "49/49 [==============================] - 10s 209ms/step - loss: 0.1325 - acc: 0.9525 - val_loss: 0.2903 - val_acc: 0.8841\n",
            "Epoch 4/20\n",
            "49/49 [==============================] - 10s 207ms/step - loss: 0.0546 - acc: 0.9844 - val_loss: 0.4179 - val_acc: 0.8816\n",
            "Epoch 5/20\n",
            "49/49 [==============================] - 10s 208ms/step - loss: 0.0322 - acc: 0.9943 - val_loss: 0.4612 - val_acc: 0.8794\n",
            "Epoch 6/20\n",
            "49/49 [==============================] - 10s 209ms/step - loss: 0.0044 - acc: 0.9994 - val_loss: 2.6921 - val_acc: 0.6725\n",
            "Epoch 7/20\n",
            "49/49 [==============================] - 10s 208ms/step - loss: 0.0998 - acc: 0.9838 - val_loss: 0.7172 - val_acc: 0.8801\n",
            "Epoch 8/20\n",
            "49/49 [==============================] - 10s 209ms/step - loss: 0.0073 - acc: 0.9992 - val_loss: 0.8745 - val_acc: 0.8542\n",
            "Epoch 9/20\n",
            "49/49 [==============================] - 10s 209ms/step - loss: 0.0024 - acc: 0.9995 - val_loss: 0.7665 - val_acc: 0.8800\n",
            "Epoch 10/20\n",
            "49/49 [==============================] - 10s 208ms/step - loss: 2.3834e-04 - acc: 1.0000 - val_loss: 0.9226 - val_acc: 0.8784\n",
            "Epoch 11/20\n",
            "49/49 [==============================] - 10s 208ms/step - loss: 0.0077 - acc: 0.9994 - val_loss: 0.8269 - val_acc: 0.8708\n",
            "Epoch 12/20\n",
            "49/49 [==============================] - 10s 208ms/step - loss: 1.7410e-04 - acc: 1.0000 - val_loss: 0.8497 - val_acc: 0.8780\n",
            "Epoch 13/20\n",
            "49/49 [==============================] - 10s 209ms/step - loss: 2.2801e-05 - acc: 1.0000 - val_loss: 0.9603 - val_acc: 0.8784\n",
            "Epoch 14/20\n",
            "49/49 [==============================] - 10s 207ms/step - loss: 4.9862e-06 - acc: 1.0000 - val_loss: 1.0965 - val_acc: 0.8791\n",
            "Epoch 15/20\n",
            "49/49 [==============================] - 10s 209ms/step - loss: 1.0778e-06 - acc: 1.0000 - val_loss: 1.2347 - val_acc: 0.8803\n",
            "Epoch 16/20\n",
            "49/49 [==============================] - 10s 208ms/step - loss: 2.3443e-07 - acc: 1.0000 - val_loss: 1.3601 - val_acc: 0.8794\n",
            "Epoch 17/20\n",
            "49/49 [==============================] - 10s 208ms/step - loss: 5.5585e-08 - acc: 1.0000 - val_loss: 1.4686 - val_acc: 0.8792\n",
            "Epoch 18/20\n",
            "49/49 [==============================] - 10s 209ms/step - loss: 2.3390e-08 - acc: 1.0000 - val_loss: 1.5201 - val_acc: 0.8793\n",
            "Epoch 19/20\n",
            "49/49 [==============================] - 10s 209ms/step - loss: 1.3158e-08 - acc: 1.0000 - val_loss: 1.5507 - val_acc: 0.8797\n",
            "Epoch 20/20\n",
            "49/49 [==============================] - 10s 209ms/step - loss: 9.4625e-09 - acc: 1.0000 - val_loss: 1.5739 - val_acc: 0.8794\n"
          ],
          "name": "stdout"
        }
      ]
    },
    {
      "cell_type": "code",
      "metadata": {
        "colab": {
          "base_uri": "https://localhost:8080/",
          "height": 279
        },
        "id": "Ui7z-9S02r3y",
        "outputId": "cbdc724d-7369-4547-b40f-867a22f1b3e9"
      },
      "source": [
        "bigger_model_val_loss = bigger_model_hist.history['val_loss']\n",
        "\n",
        "plt.plot(epochs, original_val_loss, 'b+', label='Original model')\n",
        "plt.plot(epochs, bigger_model_val_loss, 'bo', label='Bigger model')\n",
        "plt.xlabel('Epochs')\n",
        "plt.ylabel('Validation loss')\n",
        "plt.legend()\n",
        "\n",
        "plt.show()"
      ],
      "execution_count": 22,
      "outputs": [
        {
          "output_type": "display_data",
          "data": {
            "image/png": "[encoded data removed]",
            "text/plain": [
              "<Figure size 432x288 with 1 Axes>"
            ]
          },
          "metadata": {
            "tags": [],
            "needs_background": "light"
          }
        }
      ]
    },
    {
      "cell_type": "markdown",
      "metadata": {
        "id": "hVzs8sUH2uyk"
      },
      "source": [
        "bigger model is overfitted"
      ]
    },
    {
      "cell_type": "code",
      "metadata": {
        "colab": {
          "base_uri": "https://localhost:8080/",
          "height": 279
        },
        "id": "nplusiue2tjJ",
        "outputId": "4ce07c70-5bdb-4182-c22d-a500368f03c6"
      },
      "source": [
        "original_train_loss = original_hist.history['loss']\n",
        "bigger_model_train_loss = bigger_model_hist.history['loss']\n",
        "\n",
        "plt.plot(epochs, original_train_loss, 'b+', label='Original model')\n",
        "plt.plot(epochs, bigger_model_train_loss, 'bo', label='Bigger model')\n",
        "plt.xlabel('Epochs')\n",
        "plt.ylabel('Training loss')\n",
        "plt.legend()\n",
        "\n",
        "plt.show()"
      ],
      "execution_count": 23,
      "outputs": [
        {
          "output_type": "display_data",
          "data": {
            "image/png": "[encoded data removed]",
            "text/plain": [
              "<Figure size 432x288 with 1 Axes>"
            ]
          },
          "metadata": {
            "tags": [],
            "needs_background": "light"
          }
        }
      ]
    },
    {
      "cell_type": "code",
      "metadata": {
        "id": "QsbIXTSN2xFj"
      },
      "source": [
        "from tensorflow.keras import regularizers\n",
        "\n",
        "l2_model = models.Sequential()\n",
        "l2_model.add(layers.Dense(16, kernel_regularizer=regularizers.l2(0.001),\n",
        "                          activation='relu', input_shape=(10000,)))\n",
        "l2_model.add(layers.Dense(16, kernel_regularizer=regularizers.l2(0.001),\n",
        "                          activation='relu'))\n",
        "l2_model.add(layers.Dense(1, activation='sigmoid'))"
      ],
      "execution_count": 24,
      "outputs": []
    },
    {
      "cell_type": "code",
      "metadata": {
        "id": "ubkdjBdn3OnJ"
      },
      "source": [
        "l2_model.compile(optimizer='rmsprop',\n",
        "                 loss='binary_crossentropy',\n",
        "                 metrics=['acc'])"
      ],
      "execution_count": 25,
      "outputs": []
    },
    {
      "cell_type": "code",
      "metadata": {
        "colab": {
          "base_uri": "https://localhost:8080/"
        },
        "id": "VIdXk_jh3PdY",
        "outputId": "f1f51145-e38b-49da-b713-4a608c49c159"
      },
      "source": [
        "l2_model_hist = l2_model.fit(x_train, y_train,\n",
        "                             epochs=20,\n",
        "                             batch_size=512,\n",
        "                             validation_data=(x_test, y_test))"
      ],
      "execution_count": 26,
      "outputs": [
        {
          "output_type": "stream",
          "text": [
            "Epoch 1/20\n",
            "49/49 [==============================] - 5s 87ms/step - loss: 0.5952 - acc: 0.7297 - val_loss: 0.3829 - val_acc: 0.8832\n",
            "Epoch 2/20\n",
            "49/49 [==============================] - 2s 37ms/step - loss: 0.3255 - acc: 0.9075 - val_loss: 0.3377 - val_acc: 0.8894\n",
            "Epoch 3/20\n",
            "49/49 [==============================] - 2s 35ms/step - loss: 0.2714 - acc: 0.9232 - val_loss: 0.3352 - val_acc: 0.8854\n",
            "Epoch 4/20\n",
            "49/49 [==============================] - 2s 35ms/step - loss: 0.2466 - acc: 0.9335 - val_loss: 0.3849 - val_acc: 0.8648\n",
            "Epoch 5/20\n",
            "49/49 [==============================] - 2s 35ms/step - loss: 0.2308 - acc: 0.9393 - val_loss: 0.3469 - val_acc: 0.8814\n",
            "Epoch 6/20\n",
            "49/49 [==============================] - 2s 35ms/step - loss: 0.2245 - acc: 0.9398 - val_loss: 0.3622 - val_acc: 0.8758\n",
            "Epoch 7/20\n",
            "49/49 [==============================] - 2s 36ms/step - loss: 0.2177 - acc: 0.9433 - val_loss: 0.3657 - val_acc: 0.8762\n",
            "Epoch 8/20\n",
            "49/49 [==============================] - 2s 36ms/step - loss: 0.2106 - acc: 0.9470 - val_loss: 0.3633 - val_acc: 0.8786\n",
            "Epoch 9/20\n",
            "49/49 [==============================] - 2s 36ms/step - loss: 0.2003 - acc: 0.9525 - val_loss: 0.3720 - val_acc: 0.8758\n",
            "Epoch 10/20\n",
            "49/49 [==============================] - 2s 36ms/step - loss: 0.1903 - acc: 0.9556 - val_loss: 0.3982 - val_acc: 0.8666\n",
            "Epoch 11/20\n",
            "49/49 [==============================] - 2s 37ms/step - loss: 0.2006 - acc: 0.9491 - val_loss: 0.3825 - val_acc: 0.8734\n",
            "Epoch 12/20\n",
            "49/49 [==============================] - 2s 37ms/step - loss: 0.1892 - acc: 0.9553 - val_loss: 0.3873 - val_acc: 0.8738\n",
            "Epoch 13/20\n",
            "49/49 [==============================] - 2s 35ms/step - loss: 0.1898 - acc: 0.9549 - val_loss: 0.3943 - val_acc: 0.8728\n",
            "Epoch 14/20\n",
            "49/49 [==============================] - 2s 35ms/step - loss: 0.1825 - acc: 0.9571 - val_loss: 0.4120 - val_acc: 0.8688\n",
            "Epoch 15/20\n",
            "49/49 [==============================] - 2s 35ms/step - loss: 0.1843 - acc: 0.9543 - val_loss: 0.4032 - val_acc: 0.8700\n",
            "Epoch 16/20\n",
            "49/49 [==============================] - 2s 36ms/step - loss: 0.1782 - acc: 0.9596 - val_loss: 0.4142 - val_acc: 0.8686\n",
            "Epoch 17/20\n",
            "49/49 [==============================] - 2s 35ms/step - loss: 0.1730 - acc: 0.9623 - val_loss: 0.4388 - val_acc: 0.8647\n",
            "Epoch 18/20\n",
            "49/49 [==============================] - 2s 36ms/step - loss: 0.1772 - acc: 0.9584 - val_loss: 0.4700 - val_acc: 0.8588\n",
            "Epoch 19/20\n",
            "49/49 [==============================] - 2s 36ms/step - loss: 0.1739 - acc: 0.9597 - val_loss: 0.4412 - val_acc: 0.8646\n",
            "Epoch 20/20\n",
            "49/49 [==============================] - 2s 36ms/step - loss: 0.1726 - acc: 0.9598 - val_loss: 0.4275 - val_acc: 0.8682\n"
          ],
          "name": "stdout"
        }
      ]
    },
    {
      "cell_type": "code",
      "metadata": {
        "colab": {
          "base_uri": "https://localhost:8080/",
          "height": 279
        },
        "id": "AaiV1DMm3Qkv",
        "outputId": "9a7342c8-f680-483d-99f0-4903d8c0d7c0"
      },
      "source": [
        "l2_model_val_loss = l2_model_hist.history['val_loss']\n",
        "\n",
        "plt.plot(epochs, original_val_loss, 'b+', label='Original model')\n",
        "plt.plot(epochs, l2_model_val_loss, 'bo', label='L2-regularized model')\n",
        "plt.xlabel('Epochs')\n",
        "plt.ylabel('Validation loss')\n",
        "plt.legend()\n",
        "\n",
        "plt.show()"
      ],
      "execution_count": 27,
      "outputs": [
        {
          "output_type": "display_data",
          "data": {
            "image/png": "[encoded data removed]",
            "text/plain": [
              "<Figure size 432x288 with 1 Axes>"
            ]
          },
          "metadata": {
            "tags": [],
            "needs_background": "light"
          }
        }
      ]
    },
    {
      "cell_type": "code",
      "metadata": {
        "colab": {
          "base_uri": "https://localhost:8080/"
        },
        "id": "WN_Mb7Is3R5E",
        "outputId": "1affa038-277e-4d0f-9b42-4d87442049e9"
      },
      "source": [
        "from tensorflow.keras import regularizers\n",
        "\n",
        "# L1 regularization\n",
        "regularizers.l1(0.001)\n",
        "\n",
        "# L1 and L2 regularization at the same time\n",
        "regularizers.l1_l2(l1=0.001, l2=0.001)"
      ],
      "execution_count": 28,
      "outputs": [
        {
          "output_type": "execute_result",
          "data": {
            "text/plain": [
              "<tensorflow.python.keras.regularizers.L1L2 at 0x7f91deec6e90>"
            ]
          },
          "metadata": {
            "tags": []
          },
          "execution_count": 28
        }
      ]
    },
    {
      "cell_type": "code",
      "metadata": {
        "id": "aGj6V6NA3S-a"
      },
      "source": [
        ""
      ],
      "execution_count": null,
      "outputs": []
    }
  ]
}