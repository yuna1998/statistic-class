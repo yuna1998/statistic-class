{
  "nbformat": 4,
  "nbformat_minor": 0,
  "metadata": {
    "colab": {
      "name": "pivot_2021_03_23.ipynb",
      "provenance": [],
      "authorship_tag": "ABX9TyMbLuP7iPl0BKqWZ1kkSkHq",
      "include_colab_link": true
    },
    "kernelspec": {
      "name": "ir",
      "display_name": "R"
    },
    "language_info": {
      "name": "R"
    }
  },
  "cells": [
    {
      "cell_type": "markdown",
      "metadata": {
        "id": "view-in-github",
        "colab_type": "text"
      },
      "source": [
        "<a href=\"https://colab.research.google.com/github/yuna1998/statistic-class/blob/main/pivot_2021_03_23.ipynb\" target=\"_parent\"><img src=\"https://colab.research.google.com/assets/colab-badge.svg\" alt=\"Open In Colab\"/></a>"
      ]
    },
    {
      "cell_type": "code",
      "metadata": {
        "id": "6tRRk-6qh-nC"
      },
      "source": [
        "## Data Wrangling (tidyr)"
      ],
      "execution_count": null,
      "outputs": []
    },
    {
      "cell_type": "code",
      "metadata": {
        "id": "76iJ6XVbhFzr"
      },
      "source": [
        "##Pivoting : one variable might be spread across multiple columns(use pivot_longer())"
      ],
      "execution_count": 1,
      "outputs": []
    },
    {
      "cell_type": "code",
      "metadata": {
        "colab": {
          "base_uri": "https://localhost:8080/"
        },
        "id": "NWm7m7oUiB3r",
        "outputId": "66ff8e2f-58b1-4c17-fab8-20245937bda3"
      },
      "source": [
        "library(tidyverse)"
      ],
      "execution_count": 2,
      "outputs": [
        {
          "output_type": "stream",
          "text": [
            "Warning message in system(\"timedatectl\", intern = TRUE):\n",
            "“running command 'timedatectl' had status 1”\n",
            "── \u001b[1mAttaching packages\u001b[22m ─────────────────────────────────────── tidyverse 1.3.0 ──\n",
            "\n",
            "\u001b[32m✔\u001b[39m \u001b[34mggplot2\u001b[39m 3.3.3     \u001b[32m✔\u001b[39m \u001b[34mpurrr  \u001b[39m 0.3.4\n",
            "\u001b[32m✔\u001b[39m \u001b[34mtibble \u001b[39m 3.1.0     \u001b[32m✔\u001b[39m \u001b[34mdplyr  \u001b[39m 1.0.5\n",
            "\u001b[32m✔\u001b[39m \u001b[34mtidyr  \u001b[39m 1.1.3     \u001b[32m✔\u001b[39m \u001b[34mstringr\u001b[39m 1.4.0\n",
            "\u001b[32m✔\u001b[39m \u001b[34mreadr  \u001b[39m 1.4.0     \u001b[32m✔\u001b[39m \u001b[34mforcats\u001b[39m 0.5.1\n",
            "\n",
            "── \u001b[1mConflicts\u001b[22m ────────────────────────────────────────── tidyverse_conflicts() ──\n",
            "\u001b[31m✖\u001b[39m \u001b[34mdplyr\u001b[39m::\u001b[32mfilter()\u001b[39m masks \u001b[34mstats\u001b[39m::filter()\n",
            "\u001b[31m✖\u001b[39m \u001b[34mdplyr\u001b[39m::\u001b[32mlag()\u001b[39m    masks \u001b[34mstats\u001b[39m::lag()\n",
            "\n"
          ],
          "name": "stderr"
        }
      ]
    },
    {
      "cell_type": "code",
      "metadata": {
        "colab": {
          "base_uri": "https://localhost:8080/",
          "height": 281
        },
        "id": "IAP2lgOeiGDU",
        "outputId": "8655b47f-aee7-4876-bf3f-f1d48f5d7519"
      },
      "source": [
        "table1"
      ],
      "execution_count": 4,
      "outputs": [
        {
          "output_type": "display_data",
          "data": {
            "text/plain": [
              "  country     year cases  population\n",
              "1 Afghanistan 1999    745   19987071\n",
              "2 Afghanistan 2000   2666   20595360\n",
              "3 Brazil      1999  37737  172006362\n",
              "4 Brazil      2000  80488  174504898\n",
              "5 China       1999 212258 1272915272\n",
              "6 China       2000 213766 1280428583"
            ],
            "text/latex": "A tibble: 6 × 4\n\\begin{tabular}{llll}\n country & year & cases & population\\\\\n <chr> & <int> & <int> & <int>\\\\\n\\hline\n\t Afghanistan & 1999 &    745 &   19987071\\\\\n\t Afghanistan & 2000 &   2666 &   20595360\\\\\n\t Brazil      & 1999 &  37737 &  172006362\\\\\n\t Brazil      & 2000 &  80488 &  174504898\\\\\n\t China       & 1999 & 212258 & 1272915272\\\\\n\t China       & 2000 & 213766 & 1280428583\\\\\n\\end{tabular}\n",
            "text/markdown": "\nA tibble: 6 × 4\n\n| country &lt;chr&gt; | year &lt;int&gt; | cases &lt;int&gt; | population &lt;int&gt; |\n|---|---|---|---|\n| Afghanistan | 1999 |    745 |   19987071 |\n| Afghanistan | 2000 |   2666 |   20595360 |\n| Brazil      | 1999 |  37737 |  172006362 |\n| Brazil      | 2000 |  80488 |  174504898 |\n| China       | 1999 | 212258 | 1272915272 |\n| China       | 2000 | 213766 | 1280428583 |\n\n",
            "text/html": [
              "<table class=\"dataframe\">\n",
              "<caption>A tibble: 6 × 4</caption>\n",
              "<thead>\n",
              "\t<tr><th scope=col>country</th><th scope=col>year</th><th scope=col>cases</th><th scope=col>population</th></tr>\n",
              "\t<tr><th scope=col>&lt;chr&gt;</th><th scope=col>&lt;int&gt;</th><th scope=col>&lt;int&gt;</th><th scope=col>&lt;int&gt;</th></tr>\n",
              "</thead>\n",
              "<tbody>\n",
              "\t<tr><td>Afghanistan</td><td>1999</td><td>   745</td><td>  19987071</td></tr>\n",
              "\t<tr><td>Afghanistan</td><td>2000</td><td>  2666</td><td>  20595360</td></tr>\n",
              "\t<tr><td>Brazil     </td><td>1999</td><td> 37737</td><td> 172006362</td></tr>\n",
              "\t<tr><td>Brazil     </td><td>2000</td><td> 80488</td><td> 174504898</td></tr>\n",
              "\t<tr><td>China      </td><td>1999</td><td>212258</td><td>1272915272</td></tr>\n",
              "\t<tr><td>China      </td><td>2000</td><td>213766</td><td>1280428583</td></tr>\n",
              "</tbody>\n",
              "</table>\n"
            ]
          },
          "metadata": {
            "tags": []
          }
        }
      ]
    },
    {
      "cell_type": "code",
      "metadata": {
        "colab": {
          "base_uri": "https://localhost:8080/",
          "height": 465
        },
        "id": "CtktZtAQiJlx",
        "outputId": "44e1b983-1075-4f4a-e22d-aea3d31a28df"
      },
      "source": [
        "table2"
      ],
      "execution_count": 5,
      "outputs": [
        {
          "output_type": "display_data",
          "data": {
            "text/plain": [
              "   country     year type       count     \n",
              "1  Afghanistan 1999 cases             745\n",
              "2  Afghanistan 1999 population   19987071\n",
              "3  Afghanistan 2000 cases            2666\n",
              "4  Afghanistan 2000 population   20595360\n",
              "5  Brazil      1999 cases           37737\n",
              "6  Brazil      1999 population  172006362\n",
              "7  Brazil      2000 cases           80488\n",
              "8  Brazil      2000 population  174504898\n",
              "9  China       1999 cases          212258\n",
              "10 China       1999 population 1272915272\n",
              "11 China       2000 cases          213766\n",
              "12 China       2000 population 1280428583"
            ],
            "text/latex": "A tibble: 12 × 4\n\\begin{tabular}{llll}\n country & year & type & count\\\\\n <chr> & <int> & <chr> & <int>\\\\\n\\hline\n\t Afghanistan & 1999 & cases      &        745\\\\\n\t Afghanistan & 1999 & population &   19987071\\\\\n\t Afghanistan & 2000 & cases      &       2666\\\\\n\t Afghanistan & 2000 & population &   20595360\\\\\n\t Brazil      & 1999 & cases      &      37737\\\\\n\t Brazil      & 1999 & population &  172006362\\\\\n\t Brazil      & 2000 & cases      &      80488\\\\\n\t Brazil      & 2000 & population &  174504898\\\\\n\t China       & 1999 & cases      &     212258\\\\\n\t China       & 1999 & population & 1272915272\\\\\n\t China       & 2000 & cases      &     213766\\\\\n\t China       & 2000 & population & 1280428583\\\\\n\\end{tabular}\n",
            "text/markdown": "\nA tibble: 12 × 4\n\n| country &lt;chr&gt; | year &lt;int&gt; | type &lt;chr&gt; | count &lt;int&gt; |\n|---|---|---|---|\n| Afghanistan | 1999 | cases      |        745 |\n| Afghanistan | 1999 | population |   19987071 |\n| Afghanistan | 2000 | cases      |       2666 |\n| Afghanistan | 2000 | population |   20595360 |\n| Brazil      | 1999 | cases      |      37737 |\n| Brazil      | 1999 | population |  172006362 |\n| Brazil      | 2000 | cases      |      80488 |\n| Brazil      | 2000 | population |  174504898 |\n| China       | 1999 | cases      |     212258 |\n| China       | 1999 | population | 1272915272 |\n| China       | 2000 | cases      |     213766 |\n| China       | 2000 | population | 1280428583 |\n\n",
            "text/html": [
              "<table class=\"dataframe\">\n",
              "<caption>A tibble: 12 × 4</caption>\n",
              "<thead>\n",
              "\t<tr><th scope=col>country</th><th scope=col>year</th><th scope=col>type</th><th scope=col>count</th></tr>\n",
              "\t<tr><th scope=col>&lt;chr&gt;</th><th scope=col>&lt;int&gt;</th><th scope=col>&lt;chr&gt;</th><th scope=col>&lt;int&gt;</th></tr>\n",
              "</thead>\n",
              "<tbody>\n",
              "\t<tr><td>Afghanistan</td><td>1999</td><td>cases     </td><td>       745</td></tr>\n",
              "\t<tr><td>Afghanistan</td><td>1999</td><td>population</td><td>  19987071</td></tr>\n",
              "\t<tr><td>Afghanistan</td><td>2000</td><td>cases     </td><td>      2666</td></tr>\n",
              "\t<tr><td>Afghanistan</td><td>2000</td><td>population</td><td>  20595360</td></tr>\n",
              "\t<tr><td>Brazil     </td><td>1999</td><td>cases     </td><td>     37737</td></tr>\n",
              "\t<tr><td>Brazil     </td><td>1999</td><td>population</td><td> 172006362</td></tr>\n",
              "\t<tr><td>Brazil     </td><td>2000</td><td>cases     </td><td>     80488</td></tr>\n",
              "\t<tr><td>Brazil     </td><td>2000</td><td>population</td><td> 174504898</td></tr>\n",
              "\t<tr><td>China      </td><td>1999</td><td>cases     </td><td>    212258</td></tr>\n",
              "\t<tr><td>China      </td><td>1999</td><td>population</td><td>1272915272</td></tr>\n",
              "\t<tr><td>China      </td><td>2000</td><td>cases     </td><td>    213766</td></tr>\n",
              "\t<tr><td>China      </td><td>2000</td><td>population</td><td>1280428583</td></tr>\n",
              "</tbody>\n",
              "</table>\n"
            ]
          },
          "metadata": {
            "tags": []
          }
        }
      ]
    },
    {
      "cell_type": "code",
      "metadata": {
        "colab": {
          "base_uri": "https://localhost:8080/",
          "height": 281
        },
        "id": "VHlw-sBDiLHk",
        "outputId": "944838a4-d531-4ee1-fbf0-ae56c3b6e191"
      },
      "source": [
        "table3"
      ],
      "execution_count": 6,
      "outputs": [
        {
          "output_type": "display_data",
          "data": {
            "text/plain": [
              "  country     year rate             \n",
              "1 Afghanistan 1999 745/19987071     \n",
              "2 Afghanistan 2000 2666/20595360    \n",
              "3 Brazil      1999 37737/172006362  \n",
              "4 Brazil      2000 80488/174504898  \n",
              "5 China       1999 212258/1272915272\n",
              "6 China       2000 213766/1280428583"
            ],
            "text/latex": "A tibble: 6 × 3\n\\begin{tabular}{r|lll}\n  & country & year & rate\\\\\n  & <chr> & <int> & <chr>\\\\\n\\hline\n\t1 & Afghanistan & 1999 & 745/19987071     \\\\\n\t2 & Afghanistan & 2000 & 2666/20595360    \\\\\n\t3 & Brazil      & 1999 & 37737/172006362  \\\\\n\t4 & Brazil      & 2000 & 80488/174504898  \\\\\n\t5 & China       & 1999 & 212258/1272915272\\\\\n\t6 & China       & 2000 & 213766/1280428583\\\\\n\\end{tabular}\n",
            "text/markdown": "\nA tibble: 6 × 3\n\n| <!--/--> | country &lt;chr&gt; | year &lt;int&gt; | rate &lt;chr&gt; |\n|---|---|---|---|\n| 1 | Afghanistan | 1999 | 745/19987071      |\n| 2 | Afghanistan | 2000 | 2666/20595360     |\n| 3 | Brazil      | 1999 | 37737/172006362   |\n| 4 | Brazil      | 2000 | 80488/174504898   |\n| 5 | China       | 1999 | 212258/1272915272 |\n| 6 | China       | 2000 | 213766/1280428583 |\n\n",
            "text/html": [
              "<table class=\"dataframe\">\n",
              "<caption>A tibble: 6 × 3</caption>\n",
              "<thead>\n",
              "\t<tr><th></th><th scope=col>country</th><th scope=col>year</th><th scope=col>rate</th></tr>\n",
              "\t<tr><th></th><th scope=col>&lt;chr&gt;</th><th scope=col>&lt;int&gt;</th><th scope=col>&lt;chr&gt;</th></tr>\n",
              "</thead>\n",
              "<tbody>\n",
              "\t<tr><th scope=row>1</th><td>Afghanistan</td><td>1999</td><td>745/19987071     </td></tr>\n",
              "\t<tr><th scope=row>2</th><td>Afghanistan</td><td>2000</td><td>2666/20595360    </td></tr>\n",
              "\t<tr><th scope=row>3</th><td>Brazil     </td><td>1999</td><td>37737/172006362  </td></tr>\n",
              "\t<tr><th scope=row>4</th><td>Brazil     </td><td>2000</td><td>80488/174504898  </td></tr>\n",
              "\t<tr><th scope=row>5</th><td>China      </td><td>1999</td><td>212258/1272915272</td></tr>\n",
              "\t<tr><th scope=row>6</th><td>China      </td><td>2000</td><td>213766/1280428583</td></tr>\n",
              "</tbody>\n",
              "</table>\n"
            ]
          },
          "metadata": {
            "tags": []
          }
        }
      ]
    },
    {
      "cell_type": "code",
      "metadata": {
        "colab": {
          "base_uri": "https://localhost:8080/",
          "height": 189
        },
        "id": "2PYt5Wa3iNP0",
        "outputId": "8ba722c3-2644-4652-a4d0-e6ce8624fc5d"
      },
      "source": [
        "table4a"
      ],
      "execution_count": 8,
      "outputs": [
        {
          "output_type": "display_data",
          "data": {
            "text/plain": [
              "  country     1999   2000  \n",
              "1 Afghanistan    745   2666\n",
              "2 Brazil       37737  80488\n",
              "3 China       212258 213766"
            ],
            "text/latex": "A tibble: 3 × 3\n\\begin{tabular}{r|lll}\n  & country & 1999 & 2000\\\\\n  & <chr> & <int> & <int>\\\\\n\\hline\n\t1 & Afghanistan &    745 &   2666\\\\\n\t2 & Brazil      &  37737 &  80488\\\\\n\t3 & China       & 212258 & 213766\\\\\n\\end{tabular}\n",
            "text/markdown": "\nA tibble: 3 × 3\n\n| <!--/--> | country &lt;chr&gt; | 1999 &lt;int&gt; | 2000 &lt;int&gt; |\n|---|---|---|---|\n| 1 | Afghanistan |    745 |   2666 |\n| 2 | Brazil      |  37737 |  80488 |\n| 3 | China       | 212258 | 213766 |\n\n",
            "text/html": [
              "<table class=\"dataframe\">\n",
              "<caption>A tibble: 3 × 3</caption>\n",
              "<thead>\n",
              "\t<tr><th></th><th scope=col>country</th><th scope=col>1999</th><th scope=col>2000</th></tr>\n",
              "\t<tr><th></th><th scope=col>&lt;chr&gt;</th><th scope=col>&lt;int&gt;</th><th scope=col>&lt;int&gt;</th></tr>\n",
              "</thead>\n",
              "<tbody>\n",
              "\t<tr><th scope=row>1</th><td>Afghanistan</td><td>   745</td><td>  2666</td></tr>\n",
              "\t<tr><th scope=row>2</th><td>Brazil     </td><td> 37737</td><td> 80488</td></tr>\n",
              "\t<tr><th scope=row>3</th><td>China      </td><td>212258</td><td>213766</td></tr>\n",
              "</tbody>\n",
              "</table>\n"
            ]
          },
          "metadata": {
            "tags": []
          }
        }
      ]
    },
    {
      "cell_type": "code",
      "metadata": {
        "colab": {
          "base_uri": "https://localhost:8080/",
          "height": 189
        },
        "id": "h2RhUk7FiQJB",
        "outputId": "891562f3-7c6f-42ae-c642-7d5aef3f8fb8"
      },
      "source": [
        "table4b"
      ],
      "execution_count": 9,
      "outputs": [
        {
          "output_type": "display_data",
          "data": {
            "text/plain": [
              "  country     1999       2000      \n",
              "1 Afghanistan   19987071   20595360\n",
              "2 Brazil       172006362  174504898\n",
              "3 China       1272915272 1280428583"
            ],
            "text/latex": "A tibble: 3 × 3\n\\begin{tabular}{r|lll}\n  & country & 1999 & 2000\\\\\n  & <chr> & <int> & <int>\\\\\n\\hline\n\t1 & Afghanistan &   19987071 &   20595360\\\\\n\t2 & Brazil      &  172006362 &  174504898\\\\\n\t3 & China       & 1272915272 & 1280428583\\\\\n\\end{tabular}\n",
            "text/markdown": "\nA tibble: 3 × 3\n\n| <!--/--> | country &lt;chr&gt; | 1999 &lt;int&gt; | 2000 &lt;int&gt; |\n|---|---|---|---|\n| 1 | Afghanistan |   19987071 |   20595360 |\n| 2 | Brazil      |  172006362 |  174504898 |\n| 3 | China       | 1272915272 | 1280428583 |\n\n",
            "text/html": [
              "<table class=\"dataframe\">\n",
              "<caption>A tibble: 3 × 3</caption>\n",
              "<thead>\n",
              "\t<tr><th></th><th scope=col>country</th><th scope=col>1999</th><th scope=col>2000</th></tr>\n",
              "\t<tr><th></th><th scope=col>&lt;chr&gt;</th><th scope=col>&lt;int&gt;</th><th scope=col>&lt;int&gt;</th></tr>\n",
              "</thead>\n",
              "<tbody>\n",
              "\t<tr><th scope=row>1</th><td>Afghanistan</td><td>  19987071</td><td>  20595360</td></tr>\n",
              "\t<tr><th scope=row>2</th><td>Brazil     </td><td> 172006362</td><td> 174504898</td></tr>\n",
              "\t<tr><th scope=row>3</th><td>China      </td><td>1272915272</td><td>1280428583</td></tr>\n",
              "</tbody>\n",
              "</table>\n"
            ]
          },
          "metadata": {
            "tags": []
          }
        }
      ]
    },
    {
      "cell_type": "code",
      "metadata": {
        "id": "_9TlpvtViSnf"
      },
      "source": [
        "##pivot_longer\n",
        "## one variable might be spread across multiple columns\n",
        "## apply pivot_longer() to table4a"
      ],
      "execution_count": null,
      "outputs": []
    },
    {
      "cell_type": "code",
      "metadata": {
        "colab": {
          "base_uri": "https://localhost:8080/",
          "height": 281
        },
        "id": "1xPWFdYshzEX",
        "outputId": "4f1dd6b7-589d-4f33-d255-52387391eb60"
      },
      "source": [
        "table4a %>%\n",
        "    pivot_longer(c('1999','2000'), names_to = \"year\", values_to= \"cases\")"
      ],
      "execution_count": 11,
      "outputs": [
        {
          "output_type": "display_data",
          "data": {
            "text/plain": [
              "  country     year cases \n",
              "1 Afghanistan 1999    745\n",
              "2 Afghanistan 2000   2666\n",
              "3 Brazil      1999  37737\n",
              "4 Brazil      2000  80488\n",
              "5 China       1999 212258\n",
              "6 China       2000 213766"
            ],
            "text/latex": "A tibble: 6 × 3\n\\begin{tabular}{lll}\n country & year & cases\\\\\n <chr> & <chr> & <int>\\\\\n\\hline\n\t Afghanistan & 1999 &    745\\\\\n\t Afghanistan & 2000 &   2666\\\\\n\t Brazil      & 1999 &  37737\\\\\n\t Brazil      & 2000 &  80488\\\\\n\t China       & 1999 & 212258\\\\\n\t China       & 2000 & 213766\\\\\n\\end{tabular}\n",
            "text/markdown": "\nA tibble: 6 × 3\n\n| country &lt;chr&gt; | year &lt;chr&gt; | cases &lt;int&gt; |\n|---|---|---|\n| Afghanistan | 1999 |    745 |\n| Afghanistan | 2000 |   2666 |\n| Brazil      | 1999 |  37737 |\n| Brazil      | 2000 |  80488 |\n| China       | 1999 | 212258 |\n| China       | 2000 | 213766 |\n\n",
            "text/html": [
              "<table class=\"dataframe\">\n",
              "<caption>A tibble: 6 × 3</caption>\n",
              "<thead>\n",
              "\t<tr><th scope=col>country</th><th scope=col>year</th><th scope=col>cases</th></tr>\n",
              "\t<tr><th scope=col>&lt;chr&gt;</th><th scope=col>&lt;chr&gt;</th><th scope=col>&lt;int&gt;</th></tr>\n",
              "</thead>\n",
              "<tbody>\n",
              "\t<tr><td>Afghanistan</td><td>1999</td><td>   745</td></tr>\n",
              "\t<tr><td>Afghanistan</td><td>2000</td><td>  2666</td></tr>\n",
              "\t<tr><td>Brazil     </td><td>1999</td><td> 37737</td></tr>\n",
              "\t<tr><td>Brazil     </td><td>2000</td><td> 80488</td></tr>\n",
              "\t<tr><td>China      </td><td>1999</td><td>212258</td></tr>\n",
              "\t<tr><td>China      </td><td>2000</td><td>213766</td></tr>\n",
              "</tbody>\n",
              "</table>\n"
            ]
          },
          "metadata": {
            "tags": []
          }
        }
      ]
    },
    {
      "cell_type": "code",
      "metadata": {
        "id": "01qbZGqIiiVr"
      },
      "source": [
        "## apply it to table 4b"
      ],
      "execution_count": 12,
      "outputs": []
    },
    {
      "cell_type": "code",
      "metadata": {
        "colab": {
          "base_uri": "https://localhost:8080/",
          "height": 281
        },
        "id": "v5HtmkLZir3h",
        "outputId": "68463c7d-6d8b-45c9-fd3f-1690d3c1dfa2"
      },
      "source": [
        "table4b %>%\n",
        "    pivot_longer(c('1999','2000'), names_to= \"year\",values_to=\"population\")"
      ],
      "execution_count": 13,
      "outputs": [
        {
          "output_type": "display_data",
          "data": {
            "text/plain": [
              "  country     year population\n",
              "1 Afghanistan 1999   19987071\n",
              "2 Afghanistan 2000   20595360\n",
              "3 Brazil      1999  172006362\n",
              "4 Brazil      2000  174504898\n",
              "5 China       1999 1272915272\n",
              "6 China       2000 1280428583"
            ],
            "text/latex": "A tibble: 6 × 3\n\\begin{tabular}{lll}\n country & year & population\\\\\n <chr> & <chr> & <int>\\\\\n\\hline\n\t Afghanistan & 1999 &   19987071\\\\\n\t Afghanistan & 2000 &   20595360\\\\\n\t Brazil      & 1999 &  172006362\\\\\n\t Brazil      & 2000 &  174504898\\\\\n\t China       & 1999 & 1272915272\\\\\n\t China       & 2000 & 1280428583\\\\\n\\end{tabular}\n",
            "text/markdown": "\nA tibble: 6 × 3\n\n| country &lt;chr&gt; | year &lt;chr&gt; | population &lt;int&gt; |\n|---|---|---|\n| Afghanistan | 1999 |   19987071 |\n| Afghanistan | 2000 |   20595360 |\n| Brazil      | 1999 |  172006362 |\n| Brazil      | 2000 |  174504898 |\n| China       | 1999 | 1272915272 |\n| China       | 2000 | 1280428583 |\n\n",
            "text/html": [
              "<table class=\"dataframe\">\n",
              "<caption>A tibble: 6 × 3</caption>\n",
              "<thead>\n",
              "\t<tr><th scope=col>country</th><th scope=col>year</th><th scope=col>population</th></tr>\n",
              "\t<tr><th scope=col>&lt;chr&gt;</th><th scope=col>&lt;chr&gt;</th><th scope=col>&lt;int&gt;</th></tr>\n",
              "</thead>\n",
              "<tbody>\n",
              "\t<tr><td>Afghanistan</td><td>1999</td><td>  19987071</td></tr>\n",
              "\t<tr><td>Afghanistan</td><td>2000</td><td>  20595360</td></tr>\n",
              "\t<tr><td>Brazil     </td><td>1999</td><td> 172006362</td></tr>\n",
              "\t<tr><td>Brazil     </td><td>2000</td><td> 174504898</td></tr>\n",
              "\t<tr><td>China      </td><td>1999</td><td>1272915272</td></tr>\n",
              "\t<tr><td>China      </td><td>2000</td><td>1280428583</td></tr>\n",
              "</tbody>\n",
              "</table>\n"
            ]
          },
          "metadata": {
            "tags": []
          }
        }
      ]
    },
    {
      "cell_type": "code",
      "metadata": {
        "id": "HMNDdbXqi5SO"
      },
      "source": [
        "## join two tables"
      ],
      "execution_count": 14,
      "outputs": []
    },
    {
      "cell_type": "code",
      "metadata": {
        "colab": {
          "base_uri": "https://localhost:8080/",
          "height": 318
        },
        "id": "9L567a7Ai7pB",
        "outputId": "5c7478e5-4212-45b1-da0d-912d67a9e629"
      },
      "source": [
        "tidy4a <- table4a %>%\n",
        "    pivot_longer(c('1999','2000'), names_to = 'year', values_to='cases')\n",
        "\n",
        "tidy4b <- table4b %>%\n",
        "    pivot_longer(c('1999','2000'), names_to='year',values_to='population')\n",
        "\n",
        "left_join(tidy4a, tidy4b)"
      ],
      "execution_count": 15,
      "outputs": [
        {
          "output_type": "stream",
          "text": [
            "Joining, by = c(\"country\", \"year\")\n",
            "\n"
          ],
          "name": "stderr"
        },
        {
          "output_type": "display_data",
          "data": {
            "text/plain": [
              "  country     year cases  population\n",
              "1 Afghanistan 1999    745   19987071\n",
              "2 Afghanistan 2000   2666   20595360\n",
              "3 Brazil      1999  37737  172006362\n",
              "4 Brazil      2000  80488  174504898\n",
              "5 China       1999 212258 1272915272\n",
              "6 China       2000 213766 1280428583"
            ],
            "text/latex": "A tibble: 6 × 4\n\\begin{tabular}{llll}\n country & year & cases & population\\\\\n <chr> & <chr> & <int> & <int>\\\\\n\\hline\n\t Afghanistan & 1999 &    745 &   19987071\\\\\n\t Afghanistan & 2000 &   2666 &   20595360\\\\\n\t Brazil      & 1999 &  37737 &  172006362\\\\\n\t Brazil      & 2000 &  80488 &  174504898\\\\\n\t China       & 1999 & 212258 & 1272915272\\\\\n\t China       & 2000 & 213766 & 1280428583\\\\\n\\end{tabular}\n",
            "text/markdown": "\nA tibble: 6 × 4\n\n| country &lt;chr&gt; | year &lt;chr&gt; | cases &lt;int&gt; | population &lt;int&gt; |\n|---|---|---|---|\n| Afghanistan | 1999 |    745 |   19987071 |\n| Afghanistan | 2000 |   2666 |   20595360 |\n| Brazil      | 1999 |  37737 |  172006362 |\n| Brazil      | 2000 |  80488 |  174504898 |\n| China       | 1999 | 212258 | 1272915272 |\n| China       | 2000 | 213766 | 1280428583 |\n\n",
            "text/html": [
              "<table class=\"dataframe\">\n",
              "<caption>A tibble: 6 × 4</caption>\n",
              "<thead>\n",
              "\t<tr><th scope=col>country</th><th scope=col>year</th><th scope=col>cases</th><th scope=col>population</th></tr>\n",
              "\t<tr><th scope=col>&lt;chr&gt;</th><th scope=col>&lt;chr&gt;</th><th scope=col>&lt;int&gt;</th><th scope=col>&lt;int&gt;</th></tr>\n",
              "</thead>\n",
              "<tbody>\n",
              "\t<tr><td>Afghanistan</td><td>1999</td><td>   745</td><td>  19987071</td></tr>\n",
              "\t<tr><td>Afghanistan</td><td>2000</td><td>  2666</td><td>  20595360</td></tr>\n",
              "\t<tr><td>Brazil     </td><td>1999</td><td> 37737</td><td> 172006362</td></tr>\n",
              "\t<tr><td>Brazil     </td><td>2000</td><td> 80488</td><td> 174504898</td></tr>\n",
              "\t<tr><td>China      </td><td>1999</td><td>212258</td><td>1272915272</td></tr>\n",
              "\t<tr><td>China      </td><td>2000</td><td>213766</td><td>1280428583</td></tr>\n",
              "</tbody>\n",
              "</table>\n"
            ]
          },
          "metadata": {
            "tags": []
          }
        }
      ]
    },
    {
      "cell_type": "code",
      "metadata": {
        "id": "5T8M3R3LjcXB"
      },
      "source": [
        "##left one is the key"
      ],
      "execution_count": null,
      "outputs": []
    },
    {
      "cell_type": "code",
      "metadata": {
        "id": "YzZJV9J-jQZc"
      },
      "source": [
        "## What is right_join? try"
      ],
      "execution_count": 16,
      "outputs": []
    },
    {
      "cell_type": "code",
      "metadata": {
        "colab": {
          "base_uri": "https://localhost:8080/",
          "height": 318
        },
        "id": "o1zSdRtgjXS7",
        "outputId": "0b3e693b-ca7c-4050-dae1-d32f0b342ecf"
      },
      "source": [
        "right_join(tidy4a, tidy4b)"
      ],
      "execution_count": 17,
      "outputs": [
        {
          "output_type": "stream",
          "text": [
            "Joining, by = c(\"country\", \"year\")\n",
            "\n"
          ],
          "name": "stderr"
        },
        {
          "output_type": "display_data",
          "data": {
            "text/plain": [
              "  country     year cases  population\n",
              "1 Afghanistan 1999    745   19987071\n",
              "2 Afghanistan 2000   2666   20595360\n",
              "3 Brazil      1999  37737  172006362\n",
              "4 Brazil      2000  80488  174504898\n",
              "5 China       1999 212258 1272915272\n",
              "6 China       2000 213766 1280428583"
            ],
            "text/latex": "A tibble: 6 × 4\n\\begin{tabular}{llll}\n country & year & cases & population\\\\\n <chr> & <chr> & <int> & <int>\\\\\n\\hline\n\t Afghanistan & 1999 &    745 &   19987071\\\\\n\t Afghanistan & 2000 &   2666 &   20595360\\\\\n\t Brazil      & 1999 &  37737 &  172006362\\\\\n\t Brazil      & 2000 &  80488 &  174504898\\\\\n\t China       & 1999 & 212258 & 1272915272\\\\\n\t China       & 2000 & 213766 & 1280428583\\\\\n\\end{tabular}\n",
            "text/markdown": "\nA tibble: 6 × 4\n\n| country &lt;chr&gt; | year &lt;chr&gt; | cases &lt;int&gt; | population &lt;int&gt; |\n|---|---|---|---|\n| Afghanistan | 1999 |    745 |   19987071 |\n| Afghanistan | 2000 |   2666 |   20595360 |\n| Brazil      | 1999 |  37737 |  172006362 |\n| Brazil      | 2000 |  80488 |  174504898 |\n| China       | 1999 | 212258 | 1272915272 |\n| China       | 2000 | 213766 | 1280428583 |\n\n",
            "text/html": [
              "<table class=\"dataframe\">\n",
              "<caption>A tibble: 6 × 4</caption>\n",
              "<thead>\n",
              "\t<tr><th scope=col>country</th><th scope=col>year</th><th scope=col>cases</th><th scope=col>population</th></tr>\n",
              "\t<tr><th scope=col>&lt;chr&gt;</th><th scope=col>&lt;chr&gt;</th><th scope=col>&lt;int&gt;</th><th scope=col>&lt;int&gt;</th></tr>\n",
              "</thead>\n",
              "<tbody>\n",
              "\t<tr><td>Afghanistan</td><td>1999</td><td>   745</td><td>  19987071</td></tr>\n",
              "\t<tr><td>Afghanistan</td><td>2000</td><td>  2666</td><td>  20595360</td></tr>\n",
              "\t<tr><td>Brazil     </td><td>1999</td><td> 37737</td><td> 172006362</td></tr>\n",
              "\t<tr><td>Brazil     </td><td>2000</td><td> 80488</td><td> 174504898</td></tr>\n",
              "\t<tr><td>China      </td><td>1999</td><td>212258</td><td>1272915272</td></tr>\n",
              "\t<tr><td>China      </td><td>2000</td><td>213766</td><td>1280428583</td></tr>\n",
              "</tbody>\n",
              "</table>\n"
            ]
          },
          "metadata": {
            "tags": []
          }
        }
      ]
    },
    {
      "cell_type": "code",
      "metadata": {
        "id": "myQo-1TPjmfj"
      },
      "source": [
        "##pivot_wider()\n",
        "## one observation might be scattered across multiple rows"
      ],
      "execution_count": 18,
      "outputs": []
    },
    {
      "cell_type": "code",
      "metadata": {
        "colab": {
          "base_uri": "https://localhost:8080/",
          "height": 465
        },
        "id": "486hpI1Qjr1P",
        "outputId": "5d389c78-3938-4fd1-9e4c-867382533035"
      },
      "source": [
        "table2"
      ],
      "execution_count": 19,
      "outputs": [
        {
          "output_type": "display_data",
          "data": {
            "text/plain": [
              "   country     year type       count     \n",
              "1  Afghanistan 1999 cases             745\n",
              "2  Afghanistan 1999 population   19987071\n",
              "3  Afghanistan 2000 cases            2666\n",
              "4  Afghanistan 2000 population   20595360\n",
              "5  Brazil      1999 cases           37737\n",
              "6  Brazil      1999 population  172006362\n",
              "7  Brazil      2000 cases           80488\n",
              "8  Brazil      2000 population  174504898\n",
              "9  China       1999 cases          212258\n",
              "10 China       1999 population 1272915272\n",
              "11 China       2000 cases          213766\n",
              "12 China       2000 population 1280428583"
            ],
            "text/latex": "A tibble: 12 × 4\n\\begin{tabular}{llll}\n country & year & type & count\\\\\n <chr> & <int> & <chr> & <int>\\\\\n\\hline\n\t Afghanistan & 1999 & cases      &        745\\\\\n\t Afghanistan & 1999 & population &   19987071\\\\\n\t Afghanistan & 2000 & cases      &       2666\\\\\n\t Afghanistan & 2000 & population &   20595360\\\\\n\t Brazil      & 1999 & cases      &      37737\\\\\n\t Brazil      & 1999 & population &  172006362\\\\\n\t Brazil      & 2000 & cases      &      80488\\\\\n\t Brazil      & 2000 & population &  174504898\\\\\n\t China       & 1999 & cases      &     212258\\\\\n\t China       & 1999 & population & 1272915272\\\\\n\t China       & 2000 & cases      &     213766\\\\\n\t China       & 2000 & population & 1280428583\\\\\n\\end{tabular}\n",
            "text/markdown": "\nA tibble: 12 × 4\n\n| country &lt;chr&gt; | year &lt;int&gt; | type &lt;chr&gt; | count &lt;int&gt; |\n|---|---|---|---|\n| Afghanistan | 1999 | cases      |        745 |\n| Afghanistan | 1999 | population |   19987071 |\n| Afghanistan | 2000 | cases      |       2666 |\n| Afghanistan | 2000 | population |   20595360 |\n| Brazil      | 1999 | cases      |      37737 |\n| Brazil      | 1999 | population |  172006362 |\n| Brazil      | 2000 | cases      |      80488 |\n| Brazil      | 2000 | population |  174504898 |\n| China       | 1999 | cases      |     212258 |\n| China       | 1999 | population | 1272915272 |\n| China       | 2000 | cases      |     213766 |\n| China       | 2000 | population | 1280428583 |\n\n",
            "text/html": [
              "<table class=\"dataframe\">\n",
              "<caption>A tibble: 12 × 4</caption>\n",
              "<thead>\n",
              "\t<tr><th scope=col>country</th><th scope=col>year</th><th scope=col>type</th><th scope=col>count</th></tr>\n",
              "\t<tr><th scope=col>&lt;chr&gt;</th><th scope=col>&lt;int&gt;</th><th scope=col>&lt;chr&gt;</th><th scope=col>&lt;int&gt;</th></tr>\n",
              "</thead>\n",
              "<tbody>\n",
              "\t<tr><td>Afghanistan</td><td>1999</td><td>cases     </td><td>       745</td></tr>\n",
              "\t<tr><td>Afghanistan</td><td>1999</td><td>population</td><td>  19987071</td></tr>\n",
              "\t<tr><td>Afghanistan</td><td>2000</td><td>cases     </td><td>      2666</td></tr>\n",
              "\t<tr><td>Afghanistan</td><td>2000</td><td>population</td><td>  20595360</td></tr>\n",
              "\t<tr><td>Brazil     </td><td>1999</td><td>cases     </td><td>     37737</td></tr>\n",
              "\t<tr><td>Brazil     </td><td>1999</td><td>population</td><td> 172006362</td></tr>\n",
              "\t<tr><td>Brazil     </td><td>2000</td><td>cases     </td><td>     80488</td></tr>\n",
              "\t<tr><td>Brazil     </td><td>2000</td><td>population</td><td> 174504898</td></tr>\n",
              "\t<tr><td>China      </td><td>1999</td><td>cases     </td><td>    212258</td></tr>\n",
              "\t<tr><td>China      </td><td>1999</td><td>population</td><td>1272915272</td></tr>\n",
              "\t<tr><td>China      </td><td>2000</td><td>cases     </td><td>    213766</td></tr>\n",
              "\t<tr><td>China      </td><td>2000</td><td>population</td><td>1280428583</td></tr>\n",
              "</tbody>\n",
              "</table>\n"
            ]
          },
          "metadata": {
            "tags": []
          }
        }
      ]
    },
    {
      "cell_type": "code",
      "metadata": {
        "colab": {
          "base_uri": "https://localhost:8080/",
          "height": 281
        },
        "id": "1EsDXmT1js4c",
        "outputId": "28b04260-b779-4f52-9cee-aa2477a94382"
      },
      "source": [
        "table2 %>% pivot_wider(names_from = type, values_from = count)"
      ],
      "execution_count": 20,
      "outputs": [
        {
          "output_type": "display_data",
          "data": {
            "text/plain": [
              "  country     year cases  population\n",
              "1 Afghanistan 1999    745   19987071\n",
              "2 Afghanistan 2000   2666   20595360\n",
              "3 Brazil      1999  37737  172006362\n",
              "4 Brazil      2000  80488  174504898\n",
              "5 China       1999 212258 1272915272\n",
              "6 China       2000 213766 1280428583"
            ],
            "text/latex": "A tibble: 6 × 4\n\\begin{tabular}{llll}\n country & year & cases & population\\\\\n <chr> & <int> & <int> & <int>\\\\\n\\hline\n\t Afghanistan & 1999 &    745 &   19987071\\\\\n\t Afghanistan & 2000 &   2666 &   20595360\\\\\n\t Brazil      & 1999 &  37737 &  172006362\\\\\n\t Brazil      & 2000 &  80488 &  174504898\\\\\n\t China       & 1999 & 212258 & 1272915272\\\\\n\t China       & 2000 & 213766 & 1280428583\\\\\n\\end{tabular}\n",
            "text/markdown": "\nA tibble: 6 × 4\n\n| country &lt;chr&gt; | year &lt;int&gt; | cases &lt;int&gt; | population &lt;int&gt; |\n|---|---|---|---|\n| Afghanistan | 1999 |    745 |   19987071 |\n| Afghanistan | 2000 |   2666 |   20595360 |\n| Brazil      | 1999 |  37737 |  172006362 |\n| Brazil      | 2000 |  80488 |  174504898 |\n| China       | 1999 | 212258 | 1272915272 |\n| China       | 2000 | 213766 | 1280428583 |\n\n",
            "text/html": [
              "<table class=\"dataframe\">\n",
              "<caption>A tibble: 6 × 4</caption>\n",
              "<thead>\n",
              "\t<tr><th scope=col>country</th><th scope=col>year</th><th scope=col>cases</th><th scope=col>population</th></tr>\n",
              "\t<tr><th scope=col>&lt;chr&gt;</th><th scope=col>&lt;int&gt;</th><th scope=col>&lt;int&gt;</th><th scope=col>&lt;int&gt;</th></tr>\n",
              "</thead>\n",
              "<tbody>\n",
              "\t<tr><td>Afghanistan</td><td>1999</td><td>   745</td><td>  19987071</td></tr>\n",
              "\t<tr><td>Afghanistan</td><td>2000</td><td>  2666</td><td>  20595360</td></tr>\n",
              "\t<tr><td>Brazil     </td><td>1999</td><td> 37737</td><td> 172006362</td></tr>\n",
              "\t<tr><td>Brazil     </td><td>2000</td><td> 80488</td><td> 174504898</td></tr>\n",
              "\t<tr><td>China      </td><td>1999</td><td>212258</td><td>1272915272</td></tr>\n",
              "\t<tr><td>China      </td><td>2000</td><td>213766</td><td>1280428583</td></tr>\n",
              "</tbody>\n",
              "</table>\n"
            ]
          },
          "metadata": {
            "tags": []
          }
        }
      ]
    },
    {
      "cell_type": "code",
      "metadata": {
        "colab": {
          "base_uri": "https://localhost:8080/",
          "height": 219
        },
        "id": "t3HuUoixjzrG",
        "outputId": "c59a6c06-4cdb-4d2e-be66-2daae0e3e2a9"
      },
      "source": [
        "table2 %>% pivot_wider(names_from = country, values_from = count)"
      ],
      "execution_count": 21,
      "outputs": [
        {
          "output_type": "display_data",
          "data": {
            "text/plain": [
              "  year type       Afghanistan Brazil    China     \n",
              "1 1999 cases           745        37737     212258\n",
              "2 1999 population 19987071    172006362 1272915272\n",
              "3 2000 cases          2666        80488     213766\n",
              "4 2000 population 20595360    174504898 1280428583"
            ],
            "text/latex": "A tibble: 4 × 5\n\\begin{tabular}{lllll}\n year & type & Afghanistan & Brazil & China\\\\\n <int> & <chr> & <int> & <int> & <int>\\\\\n\\hline\n\t 1999 & cases      &      745 &     37737 &     212258\\\\\n\t 1999 & population & 19987071 & 172006362 & 1272915272\\\\\n\t 2000 & cases      &     2666 &     80488 &     213766\\\\\n\t 2000 & population & 20595360 & 174504898 & 1280428583\\\\\n\\end{tabular}\n",
            "text/markdown": "\nA tibble: 4 × 5\n\n| year &lt;int&gt; | type &lt;chr&gt; | Afghanistan &lt;int&gt; | Brazil &lt;int&gt; | China &lt;int&gt; |\n|---|---|---|---|---|\n| 1999 | cases      |      745 |     37737 |     212258 |\n| 1999 | population | 19987071 | 172006362 | 1272915272 |\n| 2000 | cases      |     2666 |     80488 |     213766 |\n| 2000 | population | 20595360 | 174504898 | 1280428583 |\n\n",
            "text/html": [
              "<table class=\"dataframe\">\n",
              "<caption>A tibble: 4 × 5</caption>\n",
              "<thead>\n",
              "\t<tr><th scope=col>year</th><th scope=col>type</th><th scope=col>Afghanistan</th><th scope=col>Brazil</th><th scope=col>China</th></tr>\n",
              "\t<tr><th scope=col>&lt;int&gt;</th><th scope=col>&lt;chr&gt;</th><th scope=col>&lt;int&gt;</th><th scope=col>&lt;int&gt;</th><th scope=col>&lt;int&gt;</th></tr>\n",
              "</thead>\n",
              "<tbody>\n",
              "\t<tr><td>1999</td><td>cases     </td><td>     745</td><td>    37737</td><td>    212258</td></tr>\n",
              "\t<tr><td>1999</td><td>population</td><td>19987071</td><td>172006362</td><td>1272915272</td></tr>\n",
              "\t<tr><td>2000</td><td>cases     </td><td>    2666</td><td>    80488</td><td>    213766</td></tr>\n",
              "\t<tr><td>2000</td><td>population</td><td>20595360</td><td>174504898</td><td>1280428583</td></tr>\n",
              "</tbody>\n",
              "</table>\n"
            ]
          },
          "metadata": {
            "tags": []
          }
        }
      ]
    },
    {
      "cell_type": "code",
      "metadata": {
        "id": "disfZYbZkN-d"
      },
      "source": [
        "##Separating and Uniting"
      ],
      "execution_count": 22,
      "outputs": []
    },
    {
      "cell_type": "code",
      "metadata": {
        "id": "uPNsDZbSkZt-"
      },
      "source": [
        "##separate()\n",
        "## one column contains two variables"
      ],
      "execution_count": 24,
      "outputs": []
    },
    {
      "cell_type": "code",
      "metadata": {
        "colab": {
          "base_uri": "https://localhost:8080/",
          "height": 281
        },
        "id": "xg3fgt3Lka8E",
        "outputId": "270db224-ea53-4bdd-8769-32eaf5538e53"
      },
      "source": [
        "table3"
      ],
      "execution_count": 25,
      "outputs": [
        {
          "output_type": "display_data",
          "data": {
            "text/plain": [
              "  country     year rate             \n",
              "1 Afghanistan 1999 745/19987071     \n",
              "2 Afghanistan 2000 2666/20595360    \n",
              "3 Brazil      1999 37737/172006362  \n",
              "4 Brazil      2000 80488/174504898  \n",
              "5 China       1999 212258/1272915272\n",
              "6 China       2000 213766/1280428583"
            ],
            "text/latex": "A tibble: 6 × 3\n\\begin{tabular}{r|lll}\n  & country & year & rate\\\\\n  & <chr> & <int> & <chr>\\\\\n\\hline\n\t1 & Afghanistan & 1999 & 745/19987071     \\\\\n\t2 & Afghanistan & 2000 & 2666/20595360    \\\\\n\t3 & Brazil      & 1999 & 37737/172006362  \\\\\n\t4 & Brazil      & 2000 & 80488/174504898  \\\\\n\t5 & China       & 1999 & 212258/1272915272\\\\\n\t6 & China       & 2000 & 213766/1280428583\\\\\n\\end{tabular}\n",
            "text/markdown": "\nA tibble: 6 × 3\n\n| <!--/--> | country &lt;chr&gt; | year &lt;int&gt; | rate &lt;chr&gt; |\n|---|---|---|---|\n| 1 | Afghanistan | 1999 | 745/19987071      |\n| 2 | Afghanistan | 2000 | 2666/20595360     |\n| 3 | Brazil      | 1999 | 37737/172006362   |\n| 4 | Brazil      | 2000 | 80488/174504898   |\n| 5 | China       | 1999 | 212258/1272915272 |\n| 6 | China       | 2000 | 213766/1280428583 |\n\n",
            "text/html": [
              "<table class=\"dataframe\">\n",
              "<caption>A tibble: 6 × 3</caption>\n",
              "<thead>\n",
              "\t<tr><th></th><th scope=col>country</th><th scope=col>year</th><th scope=col>rate</th></tr>\n",
              "\t<tr><th></th><th scope=col>&lt;chr&gt;</th><th scope=col>&lt;int&gt;</th><th scope=col>&lt;chr&gt;</th></tr>\n",
              "</thead>\n",
              "<tbody>\n",
              "\t<tr><th scope=row>1</th><td>Afghanistan</td><td>1999</td><td>745/19987071     </td></tr>\n",
              "\t<tr><th scope=row>2</th><td>Afghanistan</td><td>2000</td><td>2666/20595360    </td></tr>\n",
              "\t<tr><th scope=row>3</th><td>Brazil     </td><td>1999</td><td>37737/172006362  </td></tr>\n",
              "\t<tr><th scope=row>4</th><td>Brazil     </td><td>2000</td><td>80488/174504898  </td></tr>\n",
              "\t<tr><th scope=row>5</th><td>China      </td><td>1999</td><td>212258/1272915272</td></tr>\n",
              "\t<tr><th scope=row>6</th><td>China      </td><td>2000</td><td>213766/1280428583</td></tr>\n",
              "</tbody>\n",
              "</table>\n"
            ]
          },
          "metadata": {
            "tags": []
          }
        }
      ]
    },
    {
      "cell_type": "code",
      "metadata": {
        "colab": {
          "base_uri": "https://localhost:8080/",
          "height": 281
        },
        "id": "5OILZOo6keGW",
        "outputId": "ae763676-d164-494d-9186-13023ed8efde"
      },
      "source": [
        "table3 %>% separate(rate,into=c(\"cases\",'population'))"
      ],
      "execution_count": 27,
      "outputs": [
        {
          "output_type": "display_data",
          "data": {
            "text/plain": [
              "  country     year cases  population\n",
              "1 Afghanistan 1999 745    19987071  \n",
              "2 Afghanistan 2000 2666   20595360  \n",
              "3 Brazil      1999 37737  172006362 \n",
              "4 Brazil      2000 80488  174504898 \n",
              "5 China       1999 212258 1272915272\n",
              "6 China       2000 213766 1280428583"
            ],
            "text/latex": "A tibble: 6 × 4\n\\begin{tabular}{llll}\n country & year & cases & population\\\\\n <chr> & <int> & <chr> & <chr>\\\\\n\\hline\n\t Afghanistan & 1999 & 745    & 19987071  \\\\\n\t Afghanistan & 2000 & 2666   & 20595360  \\\\\n\t Brazil      & 1999 & 37737  & 172006362 \\\\\n\t Brazil      & 2000 & 80488  & 174504898 \\\\\n\t China       & 1999 & 212258 & 1272915272\\\\\n\t China       & 2000 & 213766 & 1280428583\\\\\n\\end{tabular}\n",
            "text/markdown": "\nA tibble: 6 × 4\n\n| country &lt;chr&gt; | year &lt;int&gt; | cases &lt;chr&gt; | population &lt;chr&gt; |\n|---|---|---|---|\n| Afghanistan | 1999 | 745    | 19987071   |\n| Afghanistan | 2000 | 2666   | 20595360   |\n| Brazil      | 1999 | 37737  | 172006362  |\n| Brazil      | 2000 | 80488  | 174504898  |\n| China       | 1999 | 212258 | 1272915272 |\n| China       | 2000 | 213766 | 1280428583 |\n\n",
            "text/html": [
              "<table class=\"dataframe\">\n",
              "<caption>A tibble: 6 × 4</caption>\n",
              "<thead>\n",
              "\t<tr><th scope=col>country</th><th scope=col>year</th><th scope=col>cases</th><th scope=col>population</th></tr>\n",
              "\t<tr><th scope=col>&lt;chr&gt;</th><th scope=col>&lt;int&gt;</th><th scope=col>&lt;chr&gt;</th><th scope=col>&lt;chr&gt;</th></tr>\n",
              "</thead>\n",
              "<tbody>\n",
              "\t<tr><td>Afghanistan</td><td>1999</td><td>745   </td><td>19987071  </td></tr>\n",
              "\t<tr><td>Afghanistan</td><td>2000</td><td>2666  </td><td>20595360  </td></tr>\n",
              "\t<tr><td>Brazil     </td><td>1999</td><td>37737 </td><td>172006362 </td></tr>\n",
              "\t<tr><td>Brazil     </td><td>2000</td><td>80488 </td><td>174504898 </td></tr>\n",
              "\t<tr><td>China      </td><td>1999</td><td>212258</td><td>1272915272</td></tr>\n",
              "\t<tr><td>China      </td><td>2000</td><td>213766</td><td>1280428583</td></tr>\n",
              "</tbody>\n",
              "</table>\n"
            ]
          },
          "metadata": {
            "tags": []
          }
        }
      ]
    },
    {
      "cell_type": "code",
      "metadata": {
        "id": "nFtdaoVAkzy9"
      },
      "source": [
        "##unite()\n",
        "## single variable is spread across multiple columns"
      ],
      "execution_count": 28,
      "outputs": []
    },
    {
      "cell_type": "code",
      "metadata": {
        "colab": {
          "base_uri": "https://localhost:8080/",
          "height": 281
        },
        "id": "0BVHDDwvlJTk",
        "outputId": "499aaedc-d8eb-44f9-deaa-db50762cfdfd"
      },
      "source": [
        "table5"
      ],
      "execution_count": 29,
      "outputs": [
        {
          "output_type": "display_data",
          "data": {
            "text/plain": [
              "  country     century year rate             \n",
              "1 Afghanistan 19      99   745/19987071     \n",
              "2 Afghanistan 20      00   2666/20595360    \n",
              "3 Brazil      19      99   37737/172006362  \n",
              "4 Brazil      20      00   80488/174504898  \n",
              "5 China       19      99   212258/1272915272\n",
              "6 China       20      00   213766/1280428583"
            ],
            "text/latex": "A tibble: 6 × 4\n\\begin{tabular}{r|llll}\n  & country & century & year & rate\\\\\n  & <chr> & <chr> & <chr> & <chr>\\\\\n\\hline\n\t1 & Afghanistan & 19 & 99 & 745/19987071     \\\\\n\t2 & Afghanistan & 20 & 00 & 2666/20595360    \\\\\n\t3 & Brazil      & 19 & 99 & 37737/172006362  \\\\\n\t4 & Brazil      & 20 & 00 & 80488/174504898  \\\\\n\t5 & China       & 19 & 99 & 212258/1272915272\\\\\n\t6 & China       & 20 & 00 & 213766/1280428583\\\\\n\\end{tabular}\n",
            "text/markdown": "\nA tibble: 6 × 4\n\n| <!--/--> | country &lt;chr&gt; | century &lt;chr&gt; | year &lt;chr&gt; | rate &lt;chr&gt; |\n|---|---|---|---|---|\n| 1 | Afghanistan | 19 | 99 | 745/19987071      |\n| 2 | Afghanistan | 20 | 00 | 2666/20595360     |\n| 3 | Brazil      | 19 | 99 | 37737/172006362   |\n| 4 | Brazil      | 20 | 00 | 80488/174504898   |\n| 5 | China       | 19 | 99 | 212258/1272915272 |\n| 6 | China       | 20 | 00 | 213766/1280428583 |\n\n",
            "text/html": [
              "<table class=\"dataframe\">\n",
              "<caption>A tibble: 6 × 4</caption>\n",
              "<thead>\n",
              "\t<tr><th></th><th scope=col>country</th><th scope=col>century</th><th scope=col>year</th><th scope=col>rate</th></tr>\n",
              "\t<tr><th></th><th scope=col>&lt;chr&gt;</th><th scope=col>&lt;chr&gt;</th><th scope=col>&lt;chr&gt;</th><th scope=col>&lt;chr&gt;</th></tr>\n",
              "</thead>\n",
              "<tbody>\n",
              "\t<tr><th scope=row>1</th><td>Afghanistan</td><td>19</td><td>99</td><td>745/19987071     </td></tr>\n",
              "\t<tr><th scope=row>2</th><td>Afghanistan</td><td>20</td><td>00</td><td>2666/20595360    </td></tr>\n",
              "\t<tr><th scope=row>3</th><td>Brazil     </td><td>19</td><td>99</td><td>37737/172006362  </td></tr>\n",
              "\t<tr><th scope=row>4</th><td>Brazil     </td><td>20</td><td>00</td><td>80488/174504898  </td></tr>\n",
              "\t<tr><th scope=row>5</th><td>China      </td><td>19</td><td>99</td><td>212258/1272915272</td></tr>\n",
              "\t<tr><th scope=row>6</th><td>China      </td><td>20</td><td>00</td><td>213766/1280428583</td></tr>\n",
              "</tbody>\n",
              "</table>\n"
            ]
          },
          "metadata": {
            "tags": []
          }
        }
      ]
    },
    {
      "cell_type": "code",
      "metadata": {
        "colab": {
          "base_uri": "https://localhost:8080/",
          "height": 281
        },
        "id": "MswVOnbGlKHX",
        "outputId": "23875b8a-b79e-41b1-8a0a-3503f01d63c1"
      },
      "source": [
        "table5 %>%\n",
        "    unite(new, century, year, sep = \"\")"
      ],
      "execution_count": 31,
      "outputs": [
        {
          "output_type": "display_data",
          "data": {
            "text/plain": [
              "  country     new  rate             \n",
              "1 Afghanistan 1999 745/19987071     \n",
              "2 Afghanistan 2000 2666/20595360    \n",
              "3 Brazil      1999 37737/172006362  \n",
              "4 Brazil      2000 80488/174504898  \n",
              "5 China       1999 212258/1272915272\n",
              "6 China       2000 213766/1280428583"
            ],
            "text/latex": "A tibble: 6 × 3\n\\begin{tabular}{lll}\n country & new & rate\\\\\n <chr> & <chr> & <chr>\\\\\n\\hline\n\t Afghanistan & 1999 & 745/19987071     \\\\\n\t Afghanistan & 2000 & 2666/20595360    \\\\\n\t Brazil      & 1999 & 37737/172006362  \\\\\n\t Brazil      & 2000 & 80488/174504898  \\\\\n\t China       & 1999 & 212258/1272915272\\\\\n\t China       & 2000 & 213766/1280428583\\\\\n\\end{tabular}\n",
            "text/markdown": "\nA tibble: 6 × 3\n\n| country &lt;chr&gt; | new &lt;chr&gt; | rate &lt;chr&gt; |\n|---|---|---|\n| Afghanistan | 1999 | 745/19987071      |\n| Afghanistan | 2000 | 2666/20595360     |\n| Brazil      | 1999 | 37737/172006362   |\n| Brazil      | 2000 | 80488/174504898   |\n| China       | 1999 | 212258/1272915272 |\n| China       | 2000 | 213766/1280428583 |\n\n",
            "text/html": [
              "<table class=\"dataframe\">\n",
              "<caption>A tibble: 6 × 3</caption>\n",
              "<thead>\n",
              "\t<tr><th scope=col>country</th><th scope=col>new</th><th scope=col>rate</th></tr>\n",
              "\t<tr><th scope=col>&lt;chr&gt;</th><th scope=col>&lt;chr&gt;</th><th scope=col>&lt;chr&gt;</th></tr>\n",
              "</thead>\n",
              "<tbody>\n",
              "\t<tr><td>Afghanistan</td><td>1999</td><td>745/19987071     </td></tr>\n",
              "\t<tr><td>Afghanistan</td><td>2000</td><td>2666/20595360    </td></tr>\n",
              "\t<tr><td>Brazil     </td><td>1999</td><td>37737/172006362  </td></tr>\n",
              "\t<tr><td>Brazil     </td><td>2000</td><td>80488/174504898  </td></tr>\n",
              "\t<tr><td>China      </td><td>1999</td><td>212258/1272915272</td></tr>\n",
              "\t<tr><td>China      </td><td>2000</td><td>213766/1280428583</td></tr>\n",
              "</tbody>\n",
              "</table>\n"
            ]
          },
          "metadata": {
            "tags": []
          }
        }
      ]
    },
    {
      "cell_type": "code",
      "metadata": {
        "id": "AEourOzvlQho"
      },
      "source": [
        "##functional programming"
      ],
      "execution_count": 32,
      "outputs": []
    },
    {
      "cell_type": "code",
      "metadata": {
        "id": "18n3t-1KlUhX"
      },
      "source": [
        "df <- tibble(\n",
        "    a = rnorm(10),\n",
        "    b = rnorm(10),\n",
        "    c = rnorm(10),\n",
        "    d = rnorm(10)\n",
        ")"
      ],
      "execution_count": 34,
      "outputs": []
    },
    {
      "cell_type": "code",
      "metadata": {
        "colab": {
          "base_uri": "https://localhost:8080/",
          "height": 35
        },
        "id": "9NpttBcslZol",
        "outputId": "9efd5140-eb8b-4887-e198-27ac8eae37ff"
      },
      "source": [
        "median(df$a)"
      ],
      "execution_count": 35,
      "outputs": [
        {
          "output_type": "display_data",
          "data": {
            "text/plain": [
              "[1] 0.1495265"
            ],
            "text/latex": "0.14952646022978",
            "text/markdown": "0.14952646022978",
            "text/html": [
              "0.14952646022978"
            ]
          },
          "metadata": {
            "tags": []
          }
        }
      ]
    },
    {
      "cell_type": "code",
      "metadata": {
        "colab": {
          "base_uri": "https://localhost:8080/",
          "height": 35
        },
        "id": "5Fb8tm51ldN5",
        "outputId": "22fb045f-3c04-4abf-d8bb-8eaecbafbdf3"
      },
      "source": [
        "median(df$b)"
      ],
      "execution_count": 36,
      "outputs": [
        {
          "output_type": "display_data",
          "data": {
            "text/plain": [
              "[1] 0.2798827"
            ],
            "text/latex": "0.279882677922584",
            "text/markdown": "0.279882677922584",
            "text/html": [
              "0.279882677922584"
            ]
          },
          "metadata": {
            "tags": []
          }
        }
      ]
    },
    {
      "cell_type": "code",
      "metadata": {
        "colab": {
          "base_uri": "https://localhost:8080/",
          "height": 35
        },
        "id": "zn14ILnmlfAz",
        "outputId": "02ec9cb4-e25a-440f-b985-8213fb3e91cc"
      },
      "source": [
        "median(df$c)"
      ],
      "execution_count": 37,
      "outputs": [
        {
          "output_type": "display_data",
          "data": {
            "text/plain": [
              "[1] 0.005271018"
            ],
            "text/latex": "0.00527101842956419",
            "text/markdown": "0.00527101842956419",
            "text/html": [
              "0.00527101842956419"
            ]
          },
          "metadata": {
            "tags": []
          }
        }
      ]
    },
    {
      "cell_type": "code",
      "metadata": {
        "colab": {
          "base_uri": "https://localhost:8080/",
          "height": 35
        },
        "id": "WKn-GzoOlgAx",
        "outputId": "39d62e69-a3d2-4817-9446-a10a9afb17f5"
      },
      "source": [
        "median(df$d)"
      ],
      "execution_count": 38,
      "outputs": [
        {
          "output_type": "display_data",
          "data": {
            "text/plain": [
              "[1] 0.3950123"
            ],
            "text/latex": "0.395012271701659",
            "text/markdown": "0.395012271701659",
            "text/html": [
              "0.395012271701659"
            ]
          },
          "metadata": {
            "tags": []
          }
        }
      ]
    },
    {
      "cell_type": "code",
      "metadata": {
        "colab": {
          "base_uri": "https://localhost:8080/",
          "height": 35
        },
        "id": "uenhQ4K1lg8F",
        "outputId": "f722e4e1-0f42-46c0-e29a-a30ec006444e"
      },
      "source": [
        "output <- vector('double', ncol(df)) #1. output\n",
        "for (i in seq_along(df)){            #2. sequence\n",
        "    output[[i]] <- median(df[[i]])   #3 : body\n",
        "}\n",
        "output"
      ],
      "execution_count": 39,
      "outputs": [
        {
          "output_type": "display_data",
          "data": {
            "text/plain": [
              "[1] 0.149526460 0.279882678 0.005271018 0.395012272"
            ],
            "text/latex": "\\begin{enumerate*}\n\\item 0.14952646022978\n\\item 0.279882677922584\n\\item 0.00527101842956419\n\\item 0.395012271701659\n\\end{enumerate*}\n",
            "text/markdown": "1. 0.14952646022978\n2. 0.279882677922584\n3. 0.00527101842956419\n4. 0.395012271701659\n\n\n",
            "text/html": [
              "<style>\n",
              ".list-inline {list-style: none; margin:0; padding: 0}\n",
              ".list-inline>li {display: inline-block}\n",
              ".list-inline>li:not(:last-child)::after {content: \"\\00b7\"; padding: 0 .5ex}\n",
              "</style>\n",
              "<ol class=list-inline><li>0.14952646022978</li><li>0.279882677922584</li><li>0.00527101842956419</li><li>0.395012271701659</li></ol>\n"
            ]
          },
          "metadata": {
            "tags": []
          }
        }
      ]
    },
    {
      "cell_type": "code",
      "metadata": {
        "colab": {
          "base_uri": "https://localhost:8080/",
          "height": 35
        },
        "id": "PEN3tUkTl1M4",
        "outputId": "e1621193-b43b-485a-d4aa-016ca4a28c4b"
      },
      "source": [
        "output <- c()\n",
        "for (i in seq_along(df)){\n",
        "    output <- c(output, median(df[[i]]))\n",
        "}\n",
        "\n",
        "output"
      ],
      "execution_count": 41,
      "outputs": [
        {
          "output_type": "display_data",
          "data": {
            "text/plain": [
              "[1] 0.149526460 0.279882678 0.005271018 0.395012272"
            ],
            "text/latex": "\\begin{enumerate*}\n\\item 0.14952646022978\n\\item 0.279882677922584\n\\item 0.00527101842956419\n\\item 0.395012271701659\n\\end{enumerate*}\n",
            "text/markdown": "1. 0.14952646022978\n2. 0.279882677922584\n3. 0.00527101842956419\n4. 0.395012271701659\n\n\n",
            "text/html": [
              "<style>\n",
              ".list-inline {list-style: none; margin:0; padding: 0}\n",
              ".list-inline>li {display: inline-block}\n",
              ".list-inline>li:not(:last-child)::after {content: \"\\00b7\"; padding: 0 .5ex}\n",
              "</style>\n",
              "<ol class=list-inline><li>0.14952646022978</li><li>0.279882677922584</li><li>0.00527101842956419</li><li>0.395012271701659</li></ol>\n"
            ]
          },
          "metadata": {
            "tags": []
          }
        }
      ]
    },
    {
      "cell_type": "code",
      "metadata": {
        "colab": {
          "base_uri": "https://localhost:8080/"
        },
        "id": "Hs2RdNljl7un",
        "outputId": "9cc5d65f-81eb-4b98-9948-d593179097ad"
      },
      "source": [
        "install.packages(\"rbenchmark\")\n",
        "library(rbenchmark)"
      ],
      "execution_count": 42,
      "outputs": [
        {
          "output_type": "stream",
          "text": [
            "Installing package into ‘/usr/local/lib/R/site-library’\n",
            "(as ‘lib’ is unspecified)\n",
            "\n"
          ],
          "name": "stderr"
        }
      ]
    },
    {
      "cell_type": "code",
      "metadata": {
        "id": "Tsfz1PMRmf7L"
      },
      "source": [
        "simple1 <- function(n){\n",
        "    output<- vector(\"double\", n)\n",
        "    for (i in 1:n)\n",
        "        output[i] = i\n",
        "        return(output)\n",
        "}\n",
        "\n",
        "simple2 <- function(n){\n",
        "    output <- c()\n",
        "    for (i in 1:n)\n",
        "        output = c(output,i)\n",
        "        return(output)\n",
        "}"
      ],
      "execution_count": 46,
      "outputs": []
    },
    {
      "cell_type": "code",
      "metadata": {
        "colab": {
          "base_uri": "https://localhost:8080/",
          "height": 35
        },
        "id": "R_CCfSFumwHP",
        "outputId": "7e812b48-b3b3-42c1-b3a2-f1c65cce46cb"
      },
      "source": [
        "simple1(3)"
      ],
      "execution_count": 47,
      "outputs": [
        {
          "output_type": "display_data",
          "data": {
            "text/plain": [
              "[1] 1 2 3"
            ],
            "text/latex": "\\begin{enumerate*}\n\\item 1\n\\item 2\n\\item 3\n\\end{enumerate*}\n",
            "text/markdown": "1. 1\n2. 2\n3. 3\n\n\n",
            "text/html": [
              "<style>\n",
              ".list-inline {list-style: none; margin:0; padding: 0}\n",
              ".list-inline>li {display: inline-block}\n",
              ".list-inline>li:not(:last-child)::after {content: \"\\00b7\"; padding: 0 .5ex}\n",
              "</style>\n",
              "<ol class=list-inline><li>1</li><li>2</li><li>3</li></ol>\n"
            ]
          },
          "metadata": {
            "tags": []
          }
        }
      ]
    },
    {
      "cell_type": "code",
      "metadata": {
        "colab": {
          "base_uri": "https://localhost:8080/",
          "height": 35
        },
        "id": "X1f-OmK6mxxH",
        "outputId": "91cab62d-b40a-4a25-beec-4e26b8403704"
      },
      "source": [
        "simple2(3)"
      ],
      "execution_count": 49,
      "outputs": [
        {
          "output_type": "display_data",
          "data": {
            "text/plain": [
              "[1] 1 2 3"
            ],
            "text/latex": "\\begin{enumerate*}\n\\item 1\n\\item 2\n\\item 3\n\\end{enumerate*}\n",
            "text/markdown": "1. 1\n2. 2\n3. 3\n\n\n",
            "text/html": [
              "<style>\n",
              ".list-inline {list-style: none; margin:0; padding: 0}\n",
              ".list-inline>li {display: inline-block}\n",
              ".list-inline>li:not(:last-child)::after {content: \"\\00b7\"; padding: 0 .5ex}\n",
              "</style>\n",
              "<ol class=list-inline><li>1</li><li>2</li><li>3</li></ol>\n"
            ]
          },
          "metadata": {
            "tags": []
          }
        }
      ]
    },
    {
      "cell_type": "code",
      "metadata": {
        "colab": {
          "base_uri": "https://localhost:8080/",
          "height": 158
        },
        "id": "iPArX5zxm4Vw",
        "outputId": "c017a46e-e5f3-4650-d21b-fdd7f000b6b7"
      },
      "source": [
        "benchmark(\"fc1\" = simple1(1000),\n",
        "            \"fc2\" = simple2(1000),\n",
        "            replications = 100,\n",
        "            columns = c('test', \"elapsed\",\"replications\"))"
      ],
      "execution_count": 50,
      "outputs": [
        {
          "output_type": "display_data",
          "data": {
            "text/plain": [
              "  test elapsed replications\n",
              "1 fc1  0.007   100         \n",
              "2 fc2  0.188   100         "
            ],
            "text/latex": "A data.frame: 2 × 3\n\\begin{tabular}{r|lll}\n  & test & elapsed & replications\\\\\n  & <chr> & <dbl> & <int>\\\\\n\\hline\n\t1 & fc1 & 0.007 & 100\\\\\n\t2 & fc2 & 0.188 & 100\\\\\n\\end{tabular}\n",
            "text/markdown": "\nA data.frame: 2 × 3\n\n| <!--/--> | test &lt;chr&gt; | elapsed &lt;dbl&gt; | replications &lt;int&gt; |\n|---|---|---|---|\n| 1 | fc1 | 0.007 | 100 |\n| 2 | fc2 | 0.188 | 100 |\n\n",
            "text/html": [
              "<table class=\"dataframe\">\n",
              "<caption>A data.frame: 2 × 3</caption>\n",
              "<thead>\n",
              "\t<tr><th></th><th scope=col>test</th><th scope=col>elapsed</th><th scope=col>replications</th></tr>\n",
              "\t<tr><th></th><th scope=col>&lt;chr&gt;</th><th scope=col>&lt;dbl&gt;</th><th scope=col>&lt;int&gt;</th></tr>\n",
              "</thead>\n",
              "<tbody>\n",
              "\t<tr><th scope=row>1</th><td>fc1</td><td>0.007</td><td>100</td></tr>\n",
              "\t<tr><th scope=row>2</th><td>fc2</td><td>0.188</td><td>100</td></tr>\n",
              "</tbody>\n",
              "</table>\n"
            ]
          },
          "metadata": {
            "tags": []
          }
        }
      ]
    },
    {
      "cell_type": "code",
      "metadata": {
        "id": "U5f4eGm4nGCg"
      },
      "source": [
        "##for_loops vs functional\n",
        "## possible to wrap up for loops in a function"
      ],
      "execution_count": 51,
      "outputs": []
    },
    {
      "cell_type": "code",
      "metadata": {
        "colab": {
          "base_uri": "https://localhost:8080/",
          "height": 403
        },
        "id": "h2LRbwORn61V",
        "outputId": "e4505464-9e3e-4284-896f-d0315e1f1cde"
      },
      "source": [
        "df"
      ],
      "execution_count": 53,
      "outputs": [
        {
          "output_type": "display_data",
          "data": {
            "text/plain": [
              "   a          b          c           d         \n",
              "1  -1.8974968 -1.3793409  0.30400096 -0.4162038\n",
              "2  -0.4877701 -0.5399648 -1.24513774  1.2571713\n",
              "3  -0.2118504  1.1280201 -0.50410834  0.2785720\n",
              "4  -0.2059489  0.1049872 -0.21686962  0.3005518\n",
              "5   1.1914400  1.9556970  1.33670799 -1.1609989\n",
              "6   1.5108314  1.1980829  0.21349183  1.0271943\n",
              "7  -0.8733313  0.4547781  0.08906235 -1.9934804\n",
              "8   0.5050018  1.7788764 -0.07852032  0.4894728\n",
              "9   1.0337686 -0.1404621 -0.20503679  0.6539029\n",
              "10  1.0849911 -0.8524924  0.33491812  1.2040646"
            ],
            "text/latex": "A tibble: 10 × 4\n\\begin{tabular}{llll}\n a & b & c & d\\\\\n <dbl> & <dbl> & <dbl> & <dbl>\\\\\n\\hline\n\t -1.8974968 & -1.3793409 &  0.30400096 & -0.4162038\\\\\n\t -0.4877701 & -0.5399648 & -1.24513774 &  1.2571713\\\\\n\t -0.2118504 &  1.1280201 & -0.50410834 &  0.2785720\\\\\n\t -0.2059489 &  0.1049872 & -0.21686962 &  0.3005518\\\\\n\t  1.1914400 &  1.9556970 &  1.33670799 & -1.1609989\\\\\n\t  1.5108314 &  1.1980829 &  0.21349183 &  1.0271943\\\\\n\t -0.8733313 &  0.4547781 &  0.08906235 & -1.9934804\\\\\n\t  0.5050018 &  1.7788764 & -0.07852032 &  0.4894728\\\\\n\t  1.0337686 & -0.1404621 & -0.20503679 &  0.6539029\\\\\n\t  1.0849911 & -0.8524924 &  0.33491812 &  1.2040646\\\\\n\\end{tabular}\n",
            "text/markdown": "\nA tibble: 10 × 4\n\n| a &lt;dbl&gt; | b &lt;dbl&gt; | c &lt;dbl&gt; | d &lt;dbl&gt; |\n|---|---|---|---|\n| -1.8974968 | -1.3793409 |  0.30400096 | -0.4162038 |\n| -0.4877701 | -0.5399648 | -1.24513774 |  1.2571713 |\n| -0.2118504 |  1.1280201 | -0.50410834 |  0.2785720 |\n| -0.2059489 |  0.1049872 | -0.21686962 |  0.3005518 |\n|  1.1914400 |  1.9556970 |  1.33670799 | -1.1609989 |\n|  1.5108314 |  1.1980829 |  0.21349183 |  1.0271943 |\n| -0.8733313 |  0.4547781 |  0.08906235 | -1.9934804 |\n|  0.5050018 |  1.7788764 | -0.07852032 |  0.4894728 |\n|  1.0337686 | -0.1404621 | -0.20503679 |  0.6539029 |\n|  1.0849911 | -0.8524924 |  0.33491812 |  1.2040646 |\n\n",
            "text/html": [
              "<table class=\"dataframe\">\n",
              "<caption>A tibble: 10 × 4</caption>\n",
              "<thead>\n",
              "\t<tr><th scope=col>a</th><th scope=col>b</th><th scope=col>c</th><th scope=col>d</th></tr>\n",
              "\t<tr><th scope=col>&lt;dbl&gt;</th><th scope=col>&lt;dbl&gt;</th><th scope=col>&lt;dbl&gt;</th><th scope=col>&lt;dbl&gt;</th></tr>\n",
              "</thead>\n",
              "<tbody>\n",
              "\t<tr><td>-1.8974968</td><td>-1.3793409</td><td> 0.30400096</td><td>-0.4162038</td></tr>\n",
              "\t<tr><td>-0.4877701</td><td>-0.5399648</td><td>-1.24513774</td><td> 1.2571713</td></tr>\n",
              "\t<tr><td>-0.2118504</td><td> 1.1280201</td><td>-0.50410834</td><td> 0.2785720</td></tr>\n",
              "\t<tr><td>-0.2059489</td><td> 0.1049872</td><td>-0.21686962</td><td> 0.3005518</td></tr>\n",
              "\t<tr><td> 1.1914400</td><td> 1.9556970</td><td> 1.33670799</td><td>-1.1609989</td></tr>\n",
              "\t<tr><td> 1.5108314</td><td> 1.1980829</td><td> 0.21349183</td><td> 1.0271943</td></tr>\n",
              "\t<tr><td>-0.8733313</td><td> 0.4547781</td><td> 0.08906235</td><td>-1.9934804</td></tr>\n",
              "\t<tr><td> 0.5050018</td><td> 1.7788764</td><td>-0.07852032</td><td> 0.4894728</td></tr>\n",
              "\t<tr><td> 1.0337686</td><td>-0.1404621</td><td>-0.20503679</td><td> 0.6539029</td></tr>\n",
              "\t<tr><td> 1.0849911</td><td>-0.8524924</td><td> 0.33491812</td><td> 1.2040646</td></tr>\n",
              "</tbody>\n",
              "</table>\n"
            ]
          },
          "metadata": {
            "tags": []
          }
        }
      ]
    },
    {
      "cell_type": "code",
      "metadata": {
        "colab": {
          "base_uri": "https://localhost:8080/",
          "height": 35
        },
        "id": "1D6yQ7s6nMKL",
        "outputId": "9c35808b-e0be-469c-ff03-3d6550d79bad"
      },
      "source": [
        "col_mean <- function(df) {\n",
        "  output <- vector(\"double\", ncol(df)) \n",
        "  for (i in seq_along(df)) {\n",
        "    output[[i]] <- mean(df[[i]])\n",
        "  }\n",
        "  output\n",
        "}\n",
        "\n",
        "col_median <- function(df) {\n",
        "  output <- vector(\"double\", ncol(df)) \n",
        "  for (i in seq_along(df)) {\n",
        "    output[[i]] <- median(df[[i]])\n",
        "  }\n",
        "  output\n",
        "}\n",
        "\n",
        "col_sd <- function(df) {\n",
        "  output <- vector(\"double\", ncol(df)) \n",
        "  for (i in seq_along(df)) {\n",
        "    output[[i]] <- sd(df[[i]])\n",
        "  }\n",
        "  output\n",
        "}\n",
        "\n",
        "col_mean(df)"
      ],
      "execution_count": 54,
      "outputs": [
        {
          "output_type": "display_data",
          "data": {
            "text/plain": [
              "[1] 0.164963536 0.370818150 0.002850845 0.164024652"
            ],
            "text/latex": "\\begin{enumerate*}\n\\item 0.1649635364568\n\\item 0.370818149757559\n\\item 0.00285084474415511\n\\item 0.164024652348135\n\\end{enumerate*}\n",
            "text/markdown": "1. 0.1649635364568\n2. 0.370818149757559\n3. 0.00285084474415511\n4. 0.164024652348135\n\n\n",
            "text/html": [
              "<style>\n",
              ".list-inline {list-style: none; margin:0; padding: 0}\n",
              ".list-inline>li {display: inline-block}\n",
              ".list-inline>li:not(:last-child)::after {content: \"\\00b7\"; padding: 0 .5ex}\n",
              "</style>\n",
              "<ol class=list-inline><li>0.1649635364568</li><li>0.370818149757559</li><li>0.00285084474415511</li><li>0.164024652348135</li></ol>\n"
            ]
          },
          "metadata": {
            "tags": []
          }
        }
      ]
    },
    {
      "cell_type": "code",
      "metadata": {
        "id": "5YsfUm7fn0Wo"
      },
      "source": [
        "##can make function as a variable"
      ],
      "execution_count": 55,
      "outputs": []
    },
    {
      "cell_type": "code",
      "metadata": {
        "colab": {
          "base_uri": "https://localhost:8080/",
          "height": 35
        },
        "id": "j8NtJb9woDqo",
        "outputId": "3081dc31-1239-4c16-aea9-d4b7dabf873d"
      },
      "source": [
        "col_summary <- function(df, fun){\n",
        "    out <- vector(\"double\", length(df))\n",
        "    for( i in seq_along(df)){\n",
        "        out[i] <- fun(df[[i]])\n",
        "    }\n",
        "    out\n",
        "}\n",
        "col_summary(df, median)"
      ],
      "execution_count": 56,
      "outputs": [
        {
          "output_type": "display_data",
          "data": {
            "text/plain": [
              "[1] 0.149526460 0.279882678 0.005271018 0.395012272"
            ],
            "text/latex": "\\begin{enumerate*}\n\\item 0.14952646022978\n\\item 0.279882677922584\n\\item 0.00527101842956419\n\\item 0.395012271701659\n\\end{enumerate*}\n",
            "text/markdown": "1. 0.14952646022978\n2. 0.279882677922584\n3. 0.00527101842956419\n4. 0.395012271701659\n\n\n",
            "text/html": [
              "<style>\n",
              ".list-inline {list-style: none; margin:0; padding: 0}\n",
              ".list-inline>li {display: inline-block}\n",
              ".list-inline>li:not(:last-child)::after {content: \"\\00b7\"; padding: 0 .5ex}\n",
              "</style>\n",
              "<ol class=list-inline><li>0.14952646022978</li><li>0.279882677922584</li><li>0.00527101842956419</li><li>0.395012271701659</li></ol>\n"
            ]
          },
          "metadata": {
            "tags": []
          }
        }
      ]
    },
    {
      "cell_type": "code",
      "metadata": {
        "id": "Ma_hVPt4oPcZ"
      },
      "source": [
        "## the map function(purrr)\n",
        "## the purrr package provides a family of functions for looping patterns over a vector remind apply()"
      ],
      "execution_count": 57,
      "outputs": []
    },
    {
      "cell_type": "code",
      "metadata": {
        "colab": {
          "base_uri": "https://localhost:8080/"
        },
        "id": "-Hsfq1XPobJk",
        "outputId": "236b6c29-294f-4653-b8d1-760ee960e85f"
      },
      "source": [
        "str(df)"
      ],
      "execution_count": 58,
      "outputs": [
        {
          "output_type": "stream",
          "text": [
            "tibble [10 × 4] (S3: tbl_df/tbl/data.frame)\n",
            " $ a: num [1:10] -1.897 -0.488 -0.212 -0.206 1.191 ...\n",
            " $ b: num [1:10] -1.379 -0.54 1.128 0.105 1.956 ...\n",
            " $ c: num [1:10] 0.304 -1.245 -0.504 -0.217 1.337 ...\n",
            " $ d: num [1:10] -0.416 1.257 0.279 0.301 -1.161 ...\n"
          ],
          "name": "stdout"
        }
      ]
    },
    {
      "cell_type": "code",
      "metadata": {
        "colab": {
          "base_uri": "https://localhost:8080/",
          "height": 52
        },
        "id": "5U0y3HRModFI",
        "outputId": "cad7b0c4-5cf7-4582-d8ad-38364ab341d7"
      },
      "source": [
        "df %>% map_dbl(mean)"
      ],
      "execution_count": 59,
      "outputs": [
        {
          "output_type": "display_data",
          "data": {
            "text/plain": [
              "          a           b           c           d \n",
              "0.164963536 0.370818150 0.002850845 0.164024652 "
            ],
            "text/latex": "\\begin{description*}\n\\item[a] 0.1649635364568\n\\item[b] 0.370818149757559\n\\item[c] 0.00285084474415511\n\\item[d] 0.164024652348135\n\\end{description*}\n",
            "text/markdown": "a\n:   0.1649635364568b\n:   0.370818149757559c\n:   0.00285084474415511d\n:   0.164024652348135\n\n",
            "text/html": [
              "<style>\n",
              ".dl-inline {width: auto; margin:0; padding: 0}\n",
              ".dl-inline>dt, .dl-inline>dd {float: none; width: auto; display: inline-block}\n",
              ".dl-inline>dt::after {content: \":\\0020\"; padding-right: .5ex}\n",
              ".dl-inline>dt:not(:first-of-type) {padding-left: .5ex}\n",
              "</style><dl class=dl-inline><dt>a</dt><dd>0.1649635364568</dd><dt>b</dt><dd>0.370818149757559</dd><dt>c</dt><dd>0.00285084474415511</dd><dt>d</dt><dd>0.164024652348135</dd></dl>\n"
            ]
          },
          "metadata": {
            "tags": []
          }
        }
      ]
    },
    {
      "cell_type": "code",
      "metadata": {
        "colab": {
          "base_uri": "https://localhost:8080/",
          "height": 52
        },
        "id": "fOnChFOYofwU",
        "outputId": "b11ef5cd-277b-44c4-d9a1-f1955fc2a87d"
      },
      "source": [
        "df %>% map_dbl(median)"
      ],
      "execution_count": 60,
      "outputs": [
        {
          "output_type": "display_data",
          "data": {
            "text/plain": [
              "          a           b           c           d \n",
              "0.149526460 0.279882678 0.005271018 0.395012272 "
            ],
            "text/latex": "\\begin{description*}\n\\item[a] 0.14952646022978\n\\item[b] 0.279882677922584\n\\item[c] 0.00527101842956419\n\\item[d] 0.395012271701659\n\\end{description*}\n",
            "text/markdown": "a\n:   0.14952646022978b\n:   0.279882677922584c\n:   0.00527101842956419d\n:   0.395012271701659\n\n",
            "text/html": [
              "<style>\n",
              ".dl-inline {width: auto; margin:0; padding: 0}\n",
              ".dl-inline>dt, .dl-inline>dd {float: none; width: auto; display: inline-block}\n",
              ".dl-inline>dt::after {content: \":\\0020\"; padding-right: .5ex}\n",
              ".dl-inline>dt:not(:first-of-type) {padding-left: .5ex}\n",
              "</style><dl class=dl-inline><dt>a</dt><dd>0.14952646022978</dd><dt>b</dt><dd>0.279882677922584</dd><dt>c</dt><dd>0.00527101842956419</dd><dt>d</dt><dd>0.395012271701659</dd></dl>\n"
            ]
          },
          "metadata": {
            "tags": []
          }
        }
      ]
    },
    {
      "cell_type": "code",
      "metadata": {
        "colab": {
          "base_uri": "https://localhost:8080/",
          "height": 1000
        },
        "id": "K2HA1zJ2ojBd",
        "outputId": "7a9d957a-f55f-4976-e273-32ef2b4809b8"
      },
      "source": [
        "mtcars %>% split(.$cyl)"
      ],
      "execution_count": 61,
      "outputs": [
        {
          "output_type": "display_data",
          "data": {
            "text/plain": [
              "$`4`\n",
              "                mpg cyl  disp  hp drat    wt  qsec vs am gear carb\n",
              "Datsun 710     22.8   4 108.0  93 3.85 2.320 18.61  1  1    4    1\n",
              "Merc 240D      24.4   4 146.7  62 3.69 3.190 20.00  1  0    4    2\n",
              "Merc 230       22.8   4 140.8  95 3.92 3.150 22.90  1  0    4    2\n",
              "Fiat 128       32.4   4  78.7  66 4.08 2.200 19.47  1  1    4    1\n",
              "Honda Civic    30.4   4  75.7  52 4.93 1.615 18.52  1  1    4    2\n",
              "Toyota Corolla 33.9   4  71.1  65 4.22 1.835 19.90  1  1    4    1\n",
              "Toyota Corona  21.5   4 120.1  97 3.70 2.465 20.01  1  0    3    1\n",
              "Fiat X1-9      27.3   4  79.0  66 4.08 1.935 18.90  1  1    4    1\n",
              "Porsche 914-2  26.0   4 120.3  91 4.43 2.140 16.70  0  1    5    2\n",
              "Lotus Europa   30.4   4  95.1 113 3.77 1.513 16.90  1  1    5    2\n",
              "Volvo 142E     21.4   4 121.0 109 4.11 2.780 18.60  1  1    4    2\n",
              "\n",
              "$`6`\n",
              "                mpg cyl  disp  hp drat    wt  qsec vs am gear carb\n",
              "Mazda RX4      21.0   6 160.0 110 3.90 2.620 16.46  0  1    4    4\n",
              "Mazda RX4 Wag  21.0   6 160.0 110 3.90 2.875 17.02  0  1    4    4\n",
              "Hornet 4 Drive 21.4   6 258.0 110 3.08 3.215 19.44  1  0    3    1\n",
              "Valiant        18.1   6 225.0 105 2.76 3.460 20.22  1  0    3    1\n",
              "Merc 280       19.2   6 167.6 123 3.92 3.440 18.30  1  0    4    4\n",
              "Merc 280C      17.8   6 167.6 123 3.92 3.440 18.90  1  0    4    4\n",
              "Ferrari Dino   19.7   6 145.0 175 3.62 2.770 15.50  0  1    5    6\n",
              "\n",
              "$`8`\n",
              "                     mpg cyl  disp  hp drat    wt  qsec vs am gear carb\n",
              "Hornet Sportabout   18.7   8 360.0 175 3.15 3.440 17.02  0  0    3    2\n",
              "Duster 360          14.3   8 360.0 245 3.21 3.570 15.84  0  0    3    4\n",
              "Merc 450SE          16.4   8 275.8 180 3.07 4.070 17.40  0  0    3    3\n",
              "Merc 450SL          17.3   8 275.8 180 3.07 3.730 17.60  0  0    3    3\n",
              "Merc 450SLC         15.2   8 275.8 180 3.07 3.780 18.00  0  0    3    3\n",
              "Cadillac Fleetwood  10.4   8 472.0 205 2.93 5.250 17.98  0  0    3    4\n",
              "Lincoln Continental 10.4   8 460.0 215 3.00 5.424 17.82  0  0    3    4\n",
              "Chrysler Imperial   14.7   8 440.0 230 3.23 5.345 17.42  0  0    3    4\n",
              "Dodge Challenger    15.5   8 318.0 150 2.76 3.520 16.87  0  0    3    2\n",
              "AMC Javelin         15.2   8 304.0 150 3.15 3.435 17.30  0  0    3    2\n",
              "Camaro Z28          13.3   8 350.0 245 3.73 3.840 15.41  0  0    3    4\n",
              "Pontiac Firebird    19.2   8 400.0 175 3.08 3.845 17.05  0  0    3    2\n",
              "Ford Pantera L      15.8   8 351.0 264 4.22 3.170 14.50  0  1    5    4\n",
              "Maserati Bora       15.0   8 301.0 335 3.54 3.570 14.60  0  1    5    8\n"
            ],
            "text/latex": "\\begin{description}\n\\item[\\$`4`] A data.frame: 11 × 11\n\\begin{tabular}{r|lllllllllll}\n  & mpg & cyl & disp & hp & drat & wt & qsec & vs & am & gear & carb\\\\\n  & <dbl> & <dbl> & <dbl> & <dbl> & <dbl> & <dbl> & <dbl> & <dbl> & <dbl> & <dbl> & <dbl>\\\\\n\\hline\n\tDatsun 710 & 22.8 & 4 & 108.0 &  93 & 3.85 & 2.320 & 18.61 & 1 & 1 & 4 & 1\\\\\n\tMerc 240D & 24.4 & 4 & 146.7 &  62 & 3.69 & 3.190 & 20.00 & 1 & 0 & 4 & 2\\\\\n\tMerc 230 & 22.8 & 4 & 140.8 &  95 & 3.92 & 3.150 & 22.90 & 1 & 0 & 4 & 2\\\\\n\tFiat 128 & 32.4 & 4 &  78.7 &  66 & 4.08 & 2.200 & 19.47 & 1 & 1 & 4 & 1\\\\\n\tHonda Civic & 30.4 & 4 &  75.7 &  52 & 4.93 & 1.615 & 18.52 & 1 & 1 & 4 & 2\\\\\n\tToyota Corolla & 33.9 & 4 &  71.1 &  65 & 4.22 & 1.835 & 19.90 & 1 & 1 & 4 & 1\\\\\n\tToyota Corona & 21.5 & 4 & 120.1 &  97 & 3.70 & 2.465 & 20.01 & 1 & 0 & 3 & 1\\\\\n\tFiat X1-9 & 27.3 & 4 &  79.0 &  66 & 4.08 & 1.935 & 18.90 & 1 & 1 & 4 & 1\\\\\n\tPorsche 914-2 & 26.0 & 4 & 120.3 &  91 & 4.43 & 2.140 & 16.70 & 0 & 1 & 5 & 2\\\\\n\tLotus Europa & 30.4 & 4 &  95.1 & 113 & 3.77 & 1.513 & 16.90 & 1 & 1 & 5 & 2\\\\\n\tVolvo 142E & 21.4 & 4 & 121.0 & 109 & 4.11 & 2.780 & 18.60 & 1 & 1 & 4 & 2\\\\\n\\end{tabular}\n\n\\item[\\$`6`] A data.frame: 7 × 11\n\\begin{tabular}{r|lllllllllll}\n  & mpg & cyl & disp & hp & drat & wt & qsec & vs & am & gear & carb\\\\\n  & <dbl> & <dbl> & <dbl> & <dbl> & <dbl> & <dbl> & <dbl> & <dbl> & <dbl> & <dbl> & <dbl>\\\\\n\\hline\n\tMazda RX4 & 21.0 & 6 & 160.0 & 110 & 3.90 & 2.620 & 16.46 & 0 & 1 & 4 & 4\\\\\n\tMazda RX4 Wag & 21.0 & 6 & 160.0 & 110 & 3.90 & 2.875 & 17.02 & 0 & 1 & 4 & 4\\\\\n\tHornet 4 Drive & 21.4 & 6 & 258.0 & 110 & 3.08 & 3.215 & 19.44 & 1 & 0 & 3 & 1\\\\\n\tValiant & 18.1 & 6 & 225.0 & 105 & 2.76 & 3.460 & 20.22 & 1 & 0 & 3 & 1\\\\\n\tMerc 280 & 19.2 & 6 & 167.6 & 123 & 3.92 & 3.440 & 18.30 & 1 & 0 & 4 & 4\\\\\n\tMerc 280C & 17.8 & 6 & 167.6 & 123 & 3.92 & 3.440 & 18.90 & 1 & 0 & 4 & 4\\\\\n\tFerrari Dino & 19.7 & 6 & 145.0 & 175 & 3.62 & 2.770 & 15.50 & 0 & 1 & 5 & 6\\\\\n\\end{tabular}\n\n\\item[\\$`8`] A data.frame: 14 × 11\n\\begin{tabular}{r|lllllllllll}\n  & mpg & cyl & disp & hp & drat & wt & qsec & vs & am & gear & carb\\\\\n  & <dbl> & <dbl> & <dbl> & <dbl> & <dbl> & <dbl> & <dbl> & <dbl> & <dbl> & <dbl> & <dbl>\\\\\n\\hline\n\tHornet Sportabout & 18.7 & 8 & 360.0 & 175 & 3.15 & 3.440 & 17.02 & 0 & 0 & 3 & 2\\\\\n\tDuster 360 & 14.3 & 8 & 360.0 & 245 & 3.21 & 3.570 & 15.84 & 0 & 0 & 3 & 4\\\\\n\tMerc 450SE & 16.4 & 8 & 275.8 & 180 & 3.07 & 4.070 & 17.40 & 0 & 0 & 3 & 3\\\\\n\tMerc 450SL & 17.3 & 8 & 275.8 & 180 & 3.07 & 3.730 & 17.60 & 0 & 0 & 3 & 3\\\\\n\tMerc 450SLC & 15.2 & 8 & 275.8 & 180 & 3.07 & 3.780 & 18.00 & 0 & 0 & 3 & 3\\\\\n\tCadillac Fleetwood & 10.4 & 8 & 472.0 & 205 & 2.93 & 5.250 & 17.98 & 0 & 0 & 3 & 4\\\\\n\tLincoln Continental & 10.4 & 8 & 460.0 & 215 & 3.00 & 5.424 & 17.82 & 0 & 0 & 3 & 4\\\\\n\tChrysler Imperial & 14.7 & 8 & 440.0 & 230 & 3.23 & 5.345 & 17.42 & 0 & 0 & 3 & 4\\\\\n\tDodge Challenger & 15.5 & 8 & 318.0 & 150 & 2.76 & 3.520 & 16.87 & 0 & 0 & 3 & 2\\\\\n\tAMC Javelin & 15.2 & 8 & 304.0 & 150 & 3.15 & 3.435 & 17.30 & 0 & 0 & 3 & 2\\\\\n\tCamaro Z28 & 13.3 & 8 & 350.0 & 245 & 3.73 & 3.840 & 15.41 & 0 & 0 & 3 & 4\\\\\n\tPontiac Firebird & 19.2 & 8 & 400.0 & 175 & 3.08 & 3.845 & 17.05 & 0 & 0 & 3 & 2\\\\\n\tFord Pantera L & 15.8 & 8 & 351.0 & 264 & 4.22 & 3.170 & 14.50 & 0 & 1 & 5 & 4\\\\\n\tMaserati Bora & 15.0 & 8 & 301.0 & 335 & 3.54 & 3.570 & 14.60 & 0 & 1 & 5 & 8\\\\\n\\end{tabular}\n\n\\end{description}\n",
            "text/markdown": "$`4`\n:   \nA data.frame: 11 × 11\n\n| <!--/--> | mpg &lt;dbl&gt; | cyl &lt;dbl&gt; | disp &lt;dbl&gt; | hp &lt;dbl&gt; | drat &lt;dbl&gt; | wt &lt;dbl&gt; | qsec &lt;dbl&gt; | vs &lt;dbl&gt; | am &lt;dbl&gt; | gear &lt;dbl&gt; | carb &lt;dbl&gt; |\n|---|---|---|---|---|---|---|---|---|---|---|---|\n| Datsun 710 | 22.8 | 4 | 108.0 |  93 | 3.85 | 2.320 | 18.61 | 1 | 1 | 4 | 1 |\n| Merc 240D | 24.4 | 4 | 146.7 |  62 | 3.69 | 3.190 | 20.00 | 1 | 0 | 4 | 2 |\n| Merc 230 | 22.8 | 4 | 140.8 |  95 | 3.92 | 3.150 | 22.90 | 1 | 0 | 4 | 2 |\n| Fiat 128 | 32.4 | 4 |  78.7 |  66 | 4.08 | 2.200 | 19.47 | 1 | 1 | 4 | 1 |\n| Honda Civic | 30.4 | 4 |  75.7 |  52 | 4.93 | 1.615 | 18.52 | 1 | 1 | 4 | 2 |\n| Toyota Corolla | 33.9 | 4 |  71.1 |  65 | 4.22 | 1.835 | 19.90 | 1 | 1 | 4 | 1 |\n| Toyota Corona | 21.5 | 4 | 120.1 |  97 | 3.70 | 2.465 | 20.01 | 1 | 0 | 3 | 1 |\n| Fiat X1-9 | 27.3 | 4 |  79.0 |  66 | 4.08 | 1.935 | 18.90 | 1 | 1 | 4 | 1 |\n| Porsche 914-2 | 26.0 | 4 | 120.3 |  91 | 4.43 | 2.140 | 16.70 | 0 | 1 | 5 | 2 |\n| Lotus Europa | 30.4 | 4 |  95.1 | 113 | 3.77 | 1.513 | 16.90 | 1 | 1 | 5 | 2 |\n| Volvo 142E | 21.4 | 4 | 121.0 | 109 | 4.11 | 2.780 | 18.60 | 1 | 1 | 4 | 2 |\n\n\n$`6`\n:   \nA data.frame: 7 × 11\n\n| <!--/--> | mpg &lt;dbl&gt; | cyl &lt;dbl&gt; | disp &lt;dbl&gt; | hp &lt;dbl&gt; | drat &lt;dbl&gt; | wt &lt;dbl&gt; | qsec &lt;dbl&gt; | vs &lt;dbl&gt; | am &lt;dbl&gt; | gear &lt;dbl&gt; | carb &lt;dbl&gt; |\n|---|---|---|---|---|---|---|---|---|---|---|---|\n| Mazda RX4 | 21.0 | 6 | 160.0 | 110 | 3.90 | 2.620 | 16.46 | 0 | 1 | 4 | 4 |\n| Mazda RX4 Wag | 21.0 | 6 | 160.0 | 110 | 3.90 | 2.875 | 17.02 | 0 | 1 | 4 | 4 |\n| Hornet 4 Drive | 21.4 | 6 | 258.0 | 110 | 3.08 | 3.215 | 19.44 | 1 | 0 | 3 | 1 |\n| Valiant | 18.1 | 6 | 225.0 | 105 | 2.76 | 3.460 | 20.22 | 1 | 0 | 3 | 1 |\n| Merc 280 | 19.2 | 6 | 167.6 | 123 | 3.92 | 3.440 | 18.30 | 1 | 0 | 4 | 4 |\n| Merc 280C | 17.8 | 6 | 167.6 | 123 | 3.92 | 3.440 | 18.90 | 1 | 0 | 4 | 4 |\n| Ferrari Dino | 19.7 | 6 | 145.0 | 175 | 3.62 | 2.770 | 15.50 | 0 | 1 | 5 | 6 |\n\n\n$`8`\n:   \nA data.frame: 14 × 11\n\n| <!--/--> | mpg &lt;dbl&gt; | cyl &lt;dbl&gt; | disp &lt;dbl&gt; | hp &lt;dbl&gt; | drat &lt;dbl&gt; | wt &lt;dbl&gt; | qsec &lt;dbl&gt; | vs &lt;dbl&gt; | am &lt;dbl&gt; | gear &lt;dbl&gt; | carb &lt;dbl&gt; |\n|---|---|---|---|---|---|---|---|---|---|---|---|\n| Hornet Sportabout | 18.7 | 8 | 360.0 | 175 | 3.15 | 3.440 | 17.02 | 0 | 0 | 3 | 2 |\n| Duster 360 | 14.3 | 8 | 360.0 | 245 | 3.21 | 3.570 | 15.84 | 0 | 0 | 3 | 4 |\n| Merc 450SE | 16.4 | 8 | 275.8 | 180 | 3.07 | 4.070 | 17.40 | 0 | 0 | 3 | 3 |\n| Merc 450SL | 17.3 | 8 | 275.8 | 180 | 3.07 | 3.730 | 17.60 | 0 | 0 | 3 | 3 |\n| Merc 450SLC | 15.2 | 8 | 275.8 | 180 | 3.07 | 3.780 | 18.00 | 0 | 0 | 3 | 3 |\n| Cadillac Fleetwood | 10.4 | 8 | 472.0 | 205 | 2.93 | 5.250 | 17.98 | 0 | 0 | 3 | 4 |\n| Lincoln Continental | 10.4 | 8 | 460.0 | 215 | 3.00 | 5.424 | 17.82 | 0 | 0 | 3 | 4 |\n| Chrysler Imperial | 14.7 | 8 | 440.0 | 230 | 3.23 | 5.345 | 17.42 | 0 | 0 | 3 | 4 |\n| Dodge Challenger | 15.5 | 8 | 318.0 | 150 | 2.76 | 3.520 | 16.87 | 0 | 0 | 3 | 2 |\n| AMC Javelin | 15.2 | 8 | 304.0 | 150 | 3.15 | 3.435 | 17.30 | 0 | 0 | 3 | 2 |\n| Camaro Z28 | 13.3 | 8 | 350.0 | 245 | 3.73 | 3.840 | 15.41 | 0 | 0 | 3 | 4 |\n| Pontiac Firebird | 19.2 | 8 | 400.0 | 175 | 3.08 | 3.845 | 17.05 | 0 | 0 | 3 | 2 |\n| Ford Pantera L | 15.8 | 8 | 351.0 | 264 | 4.22 | 3.170 | 14.50 | 0 | 1 | 5 | 4 |\n| Maserati Bora | 15.0 | 8 | 301.0 | 335 | 3.54 | 3.570 | 14.60 | 0 | 1 | 5 | 8 |\n\n\n\n\n",
            "text/html": [
              "<dl>\n",
              "\t<dt>$`4`</dt>\n",
              "\t\t<dd><table class=\"dataframe\">\n",
              "<caption>A data.frame: 11 × 11</caption>\n",
              "<thead>\n",
              "\t<tr><th></th><th scope=col>mpg</th><th scope=col>cyl</th><th scope=col>disp</th><th scope=col>hp</th><th scope=col>drat</th><th scope=col>wt</th><th scope=col>qsec</th><th scope=col>vs</th><th scope=col>am</th><th scope=col>gear</th><th scope=col>carb</th></tr>\n",
              "\t<tr><th></th><th scope=col>&lt;dbl&gt;</th><th scope=col>&lt;dbl&gt;</th><th scope=col>&lt;dbl&gt;</th><th scope=col>&lt;dbl&gt;</th><th scope=col>&lt;dbl&gt;</th><th scope=col>&lt;dbl&gt;</th><th scope=col>&lt;dbl&gt;</th><th scope=col>&lt;dbl&gt;</th><th scope=col>&lt;dbl&gt;</th><th scope=col>&lt;dbl&gt;</th><th scope=col>&lt;dbl&gt;</th></tr>\n",
              "</thead>\n",
              "<tbody>\n",
              "\t<tr><th scope=row>Datsun 710</th><td>22.8</td><td>4</td><td>108.0</td><td> 93</td><td>3.85</td><td>2.320</td><td>18.61</td><td>1</td><td>1</td><td>4</td><td>1</td></tr>\n",
              "\t<tr><th scope=row>Merc 240D</th><td>24.4</td><td>4</td><td>146.7</td><td> 62</td><td>3.69</td><td>3.190</td><td>20.00</td><td>1</td><td>0</td><td>4</td><td>2</td></tr>\n",
              "\t<tr><th scope=row>Merc 230</th><td>22.8</td><td>4</td><td>140.8</td><td> 95</td><td>3.92</td><td>3.150</td><td>22.90</td><td>1</td><td>0</td><td>4</td><td>2</td></tr>\n",
              "\t<tr><th scope=row>Fiat 128</th><td>32.4</td><td>4</td><td> 78.7</td><td> 66</td><td>4.08</td><td>2.200</td><td>19.47</td><td>1</td><td>1</td><td>4</td><td>1</td></tr>\n",
              "\t<tr><th scope=row>Honda Civic</th><td>30.4</td><td>4</td><td> 75.7</td><td> 52</td><td>4.93</td><td>1.615</td><td>18.52</td><td>1</td><td>1</td><td>4</td><td>2</td></tr>\n",
              "\t<tr><th scope=row>Toyota Corolla</th><td>33.9</td><td>4</td><td> 71.1</td><td> 65</td><td>4.22</td><td>1.835</td><td>19.90</td><td>1</td><td>1</td><td>4</td><td>1</td></tr>\n",
              "\t<tr><th scope=row>Toyota Corona</th><td>21.5</td><td>4</td><td>120.1</td><td> 97</td><td>3.70</td><td>2.465</td><td>20.01</td><td>1</td><td>0</td><td>3</td><td>1</td></tr>\n",
              "\t<tr><th scope=row>Fiat X1-9</th><td>27.3</td><td>4</td><td> 79.0</td><td> 66</td><td>4.08</td><td>1.935</td><td>18.90</td><td>1</td><td>1</td><td>4</td><td>1</td></tr>\n",
              "\t<tr><th scope=row>Porsche 914-2</th><td>26.0</td><td>4</td><td>120.3</td><td> 91</td><td>4.43</td><td>2.140</td><td>16.70</td><td>0</td><td>1</td><td>5</td><td>2</td></tr>\n",
              "\t<tr><th scope=row>Lotus Europa</th><td>30.4</td><td>4</td><td> 95.1</td><td>113</td><td>3.77</td><td>1.513</td><td>16.90</td><td>1</td><td>1</td><td>5</td><td>2</td></tr>\n",
              "\t<tr><th scope=row>Volvo 142E</th><td>21.4</td><td>4</td><td>121.0</td><td>109</td><td>4.11</td><td>2.780</td><td>18.60</td><td>1</td><td>1</td><td>4</td><td>2</td></tr>\n",
              "</tbody>\n",
              "</table>\n",
              "</dd>\n",
              "\t<dt>$`6`</dt>\n",
              "\t\t<dd><table class=\"dataframe\">\n",
              "<caption>A data.frame: 7 × 11</caption>\n",
              "<thead>\n",
              "\t<tr><th></th><th scope=col>mpg</th><th scope=col>cyl</th><th scope=col>disp</th><th scope=col>hp</th><th scope=col>drat</th><th scope=col>wt</th><th scope=col>qsec</th><th scope=col>vs</th><th scope=col>am</th><th scope=col>gear</th><th scope=col>carb</th></tr>\n",
              "\t<tr><th></th><th scope=col>&lt;dbl&gt;</th><th scope=col>&lt;dbl&gt;</th><th scope=col>&lt;dbl&gt;</th><th scope=col>&lt;dbl&gt;</th><th scope=col>&lt;dbl&gt;</th><th scope=col>&lt;dbl&gt;</th><th scope=col>&lt;dbl&gt;</th><th scope=col>&lt;dbl&gt;</th><th scope=col>&lt;dbl&gt;</th><th scope=col>&lt;dbl&gt;</th><th scope=col>&lt;dbl&gt;</th></tr>\n",
              "</thead>\n",
              "<tbody>\n",
              "\t<tr><th scope=row>Mazda RX4</th><td>21.0</td><td>6</td><td>160.0</td><td>110</td><td>3.90</td><td>2.620</td><td>16.46</td><td>0</td><td>1</td><td>4</td><td>4</td></tr>\n",
              "\t<tr><th scope=row>Mazda RX4 Wag</th><td>21.0</td><td>6</td><td>160.0</td><td>110</td><td>3.90</td><td>2.875</td><td>17.02</td><td>0</td><td>1</td><td>4</td><td>4</td></tr>\n",
              "\t<tr><th scope=row>Hornet 4 Drive</th><td>21.4</td><td>6</td><td>258.0</td><td>110</td><td>3.08</td><td>3.215</td><td>19.44</td><td>1</td><td>0</td><td>3</td><td>1</td></tr>\n",
              "\t<tr><th scope=row>Valiant</th><td>18.1</td><td>6</td><td>225.0</td><td>105</td><td>2.76</td><td>3.460</td><td>20.22</td><td>1</td><td>0</td><td>3</td><td>1</td></tr>\n",
              "\t<tr><th scope=row>Merc 280</th><td>19.2</td><td>6</td><td>167.6</td><td>123</td><td>3.92</td><td>3.440</td><td>18.30</td><td>1</td><td>0</td><td>4</td><td>4</td></tr>\n",
              "\t<tr><th scope=row>Merc 280C</th><td>17.8</td><td>6</td><td>167.6</td><td>123</td><td>3.92</td><td>3.440</td><td>18.90</td><td>1</td><td>0</td><td>4</td><td>4</td></tr>\n",
              "\t<tr><th scope=row>Ferrari Dino</th><td>19.7</td><td>6</td><td>145.0</td><td>175</td><td>3.62</td><td>2.770</td><td>15.50</td><td>0</td><td>1</td><td>5</td><td>6</td></tr>\n",
              "</tbody>\n",
              "</table>\n",
              "</dd>\n",
              "\t<dt>$`8`</dt>\n",
              "\t\t<dd><table class=\"dataframe\">\n",
              "<caption>A data.frame: 14 × 11</caption>\n",
              "<thead>\n",
              "\t<tr><th></th><th scope=col>mpg</th><th scope=col>cyl</th><th scope=col>disp</th><th scope=col>hp</th><th scope=col>drat</th><th scope=col>wt</th><th scope=col>qsec</th><th scope=col>vs</th><th scope=col>am</th><th scope=col>gear</th><th scope=col>carb</th></tr>\n",
              "\t<tr><th></th><th scope=col>&lt;dbl&gt;</th><th scope=col>&lt;dbl&gt;</th><th scope=col>&lt;dbl&gt;</th><th scope=col>&lt;dbl&gt;</th><th scope=col>&lt;dbl&gt;</th><th scope=col>&lt;dbl&gt;</th><th scope=col>&lt;dbl&gt;</th><th scope=col>&lt;dbl&gt;</th><th scope=col>&lt;dbl&gt;</th><th scope=col>&lt;dbl&gt;</th><th scope=col>&lt;dbl&gt;</th></tr>\n",
              "</thead>\n",
              "<tbody>\n",
              "\t<tr><th scope=row>Hornet Sportabout</th><td>18.7</td><td>8</td><td>360.0</td><td>175</td><td>3.15</td><td>3.440</td><td>17.02</td><td>0</td><td>0</td><td>3</td><td>2</td></tr>\n",
              "\t<tr><th scope=row>Duster 360</th><td>14.3</td><td>8</td><td>360.0</td><td>245</td><td>3.21</td><td>3.570</td><td>15.84</td><td>0</td><td>0</td><td>3</td><td>4</td></tr>\n",
              "\t<tr><th scope=row>Merc 450SE</th><td>16.4</td><td>8</td><td>275.8</td><td>180</td><td>3.07</td><td>4.070</td><td>17.40</td><td>0</td><td>0</td><td>3</td><td>3</td></tr>\n",
              "\t<tr><th scope=row>Merc 450SL</th><td>17.3</td><td>8</td><td>275.8</td><td>180</td><td>3.07</td><td>3.730</td><td>17.60</td><td>0</td><td>0</td><td>3</td><td>3</td></tr>\n",
              "\t<tr><th scope=row>Merc 450SLC</th><td>15.2</td><td>8</td><td>275.8</td><td>180</td><td>3.07</td><td>3.780</td><td>18.00</td><td>0</td><td>0</td><td>3</td><td>3</td></tr>\n",
              "\t<tr><th scope=row>Cadillac Fleetwood</th><td>10.4</td><td>8</td><td>472.0</td><td>205</td><td>2.93</td><td>5.250</td><td>17.98</td><td>0</td><td>0</td><td>3</td><td>4</td></tr>\n",
              "\t<tr><th scope=row>Lincoln Continental</th><td>10.4</td><td>8</td><td>460.0</td><td>215</td><td>3.00</td><td>5.424</td><td>17.82</td><td>0</td><td>0</td><td>3</td><td>4</td></tr>\n",
              "\t<tr><th scope=row>Chrysler Imperial</th><td>14.7</td><td>8</td><td>440.0</td><td>230</td><td>3.23</td><td>5.345</td><td>17.42</td><td>0</td><td>0</td><td>3</td><td>4</td></tr>\n",
              "\t<tr><th scope=row>Dodge Challenger</th><td>15.5</td><td>8</td><td>318.0</td><td>150</td><td>2.76</td><td>3.520</td><td>16.87</td><td>0</td><td>0</td><td>3</td><td>2</td></tr>\n",
              "\t<tr><th scope=row>AMC Javelin</th><td>15.2</td><td>8</td><td>304.0</td><td>150</td><td>3.15</td><td>3.435</td><td>17.30</td><td>0</td><td>0</td><td>3</td><td>2</td></tr>\n",
              "\t<tr><th scope=row>Camaro Z28</th><td>13.3</td><td>8</td><td>350.0</td><td>245</td><td>3.73</td><td>3.840</td><td>15.41</td><td>0</td><td>0</td><td>3</td><td>4</td></tr>\n",
              "\t<tr><th scope=row>Pontiac Firebird</th><td>19.2</td><td>8</td><td>400.0</td><td>175</td><td>3.08</td><td>3.845</td><td>17.05</td><td>0</td><td>0</td><td>3</td><td>2</td></tr>\n",
              "\t<tr><th scope=row>Ford Pantera L</th><td>15.8</td><td>8</td><td>351.0</td><td>264</td><td>4.22</td><td>3.170</td><td>14.50</td><td>0</td><td>1</td><td>5</td><td>4</td></tr>\n",
              "\t<tr><th scope=row>Maserati Bora</th><td>15.0</td><td>8</td><td>301.0</td><td>335</td><td>3.54</td><td>3.570</td><td>14.60</td><td>0</td><td>1</td><td>5</td><td>8</td></tr>\n",
              "</tbody>\n",
              "</table>\n",
              "</dd>\n",
              "</dl>\n"
            ]
          },
          "metadata": {
            "tags": []
          }
        }
      ]
    },
    {
      "cell_type": "code",
      "metadata": {
        "id": "PZoa5Hymoo9c"
      },
      "source": [
        "## can define a function in map"
      ],
      "execution_count": 62,
      "outputs": []
    },
    {
      "cell_type": "code",
      "metadata": {
        "colab": {
          "base_uri": "https://localhost:8080/",
          "height": 559
        },
        "id": "QpwSAsqrowDM",
        "outputId": "dda1ce1e-a380-4b5a-e687-7a9d3bc80b71"
      },
      "source": [
        "mtcars %>% split(.$cyl) %>% map(function(df) lm(mpg ~ wt, data = df))"
      ],
      "execution_count": 63,
      "outputs": [
        {
          "output_type": "display_data",
          "data": {
            "text/plain": [
              "$`4`\n",
              "\n",
              "Call:\n",
              "lm(formula = mpg ~ wt, data = df)\n",
              "\n",
              "Coefficients:\n",
              "(Intercept)           wt  \n",
              "     39.571       -5.647  \n",
              "\n",
              "\n",
              "$`6`\n",
              "\n",
              "Call:\n",
              "lm(formula = mpg ~ wt, data = df)\n",
              "\n",
              "Coefficients:\n",
              "(Intercept)           wt  \n",
              "      28.41        -2.78  \n",
              "\n",
              "\n",
              "$`8`\n",
              "\n",
              "Call:\n",
              "lm(formula = mpg ~ wt, data = df)\n",
              "\n",
              "Coefficients:\n",
              "(Intercept)           wt  \n",
              "     23.868       -2.192  \n",
              "\n"
            ]
          },
          "metadata": {
            "tags": []
          }
        }
      ]
    },
    {
      "cell_type": "code",
      "metadata": {
        "colab": {
          "base_uri": "https://localhost:8080/",
          "height": 559
        },
        "id": "MAU4V9cCo3CR",
        "outputId": "4506b27d-a62f-4a0f-8eef-d5ff5b76f59e"
      },
      "source": [
        "f1 <- function(df){\n",
        "    lm(mpg ~ wt, data = df)\n",
        "}\n",
        "\n",
        "mtcars %>% split(.$cyl) %>% map(f1)"
      ],
      "execution_count": 64,
      "outputs": [
        {
          "output_type": "display_data",
          "data": {
            "text/plain": [
              "$`4`\n",
              "\n",
              "Call:\n",
              "lm(formula = mpg ~ wt, data = df)\n",
              "\n",
              "Coefficients:\n",
              "(Intercept)           wt  \n",
              "     39.571       -5.647  \n",
              "\n",
              "\n",
              "$`6`\n",
              "\n",
              "Call:\n",
              "lm(formula = mpg ~ wt, data = df)\n",
              "\n",
              "Coefficients:\n",
              "(Intercept)           wt  \n",
              "      28.41        -2.78  \n",
              "\n",
              "\n",
              "$`8`\n",
              "\n",
              "Call:\n",
              "lm(formula = mpg ~ wt, data = df)\n",
              "\n",
              "Coefficients:\n",
              "(Intercept)           wt  \n",
              "     23.868       -2.192  \n",
              "\n"
            ]
          },
          "metadata": {
            "tags": []
          }
        }
      ]
    },
    {
      "cell_type": "code",
      "metadata": {
        "colab": {
          "base_uri": "https://localhost:8080/",
          "height": 559
        },
        "id": "Vu1_uNm3o_z1",
        "outputId": "6f53b141-e1bc-47fd-f76d-2ebb97182b40"
      },
      "source": [
        "mtcars %>% split(.$cyl) %>% map(~lm(mpg ~ wt, data = .))"
      ],
      "execution_count": 65,
      "outputs": [
        {
          "output_type": "display_data",
          "data": {
            "text/plain": [
              "$`4`\n",
              "\n",
              "Call:\n",
              "lm(formula = mpg ~ wt, data = .)\n",
              "\n",
              "Coefficients:\n",
              "(Intercept)           wt  \n",
              "     39.571       -5.647  \n",
              "\n",
              "\n",
              "$`6`\n",
              "\n",
              "Call:\n",
              "lm(formula = mpg ~ wt, data = .)\n",
              "\n",
              "Coefficients:\n",
              "(Intercept)           wt  \n",
              "      28.41        -2.78  \n",
              "\n",
              "\n",
              "$`8`\n",
              "\n",
              "Call:\n",
              "lm(formula = mpg ~ wt, data = .)\n",
              "\n",
              "Coefficients:\n",
              "(Intercept)           wt  \n",
              "     23.868       -2.192  \n",
              "\n"
            ]
          },
          "metadata": {
            "tags": []
          }
        }
      ]
    },
    {
      "cell_type": "code",
      "metadata": {
        "id": "R52kWPIzpHc3"
      },
      "source": [
        "##extract component"
      ],
      "execution_count": 66,
      "outputs": []
    },
    {
      "cell_type": "code",
      "metadata": {
        "colab": {
          "base_uri": "https://localhost:8080/",
          "height": 35
        },
        "id": "UtqaWiSWpMJ5",
        "outputId": "6ff54aa8-6dbc-4ef0-b6da-d8390eba1a97"
      },
      "source": [
        "mtcars %>% split(.$cyl) %>%\n",
        "    map(~lm(mpg ~ wt, data = .)) %>%\n",
        "    map(summary) %>%\n",
        "    map_dbl(~.$r.squared)"
      ],
      "execution_count": 67,
      "outputs": [
        {
          "output_type": "display_data",
          "data": {
            "text/plain": [
              "        4         6         8 \n",
              "0.5086326 0.4645102 0.4229655 "
            ],
            "text/latex": "\\begin{description*}\n\\item[4] 0.50863259632314\n\\item[6] 0.464510150550548\n\\item[8] 0.422965536496111\n\\end{description*}\n",
            "text/markdown": "4\n:   0.508632596323146\n:   0.4645101505505488\n:   0.422965536496111\n\n",
            "text/html": [
              "<style>\n",
              ".dl-inline {width: auto; margin:0; padding: 0}\n",
              ".dl-inline>dt, .dl-inline>dd {float: none; width: auto; display: inline-block}\n",
              ".dl-inline>dt::after {content: \":\\0020\"; padding-right: .5ex}\n",
              ".dl-inline>dt:not(:first-of-type) {padding-left: .5ex}\n",
              "</style><dl class=dl-inline><dt>4</dt><dd>0.50863259632314</dd><dt>6</dt><dd>0.464510150550548</dd><dt>8</dt><dd>0.422965536496111</dd></dl>\n"
            ]
          },
          "metadata": {
            "tags": []
          }
        }
      ]
    },
    {
      "cell_type": "code",
      "metadata": {
        "colab": {
          "base_uri": "https://localhost:8080/",
          "height": 35
        },
        "id": "JxSPy-FApZZ3",
        "outputId": "db721e1e-eff9-4d41-d6aa-2de349fedc0a"
      },
      "source": [
        "mtcars %>% \n",
        "  split(.$cyl) %>% \n",
        "  map(~lm(mpg ~ wt, data = .)) %>% \n",
        "  map(summary) %>% \n",
        "  map_dbl('r.squared')\n"
      ],
      "execution_count": 69,
      "outputs": [
        {
          "output_type": "display_data",
          "data": {
            "text/plain": [
              "        4         6         8 \n",
              "0.5086326 0.4645102 0.4229655 "
            ],
            "text/latex": "\\begin{description*}\n\\item[4] 0.50863259632314\n\\item[6] 0.464510150550548\n\\item[8] 0.422965536496111\n\\end{description*}\n",
            "text/markdown": "4\n:   0.508632596323146\n:   0.4645101505505488\n:   0.422965536496111\n\n",
            "text/html": [
              "<style>\n",
              ".dl-inline {width: auto; margin:0; padding: 0}\n",
              ".dl-inline>dt, .dl-inline>dd {float: none; width: auto; display: inline-block}\n",
              ".dl-inline>dt::after {content: \":\\0020\"; padding-right: .5ex}\n",
              ".dl-inline>dt:not(:first-of-type) {padding-left: .5ex}\n",
              "</style><dl class=dl-inline><dt>4</dt><dd>0.50863259632314</dd><dt>6</dt><dd>0.464510150550548</dd><dt>8</dt><dd>0.422965536496111</dd></dl>\n"
            ]
          },
          "metadata": {
            "tags": []
          }
        }
      ]
    },
    {
      "cell_type": "code",
      "metadata": {
        "id": "2656nTe6psM8"
      },
      "source": [
        "## can also use an integer to select elements by position"
      ],
      "execution_count": 70,
      "outputs": []
    },
    {
      "cell_type": "code",
      "metadata": {
        "id": "Hjs5W-kMpy8L"
      },
      "source": [
        "x<- list(list(1,2,3), list(4,5,6), list(7,8,9))"
      ],
      "execution_count": 71,
      "outputs": []
    },
    {
      "cell_type": "code",
      "metadata": {
        "colab": {
          "base_uri": "https://localhost:8080/",
          "height": 201
        },
        "id": "IF2gQRxDp2H6",
        "outputId": "17a7dd17-d25e-4f04-e400-4c295d1d3657"
      },
      "source": [
        "x"
      ],
      "execution_count": 72,
      "outputs": [
        {
          "output_type": "display_data",
          "data": {
            "text/plain": [
              "[[1]]\n",
              "[[1]][[1]]\n",
              "[1] 1\n",
              "\n",
              "[[1]][[2]]\n",
              "[1] 2\n",
              "\n",
              "[[1]][[3]]\n",
              "[1] 3\n",
              "\n",
              "\n",
              "[[2]]\n",
              "[[2]][[1]]\n",
              "[1] 4\n",
              "\n",
              "[[2]][[2]]\n",
              "[1] 5\n",
              "\n",
              "[[2]][[3]]\n",
              "[1] 6\n",
              "\n",
              "\n",
              "[[3]]\n",
              "[[3]][[1]]\n",
              "[1] 7\n",
              "\n",
              "[[3]][[2]]\n",
              "[1] 8\n",
              "\n",
              "[[3]][[3]]\n",
              "[1] 9\n",
              "\n"
            ],
            "text/latex": "\\begin{enumerate}\n\\item \\begin{enumerate}\n\\item 1\n\\item 2\n\\item 3\n\\end{enumerate}\n\n\\item \\begin{enumerate}\n\\item 4\n\\item 5\n\\item 6\n\\end{enumerate}\n\n\\item \\begin{enumerate}\n\\item 7\n\\item 8\n\\item 9\n\\end{enumerate}\n\n\\end{enumerate}\n",
            "text/markdown": "1. 1. 1\n2. 2\n3. 3\n\n\n\n2. 1. 4\n2. 5\n3. 6\n\n\n\n3. 1. 7\n2. 8\n3. 9\n\n\n\n\n\n",
            "text/html": [
              "<ol>\n",
              "\t<li><ol>\n",
              "\t<li>1</li>\n",
              "\t<li>2</li>\n",
              "\t<li>3</li>\n",
              "</ol>\n",
              "</li>\n",
              "\t<li><ol>\n",
              "\t<li>4</li>\n",
              "\t<li>5</li>\n",
              "\t<li>6</li>\n",
              "</ol>\n",
              "</li>\n",
              "\t<li><ol>\n",
              "\t<li>7</li>\n",
              "\t<li>8</li>\n",
              "\t<li>9</li>\n",
              "</ol>\n",
              "</li>\n",
              "</ol>\n"
            ]
          },
          "metadata": {
            "tags": []
          }
        }
      ]
    },
    {
      "cell_type": "code",
      "metadata": {
        "colab": {
          "base_uri": "https://localhost:8080/",
          "height": 35
        },
        "id": "NJlceyKcp2mW",
        "outputId": "73945829-dc14-47e8-a8d7-bead62fb3bc7"
      },
      "source": [
        "x %>% map_dbl(2)"
      ],
      "execution_count": 73,
      "outputs": [
        {
          "output_type": "display_data",
          "data": {
            "text/plain": [
              "[1] 2 5 8"
            ],
            "text/latex": "\\begin{enumerate*}\n\\item 2\n\\item 5\n\\item 8\n\\end{enumerate*}\n",
            "text/markdown": "1. 2\n2. 5\n3. 8\n\n\n",
            "text/html": [
              "<style>\n",
              ".list-inline {list-style: none; margin:0; padding: 0}\n",
              ".list-inline>li {display: inline-block}\n",
              ".list-inline>li:not(:last-child)::after {content: \"\\00b7\"; padding: 0 .5ex}\n",
              "</style>\n",
              "<ol class=list-inline><li>2</li><li>5</li><li>8</li></ol>\n"
            ]
          },
          "metadata": {
            "tags": []
          }
        }
      ]
    },
    {
      "cell_type": "code",
      "metadata": {
        "id": "CMsNa8iip5SN"
      },
      "source": [
        "## functional programming is memory efficiency by not saving internal calculations understand if i get used to it"
      ],
      "execution_count": 74,
      "outputs": []
    },
    {
      "cell_type": "code",
      "metadata": {
        "id": "_IIi-4grqDxj"
      },
      "source": [
        "n_len = 10"
      ],
      "execution_count": 75,
      "outputs": []
    },
    {
      "cell_type": "code",
      "metadata": {
        "colab": {
          "base_uri": "https://localhost:8080/",
          "height": 565
        },
        "id": "ni9aLLu5qFAo",
        "outputId": "665e7b99-7c5a-4562-ee48-d0ecf8379818"
      },
      "source": [
        "rep(10, n_len) %>% map(~rnorm(.))"
      ],
      "execution_count": 76,
      "outputs": [
        {
          "output_type": "display_data",
          "data": {
            "text/plain": [
              "[[1]]\n",
              " [1] -2.1012712 -1.5776090  0.5033250 -1.0983972 -1.5194735  1.4960153\n",
              " [7]  1.4594373 -0.2996568  1.8038413 -0.4984353\n",
              "\n",
              "[[2]]\n",
              " [1]  0.6743611  0.7628739 -0.2474665 -0.2124123 -1.6855334 -0.5959964\n",
              " [7]  0.6759560  0.3398904  0.4654954 -0.1598059\n",
              "\n",
              "[[3]]\n",
              " [1] -0.53318564  1.95521536  0.06068968 -0.36163336  2.04413994  0.24616720\n",
              " [7]  0.32558769 -0.52684556  0.33010521  0.63521525\n",
              "\n",
              "[[4]]\n",
              " [1] -0.06141430 -0.04997307 -1.23072117  0.30531442  1.69094084 -0.45295476\n",
              " [7] -0.04030342  0.01992343  0.45185765  1.32970787\n",
              "\n",
              "[[5]]\n",
              " [1]  0.1448698 -1.8370154 -0.3142948  0.5432297 -0.2838182 -0.3531473\n",
              " [7] -0.9080389 -0.7228322  0.5814440 -1.3069882\n",
              "\n",
              "[[6]]\n",
              " [1]  0.08844927  0.70418774 -1.38776690  0.11597273 -0.35325929 -0.62252766\n",
              " [7] -0.68984897 -0.23947330  1.24278236 -0.59514153\n",
              "\n",
              "[[7]]\n",
              " [1]  0.74409739  1.27397252  0.01678317 -0.33944214 -0.05620349  2.97363198\n",
              " [7] -0.47821773 -0.56905004 -0.84526067 -1.19851739\n",
              "\n",
              "[[8]]\n",
              " [1]  0.9426338  0.1204733  1.4903396 -0.1760191  0.8446138 -0.5163658\n",
              " [7]  0.2155029  1.1743989  0.5159688 -1.1949614\n",
              "\n",
              "[[9]]\n",
              " [1]  0.441881842 -0.382585755  0.459004034 -0.309276480 -1.074331279\n",
              " [6]  0.008543259  0.396204495 -0.569406992  0.212888856  0.640743368\n",
              "\n",
              "[[10]]\n",
              " [1] -1.4801874 -0.5241173  0.9566110  0.4187359  1.6744348  0.5478050\n",
              " [7]  0.6806883 -0.2277790 -1.1111474 -0.7173887\n"
            ],
            "text/latex": "\\begin{enumerate}\n\\item \\begin{enumerate*}\n\\item -2.10127119384476\n\\item -1.57760902889045\n\\item 0.503325028325464\n\\item -1.09839716849807\n\\item -1.51947345546336\n\\item 1.4960153470947\n\\item 1.4594373229067\n\\item -0.299656831551944\n\\item 1.80384129534887\n\\item -0.498435255345172\n\\end{enumerate*}\n\n\\item \\begin{enumerate*}\n\\item 0.674361050099941\n\\item 0.762873911314652\n\\item -0.247466544872436\n\\item -0.212412258220193\n\\item -1.68553339832993\n\\item -0.595996363895143\n\\item 0.6759560190426\n\\item 0.339890420312035\n\\item 0.46549537175164\n\\item -0.159805928076961\n\\end{enumerate*}\n\n\\item \\begin{enumerate*}\n\\item -0.533185636892184\n\\item 1.95521536276161\n\\item 0.0606896817730411\n\\item -0.361633357669606\n\\item 2.04413994029946\n\\item 0.246167196181382\n\\item 0.325587694688767\n\\item -0.526845561879743\n\\item 0.330105212851562\n\\item 0.635215251750985\n\\end{enumerate*}\n\n\\item \\begin{enumerate*}\n\\item -0.061414296674969\n\\item -0.0499730676259553\n\\item -1.230721166891\n\\item 0.305314415984893\n\\item 1.69094084069432\n\\item -0.452954757486434\n\\item -0.0403034186128388\n\\item 0.0199234315918959\n\\item 0.451857653215689\n\\item 1.32970786790061\n\\end{enumerate*}\n\n\\item \\begin{enumerate*}\n\\item 0.144869844636696\n\\item -1.83701538581658\n\\item -0.31429480558589\n\\item 0.543229732155879\n\\item -0.283818212632166\n\\item -0.353147338467147\n\\item -0.908038889390311\n\\item -0.722832207555972\n\\item 0.581444014974569\n\\item -1.30698819669947\n\\end{enumerate*}\n\n\\item \\begin{enumerate*}\n\\item 0.0884492668239722\n\\item 0.704187739310015\n\\item -1.38776690277036\n\\item 0.115972727323411\n\\item -0.353259292510723\n\\item -0.622527660317619\n\\item -0.68984897310497\n\\item -0.23947330395761\n\\item 1.24278235585765\n\\item -0.595141528565375\n\\end{enumerate*}\n\n\\item \\begin{enumerate*}\n\\item 0.74409738645954\n\\item 1.27397251835089\n\\item 0.0167831667386035\n\\item -0.339442140746303\n\\item -0.0562034872224031\n\\item 2.97363198014768\n\\item -0.478217734394221\n\\item -0.569050036291997\n\\item -0.845260665179547\n\\item -1.19851739132562\n\\end{enumerate*}\n\n\\item \\begin{enumerate*}\n\\item 0.942633842581844\n\\item 0.120473293511782\n\\item 1.49033961561203\n\\item -0.176019132779842\n\\item 0.844613845071429\n\\item -0.516365767676846\n\\item 0.215502927915766\n\\item 1.17439885336265\n\\item 0.51596879528551\n\\item -1.19496136179777\n\\end{enumerate*}\n\n\\item \\begin{enumerate*}\n\\item 0.441881842476783\n\\item -0.382585755197354\n\\item 0.459004034023862\n\\item -0.309276479647359\n\\item -1.07433127889698\n\\item 0.00854325916808977\n\\item 0.396204494842855\n\\item -0.569406992373079\n\\item 0.212888855704337\n\\item 0.640743367939801\n\\end{enumerate*}\n\n\\item \\begin{enumerate*}\n\\item -1.48018743119683\n\\item -0.52411727948594\n\\item 0.956611034024777\n\\item 0.418735901704623\n\\item 1.67443477803154\n\\item 0.547805035337296\n\\item 0.680688337451788\n\\item -0.2277790171428\n\\item -1.1111474318083\n\\item -0.717388659522\n\\end{enumerate*}\n\n\\end{enumerate}\n",
            "text/markdown": "1. 1. -2.10127119384476\n2. -1.57760902889045\n3. 0.503325028325464\n4. -1.09839716849807\n5. -1.51947345546336\n6. 1.4960153470947\n7. 1.4594373229067\n8. -0.299656831551944\n9. 1.80384129534887\n10. -0.498435255345172\n\n\n\n2. 1. 0.674361050099941\n2. 0.762873911314652\n3. -0.247466544872436\n4. -0.212412258220193\n5. -1.68553339832993\n6. -0.595996363895143\n7. 0.6759560190426\n8. 0.339890420312035\n9. 0.46549537175164\n10. -0.159805928076961\n\n\n\n3. 1. -0.533185636892184\n2. 1.95521536276161\n3. 0.0606896817730411\n4. -0.361633357669606\n5. 2.04413994029946\n6. 0.246167196181382\n7. 0.325587694688767\n8. -0.526845561879743\n9. 0.330105212851562\n10. 0.635215251750985\n\n\n\n4. 1. -0.061414296674969\n2. -0.0499730676259553\n3. -1.230721166891\n4. 0.305314415984893\n5. 1.69094084069432\n6. -0.452954757486434\n7. -0.0403034186128388\n8. 0.0199234315918959\n9. 0.451857653215689\n10. 1.32970786790061\n\n\n\n5. 1. 0.144869844636696\n2. -1.83701538581658\n3. -0.31429480558589\n4. 0.543229732155879\n5. -0.283818212632166\n6. -0.353147338467147\n7. -0.908038889390311\n8. -0.722832207555972\n9. 0.581444014974569\n10. -1.30698819669947\n\n\n\n6. 1. 0.0884492668239722\n2. 0.704187739310015\n3. -1.38776690277036\n4. 0.115972727323411\n5. -0.353259292510723\n6. -0.622527660317619\n7. -0.68984897310497\n8. -0.23947330395761\n9. 1.24278235585765\n10. -0.595141528565375\n\n\n\n7. 1. 0.74409738645954\n2. 1.27397251835089\n3. 0.0167831667386035\n4. -0.339442140746303\n5. -0.0562034872224031\n6. 2.97363198014768\n7. -0.478217734394221\n8. -0.569050036291997\n9. -0.845260665179547\n10. -1.19851739132562\n\n\n\n8. 1. 0.942633842581844\n2. 0.120473293511782\n3. 1.49033961561203\n4. -0.176019132779842\n5. 0.844613845071429\n6. -0.516365767676846\n7. 0.215502927915766\n8. 1.17439885336265\n9. 0.51596879528551\n10. -1.19496136179777\n\n\n\n9. 1. 0.441881842476783\n2. -0.382585755197354\n3. 0.459004034023862\n4. -0.309276479647359\n5. -1.07433127889698\n6. 0.00854325916808977\n7. 0.396204494842855\n8. -0.569406992373079\n9. 0.212888855704337\n10. 0.640743367939801\n\n\n\n10. 1. -1.48018743119683\n2. -0.52411727948594\n3. 0.956611034024777\n4. 0.418735901704623\n5. 1.67443477803154\n6. 0.547805035337296\n7. 0.680688337451788\n8. -0.2277790171428\n9. -1.1111474318083\n10. -0.717388659522\n\n\n\n\n\n",
            "text/html": [
              "<ol>\n",
              "\t<li><style>\n",
              ".list-inline {list-style: none; margin:0; padding: 0}\n",
              ".list-inline>li {display: inline-block}\n",
              ".list-inline>li:not(:last-child)::after {content: \"\\00b7\"; padding: 0 .5ex}\n",
              "</style>\n",
              "<ol class=list-inline><li>-2.10127119384476</li><li>-1.57760902889045</li><li>0.503325028325464</li><li>-1.09839716849807</li><li>-1.51947345546336</li><li>1.4960153470947</li><li>1.4594373229067</li><li>-0.299656831551944</li><li>1.80384129534887</li><li>-0.498435255345172</li></ol>\n",
              "</li>\n",
              "\t<li><style>\n",
              ".list-inline {list-style: none; margin:0; padding: 0}\n",
              ".list-inline>li {display: inline-block}\n",
              ".list-inline>li:not(:last-child)::after {content: \"\\00b7\"; padding: 0 .5ex}\n",
              "</style>\n",
              "<ol class=list-inline><li>0.674361050099941</li><li>0.762873911314652</li><li>-0.247466544872436</li><li>-0.212412258220193</li><li>-1.68553339832993</li><li>-0.595996363895143</li><li>0.6759560190426</li><li>0.339890420312035</li><li>0.46549537175164</li><li>-0.159805928076961</li></ol>\n",
              "</li>\n",
              "\t<li><style>\n",
              ".list-inline {list-style: none; margin:0; padding: 0}\n",
              ".list-inline>li {display: inline-block}\n",
              ".list-inline>li:not(:last-child)::after {content: \"\\00b7\"; padding: 0 .5ex}\n",
              "</style>\n",
              "<ol class=list-inline><li>-0.533185636892184</li><li>1.95521536276161</li><li>0.0606896817730411</li><li>-0.361633357669606</li><li>2.04413994029946</li><li>0.246167196181382</li><li>0.325587694688767</li><li>-0.526845561879743</li><li>0.330105212851562</li><li>0.635215251750985</li></ol>\n",
              "</li>\n",
              "\t<li><style>\n",
              ".list-inline {list-style: none; margin:0; padding: 0}\n",
              ".list-inline>li {display: inline-block}\n",
              ".list-inline>li:not(:last-child)::after {content: \"\\00b7\"; padding: 0 .5ex}\n",
              "</style>\n",
              "<ol class=list-inline><li>-0.061414296674969</li><li>-0.0499730676259553</li><li>-1.230721166891</li><li>0.305314415984893</li><li>1.69094084069432</li><li>-0.452954757486434</li><li>-0.0403034186128388</li><li>0.0199234315918959</li><li>0.451857653215689</li><li>1.32970786790061</li></ol>\n",
              "</li>\n",
              "\t<li><style>\n",
              ".list-inline {list-style: none; margin:0; padding: 0}\n",
              ".list-inline>li {display: inline-block}\n",
              ".list-inline>li:not(:last-child)::after {content: \"\\00b7\"; padding: 0 .5ex}\n",
              "</style>\n",
              "<ol class=list-inline><li>0.144869844636696</li><li>-1.83701538581658</li><li>-0.31429480558589</li><li>0.543229732155879</li><li>-0.283818212632166</li><li>-0.353147338467147</li><li>-0.908038889390311</li><li>-0.722832207555972</li><li>0.581444014974569</li><li>-1.30698819669947</li></ol>\n",
              "</li>\n",
              "\t<li><style>\n",
              ".list-inline {list-style: none; margin:0; padding: 0}\n",
              ".list-inline>li {display: inline-block}\n",
              ".list-inline>li:not(:last-child)::after {content: \"\\00b7\"; padding: 0 .5ex}\n",
              "</style>\n",
              "<ol class=list-inline><li>0.0884492668239722</li><li>0.704187739310015</li><li>-1.38776690277036</li><li>0.115972727323411</li><li>-0.353259292510723</li><li>-0.622527660317619</li><li>-0.68984897310497</li><li>-0.23947330395761</li><li>1.24278235585765</li><li>-0.595141528565375</li></ol>\n",
              "</li>\n",
              "\t<li><style>\n",
              ".list-inline {list-style: none; margin:0; padding: 0}\n",
              ".list-inline>li {display: inline-block}\n",
              ".list-inline>li:not(:last-child)::after {content: \"\\00b7\"; padding: 0 .5ex}\n",
              "</style>\n",
              "<ol class=list-inline><li>0.74409738645954</li><li>1.27397251835089</li><li>0.0167831667386035</li><li>-0.339442140746303</li><li>-0.0562034872224031</li><li>2.97363198014768</li><li>-0.478217734394221</li><li>-0.569050036291997</li><li>-0.845260665179547</li><li>-1.19851739132562</li></ol>\n",
              "</li>\n",
              "\t<li><style>\n",
              ".list-inline {list-style: none; margin:0; padding: 0}\n",
              ".list-inline>li {display: inline-block}\n",
              ".list-inline>li:not(:last-child)::after {content: \"\\00b7\"; padding: 0 .5ex}\n",
              "</style>\n",
              "<ol class=list-inline><li>0.942633842581844</li><li>0.120473293511782</li><li>1.49033961561203</li><li>-0.176019132779842</li><li>0.844613845071429</li><li>-0.516365767676846</li><li>0.215502927915766</li><li>1.17439885336265</li><li>0.51596879528551</li><li>-1.19496136179777</li></ol>\n",
              "</li>\n",
              "\t<li><style>\n",
              ".list-inline {list-style: none; margin:0; padding: 0}\n",
              ".list-inline>li {display: inline-block}\n",
              ".list-inline>li:not(:last-child)::after {content: \"\\00b7\"; padding: 0 .5ex}\n",
              "</style>\n",
              "<ol class=list-inline><li>0.441881842476783</li><li>-0.382585755197354</li><li>0.459004034023862</li><li>-0.309276479647359</li><li>-1.07433127889698</li><li>0.00854325916808977</li><li>0.396204494842855</li><li>-0.569406992373079</li><li>0.212888855704337</li><li>0.640743367939801</li></ol>\n",
              "</li>\n",
              "\t<li><style>\n",
              ".list-inline {list-style: none; margin:0; padding: 0}\n",
              ".list-inline>li {display: inline-block}\n",
              ".list-inline>li:not(:last-child)::after {content: \"\\00b7\"; padding: 0 .5ex}\n",
              "</style>\n",
              "<ol class=list-inline><li>-1.48018743119683</li><li>-0.52411727948594</li><li>0.956611034024777</li><li>0.418735901704623</li><li>1.67443477803154</li><li>0.547805035337296</li><li>0.680688337451788</li><li>-0.2277790171428</li><li>-1.1111474318083</li><li>-0.717388659522</li></ol>\n",
              "</li>\n",
              "</ol>\n"
            ]
          },
          "metadata": {
            "tags": []
          }
        }
      ]
    },
    {
      "cell_type": "code",
      "metadata": {
        "colab": {
          "base_uri": "https://localhost:8080/",
          "height": 565
        },
        "id": "D4J54O-SqI6H",
        "outputId": "d7e7734e-1b05-4ecd-e582-40e0189221ed"
      },
      "source": [
        "df2 <- vector(mode = \"list\", length = n_len)\n",
        "\n",
        "for (i in 1:n_len)\n",
        "    df2[[i]] <- rnorm(10)\n",
        "\n",
        "df2"
      ],
      "execution_count": 78,
      "outputs": [
        {
          "output_type": "display_data",
          "data": {
            "text/plain": [
              "[[1]]\n",
              " [1] -0.5776001  0.4319310 -1.9649956 -0.5418513 -0.3006666 -0.3886596\n",
              " [7]  1.2239841 -1.3894169 -1.0867356  0.5398127\n",
              "\n",
              "[[2]]\n",
              " [1]  0.9363022  0.1453176 -0.3683260  1.9727041  0.1511598 -1.4578586\n",
              " [7] -0.1601350  0.6123483  1.1459425  0.8746060\n",
              "\n",
              "[[3]]\n",
              " [1] -0.5684944 -0.4290683  0.8567029 -0.4035696  0.2169837  0.5007101\n",
              " [7] -0.8410584 -0.8096913  1.3818203 -0.1479006\n",
              "\n",
              "[[4]]\n",
              " [1]  0.3692737 -0.5938945  1.4089677 -0.6313663 -0.9781953  0.5216885\n",
              " [7] -0.1436455  0.3606579 -0.9538266 -0.9346919\n",
              "\n",
              "[[5]]\n",
              " [1] -0.8670004  0.5359015 -1.9769384  1.2198358 -1.1610443 -0.3739991\n",
              " [7]  0.8107760  0.6714483 -0.3739079  1.2718223\n",
              "\n",
              "[[6]]\n",
              " [1] -0.625672489 -0.500452899 -1.056892268 -0.923778180  0.719906074\n",
              " [6] -0.002481234 -1.399873768  0.598569710  1.310040777 -0.175474527\n",
              "\n",
              "[[7]]\n",
              " [1]  0.53397817  1.06342250  1.32811319  0.01496168  1.49922440 -1.22048318\n",
              " [7] -0.79458973 -0.88730241 -2.66897107  0.27992687\n",
              "\n",
              "[[8]]\n",
              " [1]  1.1813946  0.3554932  2.6859784  1.1773440 -2.5988289 -0.3432736\n",
              " [7] -1.8587275 -0.1540516  0.3459946 -1.5164803\n",
              "\n",
              "[[9]]\n",
              " [1]  0.04206339 -1.05829485 -2.37028896 -0.63503954  1.22794871 -1.79652104\n",
              " [7] -1.18244463  1.77237193  1.74950106  1.14948746\n",
              "\n",
              "[[10]]\n",
              " [1] -1.24410935  0.32042941  1.40913090 -0.62515067  0.60979975 -0.41960087\n",
              " [7]  1.28845399  1.03005170  0.30315661  0.06996007\n"
            ],
            "text/latex": "\\begin{enumerate}\n\\item \\begin{enumerate*}\n\\item -0.577600129604204\n\\item 0.431930993408041\n\\item -1.96499564113906\n\\item -0.541851339298076\n\\item -0.300666574596639\n\\item -0.38865959148977\n\\item 1.22398413171613\n\\item -1.38941686278739\n\\item -1.08673561841246\n\\item 0.539812713697267\n\\end{enumerate*}\n\n\\item \\begin{enumerate*}\n\\item 0.936302173827114\n\\item 0.145317577681065\n\\item -0.36832595116316\n\\item 1.97270410719461\n\\item 0.151159815863891\n\\item -1.45785857434694\n\\item -0.160135003032533\n\\item 0.612348321979763\n\\item 1.14594248045559\n\\item 0.874605990807512\n\\end{enumerate*}\n\n\\item \\begin{enumerate*}\n\\item -0.568494387447949\n\\item -0.429068326866029\n\\item 0.856702855490109\n\\item -0.403569550408977\n\\item 0.216983695696578\n\\item 0.500710067264435\n\\item -0.8410584304687\n\\item -0.80969125828774\n\\item 1.38182029273464\n\\item -0.147900553017942\n\\end{enumerate*}\n\n\\item \\begin{enumerate*}\n\\item 0.369273655414227\n\\item -0.593894514013111\n\\item 1.40896768318372\n\\item -0.631366323746372\n\\item -0.978195346186452\n\\item 0.521688473288373\n\\item -0.143645514716976\n\\item 0.360657934363042\n\\item -0.953826645888677\n\\item -0.934691871400971\n\\end{enumerate*}\n\n\\item \\begin{enumerate*}\n\\item -0.867000431209833\n\\item 0.535901531817643\n\\item -1.97693836977339\n\\item 1.21983580588314\n\\item -1.16104430541091\n\\item -0.373999127424813\n\\item 0.810775997578049\n\\item 0.67144825582219\n\\item -0.373907942721361\n\\item 1.27182233572047\n\\end{enumerate*}\n\n\\item \\begin{enumerate*}\n\\item -0.625672489483501\n\\item -0.500452899407074\n\\item -1.05689226812137\n\\item -0.92377818021518\n\\item 0.719906074156033\n\\item -0.00248123381165689\n\\item -1.39987376773901\n\\item 0.59856970998549\n\\item 1.31004077695325\n\\item -0.175474527082408\n\\end{enumerate*}\n\n\\item \\begin{enumerate*}\n\\item 0.533978173036447\n\\item 1.06342250435076\n\\item 1.32811318793505\n\\item 0.0149616809300042\n\\item 1.49922439644925\n\\item -1.22048317732003\n\\item -0.794589729784057\n\\item -0.887302408257792\n\\item -2.66897106911911\n\\item 0.279926868686162\n\\end{enumerate*}\n\n\\item \\begin{enumerate*}\n\\item 1.18139459237271\n\\item 0.355493233302042\n\\item 2.68597843794277\n\\item 1.17734404582042\n\\item -2.59882892280705\n\\item -0.343273567105236\n\\item -1.85872753318462\n\\item -0.154051633378285\n\\item 0.345994587749219\n\\item -1.51648027205239\n\\end{enumerate*}\n\n\\item \\begin{enumerate*}\n\\item 0.0420633873328686\n\\item -1.05829484549405\n\\item -2.370288960519\n\\item -0.635039535287706\n\\item 1.22794870778643\n\\item -1.79652103806026\n\\item -1.18244463262702\n\\item 1.77237193254271\n\\item 1.74950106043557\n\\item 1.14948745775615\n\\end{enumerate*}\n\n\\item \\begin{enumerate*}\n\\item -1.24410935001137\n\\item 0.320429411545272\n\\item 1.40913090352643\n\\item -0.625150665378423\n\\item 0.609799752816152\n\\item -0.419600867173696\n\\item 1.2884539862394\n\\item 1.03005169949215\n\\item 0.303156605570766\n\\item 0.0699600665026255\n\\end{enumerate*}\n\n\\end{enumerate}\n",
            "text/markdown": "1. 1. -0.577600129604204\n2. 0.431930993408041\n3. -1.96499564113906\n4. -0.541851339298076\n5. -0.300666574596639\n6. -0.38865959148977\n7. 1.22398413171613\n8. -1.38941686278739\n9. -1.08673561841246\n10. 0.539812713697267\n\n\n\n2. 1. 0.936302173827114\n2. 0.145317577681065\n3. -0.36832595116316\n4. 1.97270410719461\n5. 0.151159815863891\n6. -1.45785857434694\n7. -0.160135003032533\n8. 0.612348321979763\n9. 1.14594248045559\n10. 0.874605990807512\n\n\n\n3. 1. -0.568494387447949\n2. -0.429068326866029\n3. 0.856702855490109\n4. -0.403569550408977\n5. 0.216983695696578\n6. 0.500710067264435\n7. -0.8410584304687\n8. -0.80969125828774\n9. 1.38182029273464\n10. -0.147900553017942\n\n\n\n4. 1. 0.369273655414227\n2. -0.593894514013111\n3. 1.40896768318372\n4. -0.631366323746372\n5. -0.978195346186452\n6. 0.521688473288373\n7. -0.143645514716976\n8. 0.360657934363042\n9. -0.953826645888677\n10. -0.934691871400971\n\n\n\n5. 1. -0.867000431209833\n2. 0.535901531817643\n3. -1.97693836977339\n4. 1.21983580588314\n5. -1.16104430541091\n6. -0.373999127424813\n7. 0.810775997578049\n8. 0.67144825582219\n9. -0.373907942721361\n10. 1.27182233572047\n\n\n\n6. 1. -0.625672489483501\n2. -0.500452899407074\n3. -1.05689226812137\n4. -0.92377818021518\n5. 0.719906074156033\n6. -0.00248123381165689\n7. -1.39987376773901\n8. 0.59856970998549\n9. 1.31004077695325\n10. -0.175474527082408\n\n\n\n7. 1. 0.533978173036447\n2. 1.06342250435076\n3. 1.32811318793505\n4. 0.0149616809300042\n5. 1.49922439644925\n6. -1.22048317732003\n7. -0.794589729784057\n8. -0.887302408257792\n9. -2.66897106911911\n10. 0.279926868686162\n\n\n\n8. 1. 1.18139459237271\n2. 0.355493233302042\n3. 2.68597843794277\n4. 1.17734404582042\n5. -2.59882892280705\n6. -0.343273567105236\n7. -1.85872753318462\n8. -0.154051633378285\n9. 0.345994587749219\n10. -1.51648027205239\n\n\n\n9. 1. 0.0420633873328686\n2. -1.05829484549405\n3. -2.370288960519\n4. -0.635039535287706\n5. 1.22794870778643\n6. -1.79652103806026\n7. -1.18244463262702\n8. 1.77237193254271\n9. 1.74950106043557\n10. 1.14948745775615\n\n\n\n10. 1. -1.24410935001137\n2. 0.320429411545272\n3. 1.40913090352643\n4. -0.625150665378423\n5. 0.609799752816152\n6. -0.419600867173696\n7. 1.2884539862394\n8. 1.03005169949215\n9. 0.303156605570766\n10. 0.0699600665026255\n\n\n\n\n\n",
            "text/html": [
              "<ol>\n",
              "\t<li><style>\n",
              ".list-inline {list-style: none; margin:0; padding: 0}\n",
              ".list-inline>li {display: inline-block}\n",
              ".list-inline>li:not(:last-child)::after {content: \"\\00b7\"; padding: 0 .5ex}\n",
              "</style>\n",
              "<ol class=list-inline><li>-0.577600129604204</li><li>0.431930993408041</li><li>-1.96499564113906</li><li>-0.541851339298076</li><li>-0.300666574596639</li><li>-0.38865959148977</li><li>1.22398413171613</li><li>-1.38941686278739</li><li>-1.08673561841246</li><li>0.539812713697267</li></ol>\n",
              "</li>\n",
              "\t<li><style>\n",
              ".list-inline {list-style: none; margin:0; padding: 0}\n",
              ".list-inline>li {display: inline-block}\n",
              ".list-inline>li:not(:last-child)::after {content: \"\\00b7\"; padding: 0 .5ex}\n",
              "</style>\n",
              "<ol class=list-inline><li>0.936302173827114</li><li>0.145317577681065</li><li>-0.36832595116316</li><li>1.97270410719461</li><li>0.151159815863891</li><li>-1.45785857434694</li><li>-0.160135003032533</li><li>0.612348321979763</li><li>1.14594248045559</li><li>0.874605990807512</li></ol>\n",
              "</li>\n",
              "\t<li><style>\n",
              ".list-inline {list-style: none; margin:0; padding: 0}\n",
              ".list-inline>li {display: inline-block}\n",
              ".list-inline>li:not(:last-child)::after {content: \"\\00b7\"; padding: 0 .5ex}\n",
              "</style>\n",
              "<ol class=list-inline><li>-0.568494387447949</li><li>-0.429068326866029</li><li>0.856702855490109</li><li>-0.403569550408977</li><li>0.216983695696578</li><li>0.500710067264435</li><li>-0.8410584304687</li><li>-0.80969125828774</li><li>1.38182029273464</li><li>-0.147900553017942</li></ol>\n",
              "</li>\n",
              "\t<li><style>\n",
              ".list-inline {list-style: none; margin:0; padding: 0}\n",
              ".list-inline>li {display: inline-block}\n",
              ".list-inline>li:not(:last-child)::after {content: \"\\00b7\"; padding: 0 .5ex}\n",
              "</style>\n",
              "<ol class=list-inline><li>0.369273655414227</li><li>-0.593894514013111</li><li>1.40896768318372</li><li>-0.631366323746372</li><li>-0.978195346186452</li><li>0.521688473288373</li><li>-0.143645514716976</li><li>0.360657934363042</li><li>-0.953826645888677</li><li>-0.934691871400971</li></ol>\n",
              "</li>\n",
              "\t<li><style>\n",
              ".list-inline {list-style: none; margin:0; padding: 0}\n",
              ".list-inline>li {display: inline-block}\n",
              ".list-inline>li:not(:last-child)::after {content: \"\\00b7\"; padding: 0 .5ex}\n",
              "</style>\n",
              "<ol class=list-inline><li>-0.867000431209833</li><li>0.535901531817643</li><li>-1.97693836977339</li><li>1.21983580588314</li><li>-1.16104430541091</li><li>-0.373999127424813</li><li>0.810775997578049</li><li>0.67144825582219</li><li>-0.373907942721361</li><li>1.27182233572047</li></ol>\n",
              "</li>\n",
              "\t<li><style>\n",
              ".list-inline {list-style: none; margin:0; padding: 0}\n",
              ".list-inline>li {display: inline-block}\n",
              ".list-inline>li:not(:last-child)::after {content: \"\\00b7\"; padding: 0 .5ex}\n",
              "</style>\n",
              "<ol class=list-inline><li>-0.625672489483501</li><li>-0.500452899407074</li><li>-1.05689226812137</li><li>-0.92377818021518</li><li>0.719906074156033</li><li>-0.00248123381165689</li><li>-1.39987376773901</li><li>0.59856970998549</li><li>1.31004077695325</li><li>-0.175474527082408</li></ol>\n",
              "</li>\n",
              "\t<li><style>\n",
              ".list-inline {list-style: none; margin:0; padding: 0}\n",
              ".list-inline>li {display: inline-block}\n",
              ".list-inline>li:not(:last-child)::after {content: \"\\00b7\"; padding: 0 .5ex}\n",
              "</style>\n",
              "<ol class=list-inline><li>0.533978173036447</li><li>1.06342250435076</li><li>1.32811318793505</li><li>0.0149616809300042</li><li>1.49922439644925</li><li>-1.22048317732003</li><li>-0.794589729784057</li><li>-0.887302408257792</li><li>-2.66897106911911</li><li>0.279926868686162</li></ol>\n",
              "</li>\n",
              "\t<li><style>\n",
              ".list-inline {list-style: none; margin:0; padding: 0}\n",
              ".list-inline>li {display: inline-block}\n",
              ".list-inline>li:not(:last-child)::after {content: \"\\00b7\"; padding: 0 .5ex}\n",
              "</style>\n",
              "<ol class=list-inline><li>1.18139459237271</li><li>0.355493233302042</li><li>2.68597843794277</li><li>1.17734404582042</li><li>-2.59882892280705</li><li>-0.343273567105236</li><li>-1.85872753318462</li><li>-0.154051633378285</li><li>0.345994587749219</li><li>-1.51648027205239</li></ol>\n",
              "</li>\n",
              "\t<li><style>\n",
              ".list-inline {list-style: none; margin:0; padding: 0}\n",
              ".list-inline>li {display: inline-block}\n",
              ".list-inline>li:not(:last-child)::after {content: \"\\00b7\"; padding: 0 .5ex}\n",
              "</style>\n",
              "<ol class=list-inline><li>0.0420633873328686</li><li>-1.05829484549405</li><li>-2.370288960519</li><li>-0.635039535287706</li><li>1.22794870778643</li><li>-1.79652103806026</li><li>-1.18244463262702</li><li>1.77237193254271</li><li>1.74950106043557</li><li>1.14948745775615</li></ol>\n",
              "</li>\n",
              "\t<li><style>\n",
              ".list-inline {list-style: none; margin:0; padding: 0}\n",
              ".list-inline>li {display: inline-block}\n",
              ".list-inline>li:not(:last-child)::after {content: \"\\00b7\"; padding: 0 .5ex}\n",
              "</style>\n",
              "<ol class=list-inline><li>-1.24410935001137</li><li>0.320429411545272</li><li>1.40913090352643</li><li>-0.625150665378423</li><li>0.609799752816152</li><li>-0.419600867173696</li><li>1.2884539862394</li><li>1.03005169949215</li><li>0.303156605570766</li><li>0.0699600665026255</li></ol>\n",
              "</li>\n",
              "</ol>\n"
            ]
          },
          "metadata": {
            "tags": []
          }
        }
      ]
    },
    {
      "cell_type": "code",
      "metadata": {
        "id": "V5Tj-02dqXbX"
      },
      "source": [
        "gen1 <- function(n_len){\n",
        "    rep(10, n_len) %>% map(~rnorm(.))\n",
        "}"
      ],
      "execution_count": 79,
      "outputs": []
    },
    {
      "cell_type": "code",
      "metadata": {
        "id": "K-Hh9angqgrV"
      },
      "source": [
        "gen2 <- function(n_len){\n",
        "    df2 <- vector(mode = \"list\", length = n_len)\n",
        "    for (i in n_len)\n",
        "        df2[[i]] <- rnorm(10)\n",
        "    df2}"
      ],
      "execution_count": 87,
      "outputs": []
    },
    {
      "cell_type": "code",
      "metadata": {
        "id": "8-iUxTZtqtHz"
      },
      "source": [
        "gen3 <- function(n_len){\n",
        "    lapply(rep(10, n_len), rnorm)\n",
        "}"
      ],
      "execution_count": 82,
      "outputs": []
    },
    {
      "cell_type": "code",
      "metadata": {
        "colab": {
          "base_uri": "https://localhost:8080/",
          "height": 305
        },
        "id": "NOalyKGTqzsH",
        "outputId": "91e90fe0-0147-472b-da49-2fb09e8133ea"
      },
      "source": [
        "gen1(5)"
      ],
      "execution_count": 83,
      "outputs": [
        {
          "output_type": "display_data",
          "data": {
            "text/plain": [
              "[[1]]\n",
              " [1]  0.09860184  0.34642043 -0.66585503 -0.28407404 -0.50908946  0.93825740\n",
              " [7]  1.15239447  0.36361894 -0.17644150  0.40648418\n",
              "\n",
              "[[2]]\n",
              " [1] -1.97982118 -0.87833830  0.21613450 -0.06110291  1.09683377 -0.42698346\n",
              " [7]  1.37575636 -0.74784474  1.53868901  1.51397305\n",
              "\n",
              "[[3]]\n",
              " [1]  0.80631856 -1.00895786  0.14976975 -0.29299450  0.20904361  0.54606918\n",
              " [7] -0.28889584  0.03035096 -1.19937034  1.11537991\n",
              "\n",
              "[[4]]\n",
              " [1]  0.74043116  1.30286902  0.42908102  0.72255719  0.22533107  0.02242318\n",
              " [7] -0.47705121 -1.81425716 -1.10580501  1.31472427\n",
              "\n",
              "[[5]]\n",
              " [1]  1.4268067 -1.3883830 -1.2008765  0.5585290  0.4293354 -0.5606171\n",
              " [7]  2.2993714 -0.9033904 -1.5117092 -1.0117066\n"
            ],
            "text/latex": "\\begin{enumerate}\n\\item \\begin{enumerate*}\n\\item 0.0986018410628725\n\\item 0.346420431747086\n\\item -0.665855030776107\n\\item -0.284074044933535\n\\item -0.509089461476592\n\\item 0.938257399424973\n\\item 1.15239446553949\n\\item 0.363618942336989\n\\item -0.176441496359872\n\\item 0.40648417542332\n\\end{enumerate*}\n\n\\item \\begin{enumerate*}\n\\item -1.97982117973876\n\\item -0.878338302643858\n\\item 0.216134495333981\n\\item -0.0611029128668475\n\\item 1.09683377245241\n\\item -0.426983456025652\n\\item 1.37575636342917\n\\item -0.747844737240427\n\\item 1.53868901077767\n\\item 1.51397304781166\n\\end{enumerate*}\n\n\\item \\begin{enumerate*}\n\\item 0.806318560065058\n\\item -1.0089578564531\n\\item 0.149769748374538\n\\item -0.292994503439482\n\\item 0.209043609260037\n\\item 0.546069181423269\n\\item -0.28889583545767\n\\item 0.0303509611093503\n\\item -1.19937034463055\n\\item 1.11537990782663\n\\end{enumerate*}\n\n\\item \\begin{enumerate*}\n\\item 0.740431160041664\n\\item 1.30286901878877\n\\item 0.429081019397015\n\\item 0.722557192115083\n\\item 0.225331068782554\n\\item 0.0224231832715901\n\\item -0.477051210117871\n\\item -1.81425715740251\n\\item -1.10580501312066\n\\item 1.31472426552138\n\\end{enumerate*}\n\n\\item \\begin{enumerate*}\n\\item 1.42680671885758\n\\item -1.38838296074922\n\\item -1.20087654073\n\\item 0.55852904837715\n\\item 0.429335358157641\n\\item -0.560617113746017\n\\item 2.29937141302056\n\\item -0.903390371003698\n\\item -1.51170917936369\n\\item -1.01170660757063\n\\end{enumerate*}\n\n\\end{enumerate}\n",
            "text/markdown": "1. 1. 0.0986018410628725\n2. 0.346420431747086\n3. -0.665855030776107\n4. -0.284074044933535\n5. -0.509089461476592\n6. 0.938257399424973\n7. 1.15239446553949\n8. 0.363618942336989\n9. -0.176441496359872\n10. 0.40648417542332\n\n\n\n2. 1. -1.97982117973876\n2. -0.878338302643858\n3. 0.216134495333981\n4. -0.0611029128668475\n5. 1.09683377245241\n6. -0.426983456025652\n7. 1.37575636342917\n8. -0.747844737240427\n9. 1.53868901077767\n10. 1.51397304781166\n\n\n\n3. 1. 0.806318560065058\n2. -1.0089578564531\n3. 0.149769748374538\n4. -0.292994503439482\n5. 0.209043609260037\n6. 0.546069181423269\n7. -0.28889583545767\n8. 0.0303509611093503\n9. -1.19937034463055\n10. 1.11537990782663\n\n\n\n4. 1. 0.740431160041664\n2. 1.30286901878877\n3. 0.429081019397015\n4. 0.722557192115083\n5. 0.225331068782554\n6. 0.0224231832715901\n7. -0.477051210117871\n8. -1.81425715740251\n9. -1.10580501312066\n10. 1.31472426552138\n\n\n\n5. 1. 1.42680671885758\n2. -1.38838296074922\n3. -1.20087654073\n4. 0.55852904837715\n5. 0.429335358157641\n6. -0.560617113746017\n7. 2.29937141302056\n8. -0.903390371003698\n9. -1.51170917936369\n10. -1.01170660757063\n\n\n\n\n\n",
            "text/html": [
              "<ol>\n",
              "\t<li><style>\n",
              ".list-inline {list-style: none; margin:0; padding: 0}\n",
              ".list-inline>li {display: inline-block}\n",
              ".list-inline>li:not(:last-child)::after {content: \"\\00b7\"; padding: 0 .5ex}\n",
              "</style>\n",
              "<ol class=list-inline><li>0.0986018410628725</li><li>0.346420431747086</li><li>-0.665855030776107</li><li>-0.284074044933535</li><li>-0.509089461476592</li><li>0.938257399424973</li><li>1.15239446553949</li><li>0.363618942336989</li><li>-0.176441496359872</li><li>0.40648417542332</li></ol>\n",
              "</li>\n",
              "\t<li><style>\n",
              ".list-inline {list-style: none; margin:0; padding: 0}\n",
              ".list-inline>li {display: inline-block}\n",
              ".list-inline>li:not(:last-child)::after {content: \"\\00b7\"; padding: 0 .5ex}\n",
              "</style>\n",
              "<ol class=list-inline><li>-1.97982117973876</li><li>-0.878338302643858</li><li>0.216134495333981</li><li>-0.0611029128668475</li><li>1.09683377245241</li><li>-0.426983456025652</li><li>1.37575636342917</li><li>-0.747844737240427</li><li>1.53868901077767</li><li>1.51397304781166</li></ol>\n",
              "</li>\n",
              "\t<li><style>\n",
              ".list-inline {list-style: none; margin:0; padding: 0}\n",
              ".list-inline>li {display: inline-block}\n",
              ".list-inline>li:not(:last-child)::after {content: \"\\00b7\"; padding: 0 .5ex}\n",
              "</style>\n",
              "<ol class=list-inline><li>0.806318560065058</li><li>-1.0089578564531</li><li>0.149769748374538</li><li>-0.292994503439482</li><li>0.209043609260037</li><li>0.546069181423269</li><li>-0.28889583545767</li><li>0.0303509611093503</li><li>-1.19937034463055</li><li>1.11537990782663</li></ol>\n",
              "</li>\n",
              "\t<li><style>\n",
              ".list-inline {list-style: none; margin:0; padding: 0}\n",
              ".list-inline>li {display: inline-block}\n",
              ".list-inline>li:not(:last-child)::after {content: \"\\00b7\"; padding: 0 .5ex}\n",
              "</style>\n",
              "<ol class=list-inline><li>0.740431160041664</li><li>1.30286901878877</li><li>0.429081019397015</li><li>0.722557192115083</li><li>0.225331068782554</li><li>0.0224231832715901</li><li>-0.477051210117871</li><li>-1.81425715740251</li><li>-1.10580501312066</li><li>1.31472426552138</li></ol>\n",
              "</li>\n",
              "\t<li><style>\n",
              ".list-inline {list-style: none; margin:0; padding: 0}\n",
              ".list-inline>li {display: inline-block}\n",
              ".list-inline>li:not(:last-child)::after {content: \"\\00b7\"; padding: 0 .5ex}\n",
              "</style>\n",
              "<ol class=list-inline><li>1.42680671885758</li><li>-1.38838296074922</li><li>-1.20087654073</li><li>0.55852904837715</li><li>0.429335358157641</li><li>-0.560617113746017</li><li>2.29937141302056</li><li>-0.903390371003698</li><li>-1.51170917936369</li><li>-1.01170660757063</li></ol>\n",
              "</li>\n",
              "</ol>\n"
            ]
          },
          "metadata": {
            "tags": []
          }
        }
      ]
    },
    {
      "cell_type": "code",
      "metadata": {
        "colab": {
          "base_uri": "https://localhost:8080/",
          "height": 189
        },
        "id": "-PDn-qazq1Fw",
        "outputId": "4628ea69-83d1-48f5-c7f7-28619df6b839"
      },
      "source": [
        "benchmark(\"fc1\"=gen1(1000),\n",
        "          \"fc2\"=gen2(1000),\n",
        "          \"fc3\"=gen3(1000),\n",
        "          replications=100,\n",
        "          columns=c('test', 'elapsed', 'replications'))"
      ],
      "execution_count": 88,
      "outputs": [
        {
          "output_type": "display_data",
          "data": {
            "text/plain": [
              "  test elapsed replications\n",
              "1 fc1  0.642   100         \n",
              "2 fc2  0.001   100         \n",
              "3 fc3  0.413   100         "
            ],
            "text/latex": "A data.frame: 3 × 3\n\\begin{tabular}{r|lll}\n  & test & elapsed & replications\\\\\n  & <chr> & <dbl> & <int>\\\\\n\\hline\n\t1 & fc1 & 0.642 & 100\\\\\n\t2 & fc2 & 0.001 & 100\\\\\n\t3 & fc3 & 0.413 & 100\\\\\n\\end{tabular}\n",
            "text/markdown": "\nA data.frame: 3 × 3\n\n| <!--/--> | test &lt;chr&gt; | elapsed &lt;dbl&gt; | replications &lt;int&gt; |\n|---|---|---|---|\n| 1 | fc1 | 0.642 | 100 |\n| 2 | fc2 | 0.001 | 100 |\n| 3 | fc3 | 0.413 | 100 |\n\n",
            "text/html": [
              "<table class=\"dataframe\">\n",
              "<caption>A data.frame: 3 × 3</caption>\n",
              "<thead>\n",
              "\t<tr><th></th><th scope=col>test</th><th scope=col>elapsed</th><th scope=col>replications</th></tr>\n",
              "\t<tr><th></th><th scope=col>&lt;chr&gt;</th><th scope=col>&lt;dbl&gt;</th><th scope=col>&lt;int&gt;</th></tr>\n",
              "</thead>\n",
              "<tbody>\n",
              "\t<tr><th scope=row>1</th><td>fc1</td><td>0.642</td><td>100</td></tr>\n",
              "\t<tr><th scope=row>2</th><td>fc2</td><td>0.001</td><td>100</td></tr>\n",
              "\t<tr><th scope=row>3</th><td>fc3</td><td>0.413</td><td>100</td></tr>\n",
              "</tbody>\n",
              "</table>\n"
            ]
          },
          "metadata": {
            "tags": []
          }
        }
      ]
    },
    {
      "cell_type": "code",
      "metadata": {
        "id": "UodobNX9rBVp"
      },
      "source": [
        "##something useful"
      ],
      "execution_count": 89,
      "outputs": []
    },
    {
      "cell_type": "code",
      "metadata": {
        "colab": {
          "base_uri": "https://localhost:8080/",
          "height": 1000
        },
        "id": "B6vZm1XQrTDj",
        "outputId": "21043d20-8794-455c-dabc-6fd662b5e019"
      },
      "source": [
        "diamonds"
      ],
      "execution_count": 90,
      "outputs": [
        {
          "output_type": "display_data",
          "data": {
            "text/plain": [
              "      carat cut       color clarity depth table price x    y    z   \n",
              "1     0.23  Ideal     E     SI2     61.5  55    326   3.95 3.98 2.43\n",
              "2     0.21  Premium   E     SI1     59.8  61    326   3.89 3.84 2.31\n",
              "3     0.23  Good      E     VS1     56.9  65    327   4.05 4.07 2.31\n",
              "4     0.29  Premium   I     VS2     62.4  58    334   4.20 4.23 2.63\n",
              "5     0.31  Good      J     SI2     63.3  58    335   4.34 4.35 2.75\n",
              "6     0.24  Very Good J     VVS2    62.8  57    336   3.94 3.96 2.48\n",
              "7     0.24  Very Good I     VVS1    62.3  57    336   3.95 3.98 2.47\n",
              "8     0.26  Very Good H     SI1     61.9  55    337   4.07 4.11 2.53\n",
              "9     0.22  Fair      E     VS2     65.1  61    337   3.87 3.78 2.49\n",
              "10    0.23  Very Good H     VS1     59.4  61    338   4.00 4.05 2.39\n",
              "11    0.30  Good      J     SI1     64.0  55    339   4.25 4.28 2.73\n",
              "12    0.23  Ideal     J     VS1     62.8  56    340   3.93 3.90 2.46\n",
              "13    0.22  Premium   F     SI1     60.4  61    342   3.88 3.84 2.33\n",
              "14    0.31  Ideal     J     SI2     62.2  54    344   4.35 4.37 2.71\n",
              "15    0.20  Premium   E     SI2     60.2  62    345   3.79 3.75 2.27\n",
              "16    0.32  Premium   E     I1      60.9  58    345   4.38 4.42 2.68\n",
              "17    0.30  Ideal     I     SI2     62.0  54    348   4.31 4.34 2.68\n",
              "18    0.30  Good      J     SI1     63.4  54    351   4.23 4.29 2.70\n",
              "19    0.30  Good      J     SI1     63.8  56    351   4.23 4.26 2.71\n",
              "20    0.30  Very Good J     SI1     62.7  59    351   4.21 4.27 2.66\n",
              "21    0.30  Good      I     SI2     63.3  56    351   4.26 4.30 2.71\n",
              "22    0.23  Very Good E     VS2     63.8  55    352   3.85 3.92 2.48\n",
              "23    0.23  Very Good H     VS1     61.0  57    353   3.94 3.96 2.41\n",
              "24    0.31  Very Good J     SI1     59.4  62    353   4.39 4.43 2.62\n",
              "25    0.31  Very Good J     SI1     58.1  62    353   4.44 4.47 2.59\n",
              "26    0.23  Very Good G     VVS2    60.4  58    354   3.97 4.01 2.41\n",
              "27    0.24  Premium   I     VS1     62.5  57    355   3.97 3.94 2.47\n",
              "28    0.30  Very Good J     VS2     62.2  57    357   4.28 4.30 2.67\n",
              "29    0.23  Very Good D     VS2     60.5  61    357   3.96 3.97 2.40\n",
              "30    0.23  Very Good F     VS1     60.9  57    357   3.96 3.99 2.42\n",
              "⋮     ⋮     ⋮         ⋮     ⋮       ⋮     ⋮     ⋮     ⋮    ⋮    ⋮   \n",
              "53911 0.70  Premium   E     SI1     60.5  58    2753  5.74 5.77 3.48\n",
              "53912 0.57  Premium   E     IF      59.8  60    2753  5.43 5.38 3.23\n",
              "53913 0.61  Premium   F     VVS1    61.8  59    2753  5.48 5.40 3.36\n",
              "53914 0.80  Good      G     VS2     64.2  58    2753  5.84 5.81 3.74\n",
              "53915 0.84  Good      I     VS1     63.7  59    2753  5.94 5.90 3.77\n",
              "53916 0.77  Ideal     E     SI2     62.1  56    2753  5.84 5.86 3.63\n",
              "53917 0.74  Good      D     SI1     63.1  59    2753  5.71 5.74 3.61\n",
              "53918 0.90  Very Good J     SI1     63.2  60    2753  6.12 6.09 3.86\n",
              "53919 0.76  Premium   I     VS1     59.3  62    2753  5.93 5.85 3.49\n",
              "53920 0.76  Ideal     I     VVS1    62.2  55    2753  5.89 5.87 3.66\n",
              "53921 0.70  Very Good E     VS2     62.4  60    2755  5.57 5.61 3.49\n",
              "53922 0.70  Very Good E     VS2     62.8  60    2755  5.59 5.65 3.53\n",
              "53923 0.70  Very Good D     VS1     63.1  59    2755  5.67 5.58 3.55\n",
              "53924 0.73  Ideal     I     VS2     61.3  56    2756  5.80 5.84 3.57\n",
              "53925 0.73  Ideal     I     VS2     61.6  55    2756  5.82 5.84 3.59\n",
              "53926 0.79  Ideal     I     SI1     61.6  56    2756  5.95 5.97 3.67\n",
              "53927 0.71  Ideal     E     SI1     61.9  56    2756  5.71 5.73 3.54\n",
              "53928 0.79  Good      F     SI1     58.1  59    2756  6.06 6.13 3.54\n",
              "53929 0.79  Premium   E     SI2     61.4  58    2756  6.03 5.96 3.68\n",
              "53930 0.71  Ideal     G     VS1     61.4  56    2756  5.76 5.73 3.53\n",
              "53931 0.71  Premium   E     SI1     60.5  55    2756  5.79 5.74 3.49\n",
              "53932 0.71  Premium   F     SI1     59.8  62    2756  5.74 5.73 3.43\n",
              "53933 0.70  Very Good E     VS2     60.5  59    2757  5.71 5.76 3.47\n",
              "53934 0.70  Very Good E     VS2     61.2  59    2757  5.69 5.72 3.49\n",
              "53935 0.72  Premium   D     SI1     62.7  59    2757  5.69 5.73 3.58\n",
              "53936 0.72  Ideal     D     SI1     60.8  57    2757  5.75 5.76 3.50\n",
              "53937 0.72  Good      D     SI1     63.1  55    2757  5.69 5.75 3.61\n",
              "53938 0.70  Very Good D     SI1     62.8  60    2757  5.66 5.68 3.56\n",
              "53939 0.86  Premium   H     SI2     61.0  58    2757  6.15 6.12 3.74\n",
              "53940 0.75  Ideal     D     SI2     62.2  55    2757  5.83 5.87 3.64"
            ],
            "text/latex": "A tibble: 53940 × 10\n\\begin{tabular}{llllllllll}\n carat & cut & color & clarity & depth & table & price & x & y & z\\\\\n <dbl> & <ord> & <ord> & <ord> & <dbl> & <dbl> & <int> & <dbl> & <dbl> & <dbl>\\\\\n\\hline\n\t 0.23 & Ideal     & E & SI2  & 61.5 & 55 & 326 & 3.95 & 3.98 & 2.43\\\\\n\t 0.21 & Premium   & E & SI1  & 59.8 & 61 & 326 & 3.89 & 3.84 & 2.31\\\\\n\t 0.23 & Good      & E & VS1  & 56.9 & 65 & 327 & 4.05 & 4.07 & 2.31\\\\\n\t 0.29 & Premium   & I & VS2  & 62.4 & 58 & 334 & 4.20 & 4.23 & 2.63\\\\\n\t 0.31 & Good      & J & SI2  & 63.3 & 58 & 335 & 4.34 & 4.35 & 2.75\\\\\n\t 0.24 & Very Good & J & VVS2 & 62.8 & 57 & 336 & 3.94 & 3.96 & 2.48\\\\\n\t 0.24 & Very Good & I & VVS1 & 62.3 & 57 & 336 & 3.95 & 3.98 & 2.47\\\\\n\t 0.26 & Very Good & H & SI1  & 61.9 & 55 & 337 & 4.07 & 4.11 & 2.53\\\\\n\t 0.22 & Fair      & E & VS2  & 65.1 & 61 & 337 & 3.87 & 3.78 & 2.49\\\\\n\t 0.23 & Very Good & H & VS1  & 59.4 & 61 & 338 & 4.00 & 4.05 & 2.39\\\\\n\t 0.30 & Good      & J & SI1  & 64.0 & 55 & 339 & 4.25 & 4.28 & 2.73\\\\\n\t 0.23 & Ideal     & J & VS1  & 62.8 & 56 & 340 & 3.93 & 3.90 & 2.46\\\\\n\t 0.22 & Premium   & F & SI1  & 60.4 & 61 & 342 & 3.88 & 3.84 & 2.33\\\\\n\t 0.31 & Ideal     & J & SI2  & 62.2 & 54 & 344 & 4.35 & 4.37 & 2.71\\\\\n\t 0.20 & Premium   & E & SI2  & 60.2 & 62 & 345 & 3.79 & 3.75 & 2.27\\\\\n\t 0.32 & Premium   & E & I1   & 60.9 & 58 & 345 & 4.38 & 4.42 & 2.68\\\\\n\t 0.30 & Ideal     & I & SI2  & 62.0 & 54 & 348 & 4.31 & 4.34 & 2.68\\\\\n\t 0.30 & Good      & J & SI1  & 63.4 & 54 & 351 & 4.23 & 4.29 & 2.70\\\\\n\t 0.30 & Good      & J & SI1  & 63.8 & 56 & 351 & 4.23 & 4.26 & 2.71\\\\\n\t 0.30 & Very Good & J & SI1  & 62.7 & 59 & 351 & 4.21 & 4.27 & 2.66\\\\\n\t 0.30 & Good      & I & SI2  & 63.3 & 56 & 351 & 4.26 & 4.30 & 2.71\\\\\n\t 0.23 & Very Good & E & VS2  & 63.8 & 55 & 352 & 3.85 & 3.92 & 2.48\\\\\n\t 0.23 & Very Good & H & VS1  & 61.0 & 57 & 353 & 3.94 & 3.96 & 2.41\\\\\n\t 0.31 & Very Good & J & SI1  & 59.4 & 62 & 353 & 4.39 & 4.43 & 2.62\\\\\n\t 0.31 & Very Good & J & SI1  & 58.1 & 62 & 353 & 4.44 & 4.47 & 2.59\\\\\n\t 0.23 & Very Good & G & VVS2 & 60.4 & 58 & 354 & 3.97 & 4.01 & 2.41\\\\\n\t 0.24 & Premium   & I & VS1  & 62.5 & 57 & 355 & 3.97 & 3.94 & 2.47\\\\\n\t 0.30 & Very Good & J & VS2  & 62.2 & 57 & 357 & 4.28 & 4.30 & 2.67\\\\\n\t 0.23 & Very Good & D & VS2  & 60.5 & 61 & 357 & 3.96 & 3.97 & 2.40\\\\\n\t 0.23 & Very Good & F & VS1  & 60.9 & 57 & 357 & 3.96 & 3.99 & 2.42\\\\\n\t ⋮ & ⋮ & ⋮ & ⋮ & ⋮ & ⋮ & ⋮ & ⋮ & ⋮ & ⋮\\\\\n\t 0.70 & Premium   & E & SI1  & 60.5 & 58 & 2753 & 5.74 & 5.77 & 3.48\\\\\n\t 0.57 & Premium   & E & IF   & 59.8 & 60 & 2753 & 5.43 & 5.38 & 3.23\\\\\n\t 0.61 & Premium   & F & VVS1 & 61.8 & 59 & 2753 & 5.48 & 5.40 & 3.36\\\\\n\t 0.80 & Good      & G & VS2  & 64.2 & 58 & 2753 & 5.84 & 5.81 & 3.74\\\\\n\t 0.84 & Good      & I & VS1  & 63.7 & 59 & 2753 & 5.94 & 5.90 & 3.77\\\\\n\t 0.77 & Ideal     & E & SI2  & 62.1 & 56 & 2753 & 5.84 & 5.86 & 3.63\\\\\n\t 0.74 & Good      & D & SI1  & 63.1 & 59 & 2753 & 5.71 & 5.74 & 3.61\\\\\n\t 0.90 & Very Good & J & SI1  & 63.2 & 60 & 2753 & 6.12 & 6.09 & 3.86\\\\\n\t 0.76 & Premium   & I & VS1  & 59.3 & 62 & 2753 & 5.93 & 5.85 & 3.49\\\\\n\t 0.76 & Ideal     & I & VVS1 & 62.2 & 55 & 2753 & 5.89 & 5.87 & 3.66\\\\\n\t 0.70 & Very Good & E & VS2  & 62.4 & 60 & 2755 & 5.57 & 5.61 & 3.49\\\\\n\t 0.70 & Very Good & E & VS2  & 62.8 & 60 & 2755 & 5.59 & 5.65 & 3.53\\\\\n\t 0.70 & Very Good & D & VS1  & 63.1 & 59 & 2755 & 5.67 & 5.58 & 3.55\\\\\n\t 0.73 & Ideal     & I & VS2  & 61.3 & 56 & 2756 & 5.80 & 5.84 & 3.57\\\\\n\t 0.73 & Ideal     & I & VS2  & 61.6 & 55 & 2756 & 5.82 & 5.84 & 3.59\\\\\n\t 0.79 & Ideal     & I & SI1  & 61.6 & 56 & 2756 & 5.95 & 5.97 & 3.67\\\\\n\t 0.71 & Ideal     & E & SI1  & 61.9 & 56 & 2756 & 5.71 & 5.73 & 3.54\\\\\n\t 0.79 & Good      & F & SI1  & 58.1 & 59 & 2756 & 6.06 & 6.13 & 3.54\\\\\n\t 0.79 & Premium   & E & SI2  & 61.4 & 58 & 2756 & 6.03 & 5.96 & 3.68\\\\\n\t 0.71 & Ideal     & G & VS1  & 61.4 & 56 & 2756 & 5.76 & 5.73 & 3.53\\\\\n\t 0.71 & Premium   & E & SI1  & 60.5 & 55 & 2756 & 5.79 & 5.74 & 3.49\\\\\n\t 0.71 & Premium   & F & SI1  & 59.8 & 62 & 2756 & 5.74 & 5.73 & 3.43\\\\\n\t 0.70 & Very Good & E & VS2  & 60.5 & 59 & 2757 & 5.71 & 5.76 & 3.47\\\\\n\t 0.70 & Very Good & E & VS2  & 61.2 & 59 & 2757 & 5.69 & 5.72 & 3.49\\\\\n\t 0.72 & Premium   & D & SI1  & 62.7 & 59 & 2757 & 5.69 & 5.73 & 3.58\\\\\n\t 0.72 & Ideal     & D & SI1  & 60.8 & 57 & 2757 & 5.75 & 5.76 & 3.50\\\\\n\t 0.72 & Good      & D & SI1  & 63.1 & 55 & 2757 & 5.69 & 5.75 & 3.61\\\\\n\t 0.70 & Very Good & D & SI1  & 62.8 & 60 & 2757 & 5.66 & 5.68 & 3.56\\\\\n\t 0.86 & Premium   & H & SI2  & 61.0 & 58 & 2757 & 6.15 & 6.12 & 3.74\\\\\n\t 0.75 & Ideal     & D & SI2  & 62.2 & 55 & 2757 & 5.83 & 5.87 & 3.64\\\\\n\\end{tabular}\n",
            "text/markdown": "\nA tibble: 53940 × 10\n\n| carat &lt;dbl&gt; | cut &lt;ord&gt; | color &lt;ord&gt; | clarity &lt;ord&gt; | depth &lt;dbl&gt; | table &lt;dbl&gt; | price &lt;int&gt; | x &lt;dbl&gt; | y &lt;dbl&gt; | z &lt;dbl&gt; |\n|---|---|---|---|---|---|---|---|---|---|\n| 0.23 | Ideal     | E | SI2  | 61.5 | 55 | 326 | 3.95 | 3.98 | 2.43 |\n| 0.21 | Premium   | E | SI1  | 59.8 | 61 | 326 | 3.89 | 3.84 | 2.31 |\n| 0.23 | Good      | E | VS1  | 56.9 | 65 | 327 | 4.05 | 4.07 | 2.31 |\n| 0.29 | Premium   | I | VS2  | 62.4 | 58 | 334 | 4.20 | 4.23 | 2.63 |\n| 0.31 | Good      | J | SI2  | 63.3 | 58 | 335 | 4.34 | 4.35 | 2.75 |\n| 0.24 | Very Good | J | VVS2 | 62.8 | 57 | 336 | 3.94 | 3.96 | 2.48 |\n| 0.24 | Very Good | I | VVS1 | 62.3 | 57 | 336 | 3.95 | 3.98 | 2.47 |\n| 0.26 | Very Good | H | SI1  | 61.9 | 55 | 337 | 4.07 | 4.11 | 2.53 |\n| 0.22 | Fair      | E | VS2  | 65.1 | 61 | 337 | 3.87 | 3.78 | 2.49 |\n| 0.23 | Very Good | H | VS1  | 59.4 | 61 | 338 | 4.00 | 4.05 | 2.39 |\n| 0.30 | Good      | J | SI1  | 64.0 | 55 | 339 | 4.25 | 4.28 | 2.73 |\n| 0.23 | Ideal     | J | VS1  | 62.8 | 56 | 340 | 3.93 | 3.90 | 2.46 |\n| 0.22 | Premium   | F | SI1  | 60.4 | 61 | 342 | 3.88 | 3.84 | 2.33 |\n| 0.31 | Ideal     | J | SI2  | 62.2 | 54 | 344 | 4.35 | 4.37 | 2.71 |\n| 0.20 | Premium   | E | SI2  | 60.2 | 62 | 345 | 3.79 | 3.75 | 2.27 |\n| 0.32 | Premium   | E | I1   | 60.9 | 58 | 345 | 4.38 | 4.42 | 2.68 |\n| 0.30 | Ideal     | I | SI2  | 62.0 | 54 | 348 | 4.31 | 4.34 | 2.68 |\n| 0.30 | Good      | J | SI1  | 63.4 | 54 | 351 | 4.23 | 4.29 | 2.70 |\n| 0.30 | Good      | J | SI1  | 63.8 | 56 | 351 | 4.23 | 4.26 | 2.71 |\n| 0.30 | Very Good | J | SI1  | 62.7 | 59 | 351 | 4.21 | 4.27 | 2.66 |\n| 0.30 | Good      | I | SI2  | 63.3 | 56 | 351 | 4.26 | 4.30 | 2.71 |\n| 0.23 | Very Good | E | VS2  | 63.8 | 55 | 352 | 3.85 | 3.92 | 2.48 |\n| 0.23 | Very Good | H | VS1  | 61.0 | 57 | 353 | 3.94 | 3.96 | 2.41 |\n| 0.31 | Very Good | J | SI1  | 59.4 | 62 | 353 | 4.39 | 4.43 | 2.62 |\n| 0.31 | Very Good | J | SI1  | 58.1 | 62 | 353 | 4.44 | 4.47 | 2.59 |\n| 0.23 | Very Good | G | VVS2 | 60.4 | 58 | 354 | 3.97 | 4.01 | 2.41 |\n| 0.24 | Premium   | I | VS1  | 62.5 | 57 | 355 | 3.97 | 3.94 | 2.47 |\n| 0.30 | Very Good | J | VS2  | 62.2 | 57 | 357 | 4.28 | 4.30 | 2.67 |\n| 0.23 | Very Good | D | VS2  | 60.5 | 61 | 357 | 3.96 | 3.97 | 2.40 |\n| 0.23 | Very Good | F | VS1  | 60.9 | 57 | 357 | 3.96 | 3.99 | 2.42 |\n| ⋮ | ⋮ | ⋮ | ⋮ | ⋮ | ⋮ | ⋮ | ⋮ | ⋮ | ⋮ |\n| 0.70 | Premium   | E | SI1  | 60.5 | 58 | 2753 | 5.74 | 5.77 | 3.48 |\n| 0.57 | Premium   | E | IF   | 59.8 | 60 | 2753 | 5.43 | 5.38 | 3.23 |\n| 0.61 | Premium   | F | VVS1 | 61.8 | 59 | 2753 | 5.48 | 5.40 | 3.36 |\n| 0.80 | Good      | G | VS2  | 64.2 | 58 | 2753 | 5.84 | 5.81 | 3.74 |\n| 0.84 | Good      | I | VS1  | 63.7 | 59 | 2753 | 5.94 | 5.90 | 3.77 |\n| 0.77 | Ideal     | E | SI2  | 62.1 | 56 | 2753 | 5.84 | 5.86 | 3.63 |\n| 0.74 | Good      | D | SI1  | 63.1 | 59 | 2753 | 5.71 | 5.74 | 3.61 |\n| 0.90 | Very Good | J | SI1  | 63.2 | 60 | 2753 | 6.12 | 6.09 | 3.86 |\n| 0.76 | Premium   | I | VS1  | 59.3 | 62 | 2753 | 5.93 | 5.85 | 3.49 |\n| 0.76 | Ideal     | I | VVS1 | 62.2 | 55 | 2753 | 5.89 | 5.87 | 3.66 |\n| 0.70 | Very Good | E | VS2  | 62.4 | 60 | 2755 | 5.57 | 5.61 | 3.49 |\n| 0.70 | Very Good | E | VS2  | 62.8 | 60 | 2755 | 5.59 | 5.65 | 3.53 |\n| 0.70 | Very Good | D | VS1  | 63.1 | 59 | 2755 | 5.67 | 5.58 | 3.55 |\n| 0.73 | Ideal     | I | VS2  | 61.3 | 56 | 2756 | 5.80 | 5.84 | 3.57 |\n| 0.73 | Ideal     | I | VS2  | 61.6 | 55 | 2756 | 5.82 | 5.84 | 3.59 |\n| 0.79 | Ideal     | I | SI1  | 61.6 | 56 | 2756 | 5.95 | 5.97 | 3.67 |\n| 0.71 | Ideal     | E | SI1  | 61.9 | 56 | 2756 | 5.71 | 5.73 | 3.54 |\n| 0.79 | Good      | F | SI1  | 58.1 | 59 | 2756 | 6.06 | 6.13 | 3.54 |\n| 0.79 | Premium   | E | SI2  | 61.4 | 58 | 2756 | 6.03 | 5.96 | 3.68 |\n| 0.71 | Ideal     | G | VS1  | 61.4 | 56 | 2756 | 5.76 | 5.73 | 3.53 |\n| 0.71 | Premium   | E | SI1  | 60.5 | 55 | 2756 | 5.79 | 5.74 | 3.49 |\n| 0.71 | Premium   | F | SI1  | 59.8 | 62 | 2756 | 5.74 | 5.73 | 3.43 |\n| 0.70 | Very Good | E | VS2  | 60.5 | 59 | 2757 | 5.71 | 5.76 | 3.47 |\n| 0.70 | Very Good | E | VS2  | 61.2 | 59 | 2757 | 5.69 | 5.72 | 3.49 |\n| 0.72 | Premium   | D | SI1  | 62.7 | 59 | 2757 | 5.69 | 5.73 | 3.58 |\n| 0.72 | Ideal     | D | SI1  | 60.8 | 57 | 2757 | 5.75 | 5.76 | 3.50 |\n| 0.72 | Good      | D | SI1  | 63.1 | 55 | 2757 | 5.69 | 5.75 | 3.61 |\n| 0.70 | Very Good | D | SI1  | 62.8 | 60 | 2757 | 5.66 | 5.68 | 3.56 |\n| 0.86 | Premium   | H | SI2  | 61.0 | 58 | 2757 | 6.15 | 6.12 | 3.74 |\n| 0.75 | Ideal     | D | SI2  | 62.2 | 55 | 2757 | 5.83 | 5.87 | 3.64 |\n\n",
            "text/html": [
              "<table class=\"dataframe\">\n",
              "<caption>A tibble: 53940 × 10</caption>\n",
              "<thead>\n",
              "\t<tr><th scope=col>carat</th><th scope=col>cut</th><th scope=col>color</th><th scope=col>clarity</th><th scope=col>depth</th><th scope=col>table</th><th scope=col>price</th><th scope=col>x</th><th scope=col>y</th><th scope=col>z</th></tr>\n",
              "\t<tr><th scope=col>&lt;dbl&gt;</th><th scope=col>&lt;ord&gt;</th><th scope=col>&lt;ord&gt;</th><th scope=col>&lt;ord&gt;</th><th scope=col>&lt;dbl&gt;</th><th scope=col>&lt;dbl&gt;</th><th scope=col>&lt;int&gt;</th><th scope=col>&lt;dbl&gt;</th><th scope=col>&lt;dbl&gt;</th><th scope=col>&lt;dbl&gt;</th></tr>\n",
              "</thead>\n",
              "<tbody>\n",
              "\t<tr><td>0.23</td><td>Ideal    </td><td>E</td><td>SI2 </td><td>61.5</td><td>55</td><td>326</td><td>3.95</td><td>3.98</td><td>2.43</td></tr>\n",
              "\t<tr><td>0.21</td><td>Premium  </td><td>E</td><td>SI1 </td><td>59.8</td><td>61</td><td>326</td><td>3.89</td><td>3.84</td><td>2.31</td></tr>\n",
              "\t<tr><td>0.23</td><td>Good     </td><td>E</td><td>VS1 </td><td>56.9</td><td>65</td><td>327</td><td>4.05</td><td>4.07</td><td>2.31</td></tr>\n",
              "\t<tr><td>0.29</td><td>Premium  </td><td>I</td><td>VS2 </td><td>62.4</td><td>58</td><td>334</td><td>4.20</td><td>4.23</td><td>2.63</td></tr>\n",
              "\t<tr><td>0.31</td><td>Good     </td><td>J</td><td>SI2 </td><td>63.3</td><td>58</td><td>335</td><td>4.34</td><td>4.35</td><td>2.75</td></tr>\n",
              "\t<tr><td>0.24</td><td>Very Good</td><td>J</td><td>VVS2</td><td>62.8</td><td>57</td><td>336</td><td>3.94</td><td>3.96</td><td>2.48</td></tr>\n",
              "\t<tr><td>0.24</td><td>Very Good</td><td>I</td><td>VVS1</td><td>62.3</td><td>57</td><td>336</td><td>3.95</td><td>3.98</td><td>2.47</td></tr>\n",
              "\t<tr><td>0.26</td><td>Very Good</td><td>H</td><td>SI1 </td><td>61.9</td><td>55</td><td>337</td><td>4.07</td><td>4.11</td><td>2.53</td></tr>\n",
              "\t<tr><td>0.22</td><td>Fair     </td><td>E</td><td>VS2 </td><td>65.1</td><td>61</td><td>337</td><td>3.87</td><td>3.78</td><td>2.49</td></tr>\n",
              "\t<tr><td>0.23</td><td>Very Good</td><td>H</td><td>VS1 </td><td>59.4</td><td>61</td><td>338</td><td>4.00</td><td>4.05</td><td>2.39</td></tr>\n",
              "\t<tr><td>0.30</td><td>Good     </td><td>J</td><td>SI1 </td><td>64.0</td><td>55</td><td>339</td><td>4.25</td><td>4.28</td><td>2.73</td></tr>\n",
              "\t<tr><td>0.23</td><td>Ideal    </td><td>J</td><td>VS1 </td><td>62.8</td><td>56</td><td>340</td><td>3.93</td><td>3.90</td><td>2.46</td></tr>\n",
              "\t<tr><td>0.22</td><td>Premium  </td><td>F</td><td>SI1 </td><td>60.4</td><td>61</td><td>342</td><td>3.88</td><td>3.84</td><td>2.33</td></tr>\n",
              "\t<tr><td>0.31</td><td>Ideal    </td><td>J</td><td>SI2 </td><td>62.2</td><td>54</td><td>344</td><td>4.35</td><td>4.37</td><td>2.71</td></tr>\n",
              "\t<tr><td>0.20</td><td>Premium  </td><td>E</td><td>SI2 </td><td>60.2</td><td>62</td><td>345</td><td>3.79</td><td>3.75</td><td>2.27</td></tr>\n",
              "\t<tr><td>0.32</td><td>Premium  </td><td>E</td><td>I1  </td><td>60.9</td><td>58</td><td>345</td><td>4.38</td><td>4.42</td><td>2.68</td></tr>\n",
              "\t<tr><td>0.30</td><td>Ideal    </td><td>I</td><td>SI2 </td><td>62.0</td><td>54</td><td>348</td><td>4.31</td><td>4.34</td><td>2.68</td></tr>\n",
              "\t<tr><td>0.30</td><td>Good     </td><td>J</td><td>SI1 </td><td>63.4</td><td>54</td><td>351</td><td>4.23</td><td>4.29</td><td>2.70</td></tr>\n",
              "\t<tr><td>0.30</td><td>Good     </td><td>J</td><td>SI1 </td><td>63.8</td><td>56</td><td>351</td><td>4.23</td><td>4.26</td><td>2.71</td></tr>\n",
              "\t<tr><td>0.30</td><td>Very Good</td><td>J</td><td>SI1 </td><td>62.7</td><td>59</td><td>351</td><td>4.21</td><td>4.27</td><td>2.66</td></tr>\n",
              "\t<tr><td>0.30</td><td>Good     </td><td>I</td><td>SI2 </td><td>63.3</td><td>56</td><td>351</td><td>4.26</td><td>4.30</td><td>2.71</td></tr>\n",
              "\t<tr><td>0.23</td><td>Very Good</td><td>E</td><td>VS2 </td><td>63.8</td><td>55</td><td>352</td><td>3.85</td><td>3.92</td><td>2.48</td></tr>\n",
              "\t<tr><td>0.23</td><td>Very Good</td><td>H</td><td>VS1 </td><td>61.0</td><td>57</td><td>353</td><td>3.94</td><td>3.96</td><td>2.41</td></tr>\n",
              "\t<tr><td>0.31</td><td>Very Good</td><td>J</td><td>SI1 </td><td>59.4</td><td>62</td><td>353</td><td>4.39</td><td>4.43</td><td>2.62</td></tr>\n",
              "\t<tr><td>0.31</td><td>Very Good</td><td>J</td><td>SI1 </td><td>58.1</td><td>62</td><td>353</td><td>4.44</td><td>4.47</td><td>2.59</td></tr>\n",
              "\t<tr><td>0.23</td><td>Very Good</td><td>G</td><td>VVS2</td><td>60.4</td><td>58</td><td>354</td><td>3.97</td><td>4.01</td><td>2.41</td></tr>\n",
              "\t<tr><td>0.24</td><td>Premium  </td><td>I</td><td>VS1 </td><td>62.5</td><td>57</td><td>355</td><td>3.97</td><td>3.94</td><td>2.47</td></tr>\n",
              "\t<tr><td>0.30</td><td>Very Good</td><td>J</td><td>VS2 </td><td>62.2</td><td>57</td><td>357</td><td>4.28</td><td>4.30</td><td>2.67</td></tr>\n",
              "\t<tr><td>0.23</td><td>Very Good</td><td>D</td><td>VS2 </td><td>60.5</td><td>61</td><td>357</td><td>3.96</td><td>3.97</td><td>2.40</td></tr>\n",
              "\t<tr><td>0.23</td><td>Very Good</td><td>F</td><td>VS1 </td><td>60.9</td><td>57</td><td>357</td><td>3.96</td><td>3.99</td><td>2.42</td></tr>\n",
              "\t<tr><td>⋮</td><td>⋮</td><td>⋮</td><td>⋮</td><td>⋮</td><td>⋮</td><td>⋮</td><td>⋮</td><td>⋮</td><td>⋮</td></tr>\n",
              "\t<tr><td>0.70</td><td>Premium  </td><td>E</td><td>SI1 </td><td>60.5</td><td>58</td><td>2753</td><td>5.74</td><td>5.77</td><td>3.48</td></tr>\n",
              "\t<tr><td>0.57</td><td>Premium  </td><td>E</td><td>IF  </td><td>59.8</td><td>60</td><td>2753</td><td>5.43</td><td>5.38</td><td>3.23</td></tr>\n",
              "\t<tr><td>0.61</td><td>Premium  </td><td>F</td><td>VVS1</td><td>61.8</td><td>59</td><td>2753</td><td>5.48</td><td>5.40</td><td>3.36</td></tr>\n",
              "\t<tr><td>0.80</td><td>Good     </td><td>G</td><td>VS2 </td><td>64.2</td><td>58</td><td>2753</td><td>5.84</td><td>5.81</td><td>3.74</td></tr>\n",
              "\t<tr><td>0.84</td><td>Good     </td><td>I</td><td>VS1 </td><td>63.7</td><td>59</td><td>2753</td><td>5.94</td><td>5.90</td><td>3.77</td></tr>\n",
              "\t<tr><td>0.77</td><td>Ideal    </td><td>E</td><td>SI2 </td><td>62.1</td><td>56</td><td>2753</td><td>5.84</td><td>5.86</td><td>3.63</td></tr>\n",
              "\t<tr><td>0.74</td><td>Good     </td><td>D</td><td>SI1 </td><td>63.1</td><td>59</td><td>2753</td><td>5.71</td><td>5.74</td><td>3.61</td></tr>\n",
              "\t<tr><td>0.90</td><td>Very Good</td><td>J</td><td>SI1 </td><td>63.2</td><td>60</td><td>2753</td><td>6.12</td><td>6.09</td><td>3.86</td></tr>\n",
              "\t<tr><td>0.76</td><td>Premium  </td><td>I</td><td>VS1 </td><td>59.3</td><td>62</td><td>2753</td><td>5.93</td><td>5.85</td><td>3.49</td></tr>\n",
              "\t<tr><td>0.76</td><td>Ideal    </td><td>I</td><td>VVS1</td><td>62.2</td><td>55</td><td>2753</td><td>5.89</td><td>5.87</td><td>3.66</td></tr>\n",
              "\t<tr><td>0.70</td><td>Very Good</td><td>E</td><td>VS2 </td><td>62.4</td><td>60</td><td>2755</td><td>5.57</td><td>5.61</td><td>3.49</td></tr>\n",
              "\t<tr><td>0.70</td><td>Very Good</td><td>E</td><td>VS2 </td><td>62.8</td><td>60</td><td>2755</td><td>5.59</td><td>5.65</td><td>3.53</td></tr>\n",
              "\t<tr><td>0.70</td><td>Very Good</td><td>D</td><td>VS1 </td><td>63.1</td><td>59</td><td>2755</td><td>5.67</td><td>5.58</td><td>3.55</td></tr>\n",
              "\t<tr><td>0.73</td><td>Ideal    </td><td>I</td><td>VS2 </td><td>61.3</td><td>56</td><td>2756</td><td>5.80</td><td>5.84</td><td>3.57</td></tr>\n",
              "\t<tr><td>0.73</td><td>Ideal    </td><td>I</td><td>VS2 </td><td>61.6</td><td>55</td><td>2756</td><td>5.82</td><td>5.84</td><td>3.59</td></tr>\n",
              "\t<tr><td>0.79</td><td>Ideal    </td><td>I</td><td>SI1 </td><td>61.6</td><td>56</td><td>2756</td><td>5.95</td><td>5.97</td><td>3.67</td></tr>\n",
              "\t<tr><td>0.71</td><td>Ideal    </td><td>E</td><td>SI1 </td><td>61.9</td><td>56</td><td>2756</td><td>5.71</td><td>5.73</td><td>3.54</td></tr>\n",
              "\t<tr><td>0.79</td><td>Good     </td><td>F</td><td>SI1 </td><td>58.1</td><td>59</td><td>2756</td><td>6.06</td><td>6.13</td><td>3.54</td></tr>\n",
              "\t<tr><td>0.79</td><td>Premium  </td><td>E</td><td>SI2 </td><td>61.4</td><td>58</td><td>2756</td><td>6.03</td><td>5.96</td><td>3.68</td></tr>\n",
              "\t<tr><td>0.71</td><td>Ideal    </td><td>G</td><td>VS1 </td><td>61.4</td><td>56</td><td>2756</td><td>5.76</td><td>5.73</td><td>3.53</td></tr>\n",
              "\t<tr><td>0.71</td><td>Premium  </td><td>E</td><td>SI1 </td><td>60.5</td><td>55</td><td>2756</td><td>5.79</td><td>5.74</td><td>3.49</td></tr>\n",
              "\t<tr><td>0.71</td><td>Premium  </td><td>F</td><td>SI1 </td><td>59.8</td><td>62</td><td>2756</td><td>5.74</td><td>5.73</td><td>3.43</td></tr>\n",
              "\t<tr><td>0.70</td><td>Very Good</td><td>E</td><td>VS2 </td><td>60.5</td><td>59</td><td>2757</td><td>5.71</td><td>5.76</td><td>3.47</td></tr>\n",
              "\t<tr><td>0.70</td><td>Very Good</td><td>E</td><td>VS2 </td><td>61.2</td><td>59</td><td>2757</td><td>5.69</td><td>5.72</td><td>3.49</td></tr>\n",
              "\t<tr><td>0.72</td><td>Premium  </td><td>D</td><td>SI1 </td><td>62.7</td><td>59</td><td>2757</td><td>5.69</td><td>5.73</td><td>3.58</td></tr>\n",
              "\t<tr><td>0.72</td><td>Ideal    </td><td>D</td><td>SI1 </td><td>60.8</td><td>57</td><td>2757</td><td>5.75</td><td>5.76</td><td>3.50</td></tr>\n",
              "\t<tr><td>0.72</td><td>Good     </td><td>D</td><td>SI1 </td><td>63.1</td><td>55</td><td>2757</td><td>5.69</td><td>5.75</td><td>3.61</td></tr>\n",
              "\t<tr><td>0.70</td><td>Very Good</td><td>D</td><td>SI1 </td><td>62.8</td><td>60</td><td>2757</td><td>5.66</td><td>5.68</td><td>3.56</td></tr>\n",
              "\t<tr><td>0.86</td><td>Premium  </td><td>H</td><td>SI2 </td><td>61.0</td><td>58</td><td>2757</td><td>6.15</td><td>6.12</td><td>3.74</td></tr>\n",
              "\t<tr><td>0.75</td><td>Ideal    </td><td>D</td><td>SI2 </td><td>62.2</td><td>55</td><td>2757</td><td>5.83</td><td>5.87</td><td>3.64</td></tr>\n",
              "</tbody>\n",
              "</table>\n"
            ]
          },
          "metadata": {
            "tags": []
          }
        }
      ]
    },
    {
      "cell_type": "code",
      "metadata": {
        "colab": {
          "base_uri": "https://localhost:8080/",
          "height": 281
        },
        "id": "wOVpoUb2rct8",
        "outputId": "9d59acc3-21f5-498e-8bc4-dfe2bcd5503b"
      },
      "source": [
        "head(diamonds)"
      ],
      "execution_count": 93,
      "outputs": [
        {
          "output_type": "display_data",
          "data": {
            "text/plain": [
              "  carat cut       color clarity depth table price x    y    z   \n",
              "1 0.23  Ideal     E     SI2     61.5  55    326   3.95 3.98 2.43\n",
              "2 0.21  Premium   E     SI1     59.8  61    326   3.89 3.84 2.31\n",
              "3 0.23  Good      E     VS1     56.9  65    327   4.05 4.07 2.31\n",
              "4 0.29  Premium   I     VS2     62.4  58    334   4.20 4.23 2.63\n",
              "5 0.31  Good      J     SI2     63.3  58    335   4.34 4.35 2.75\n",
              "6 0.24  Very Good J     VVS2    62.8  57    336   3.94 3.96 2.48"
            ],
            "text/latex": "A tibble: 6 × 10\n\\begin{tabular}{llllllllll}\n carat & cut & color & clarity & depth & table & price & x & y & z\\\\\n <dbl> & <ord> & <ord> & <ord> & <dbl> & <dbl> & <int> & <dbl> & <dbl> & <dbl>\\\\\n\\hline\n\t 0.23 & Ideal     & E & SI2  & 61.5 & 55 & 326 & 3.95 & 3.98 & 2.43\\\\\n\t 0.21 & Premium   & E & SI1  & 59.8 & 61 & 326 & 3.89 & 3.84 & 2.31\\\\\n\t 0.23 & Good      & E & VS1  & 56.9 & 65 & 327 & 4.05 & 4.07 & 2.31\\\\\n\t 0.29 & Premium   & I & VS2  & 62.4 & 58 & 334 & 4.20 & 4.23 & 2.63\\\\\n\t 0.31 & Good      & J & SI2  & 63.3 & 58 & 335 & 4.34 & 4.35 & 2.75\\\\\n\t 0.24 & Very Good & J & VVS2 & 62.8 & 57 & 336 & 3.94 & 3.96 & 2.48\\\\\n\\end{tabular}\n",
            "text/markdown": "\nA tibble: 6 × 10\n\n| carat &lt;dbl&gt; | cut &lt;ord&gt; | color &lt;ord&gt; | clarity &lt;ord&gt; | depth &lt;dbl&gt; | table &lt;dbl&gt; | price &lt;int&gt; | x &lt;dbl&gt; | y &lt;dbl&gt; | z &lt;dbl&gt; |\n|---|---|---|---|---|---|---|---|---|---|\n| 0.23 | Ideal     | E | SI2  | 61.5 | 55 | 326 | 3.95 | 3.98 | 2.43 |\n| 0.21 | Premium   | E | SI1  | 59.8 | 61 | 326 | 3.89 | 3.84 | 2.31 |\n| 0.23 | Good      | E | VS1  | 56.9 | 65 | 327 | 4.05 | 4.07 | 2.31 |\n| 0.29 | Premium   | I | VS2  | 62.4 | 58 | 334 | 4.20 | 4.23 | 2.63 |\n| 0.31 | Good      | J | SI2  | 63.3 | 58 | 335 | 4.34 | 4.35 | 2.75 |\n| 0.24 | Very Good | J | VVS2 | 62.8 | 57 | 336 | 3.94 | 3.96 | 2.48 |\n\n",
            "text/html": [
              "<table class=\"dataframe\">\n",
              "<caption>A tibble: 6 × 10</caption>\n",
              "<thead>\n",
              "\t<tr><th scope=col>carat</th><th scope=col>cut</th><th scope=col>color</th><th scope=col>clarity</th><th scope=col>depth</th><th scope=col>table</th><th scope=col>price</th><th scope=col>x</th><th scope=col>y</th><th scope=col>z</th></tr>\n",
              "\t<tr><th scope=col>&lt;dbl&gt;</th><th scope=col>&lt;ord&gt;</th><th scope=col>&lt;ord&gt;</th><th scope=col>&lt;ord&gt;</th><th scope=col>&lt;dbl&gt;</th><th scope=col>&lt;dbl&gt;</th><th scope=col>&lt;int&gt;</th><th scope=col>&lt;dbl&gt;</th><th scope=col>&lt;dbl&gt;</th><th scope=col>&lt;dbl&gt;</th></tr>\n",
              "</thead>\n",
              "<tbody>\n",
              "\t<tr><td>0.23</td><td>Ideal    </td><td>E</td><td>SI2 </td><td>61.5</td><td>55</td><td>326</td><td>3.95</td><td>3.98</td><td>2.43</td></tr>\n",
              "\t<tr><td>0.21</td><td>Premium  </td><td>E</td><td>SI1 </td><td>59.8</td><td>61</td><td>326</td><td>3.89</td><td>3.84</td><td>2.31</td></tr>\n",
              "\t<tr><td>0.23</td><td>Good     </td><td>E</td><td>VS1 </td><td>56.9</td><td>65</td><td>327</td><td>4.05</td><td>4.07</td><td>2.31</td></tr>\n",
              "\t<tr><td>0.29</td><td>Premium  </td><td>I</td><td>VS2 </td><td>62.4</td><td>58</td><td>334</td><td>4.20</td><td>4.23</td><td>2.63</td></tr>\n",
              "\t<tr><td>0.31</td><td>Good     </td><td>J</td><td>SI2 </td><td>63.3</td><td>58</td><td>335</td><td>4.34</td><td>4.35</td><td>2.75</td></tr>\n",
              "\t<tr><td>0.24</td><td>Very Good</td><td>J</td><td>VVS2</td><td>62.8</td><td>57</td><td>336</td><td>3.94</td><td>3.96</td><td>2.48</td></tr>\n",
              "</tbody>\n",
              "</table>\n"
            ]
          },
          "metadata": {
            "tags": []
          }
        }
      ]
    },
    {
      "cell_type": "code",
      "metadata": {
        "colab": {
          "base_uri": "https://localhost:8080/",
          "height": 437
        },
        "id": "OR15pFp7rT5H",
        "outputId": "439a65c1-7294-41a2-c373-0ad3d8d0b34b"
      },
      "source": [
        "diamonds %>% ggplot(aes(cut, price)) + geom_boxplot()"
      ],
      "execution_count": 91,
      "outputs": [
        {
          "output_type": "display_data",
          "data": {
            "image/png": "[encoded data removed]",
            "text/plain": [
              "plot without title"
            ]
          },
          "metadata": {
            "tags": [],
            "image/png": {
              "width": 420,
              "height": 420
            }
          }
        }
      ]
    },
    {
      "cell_type": "code",
      "metadata": {
        "colab": {
          "base_uri": "https://localhost:8080/",
          "height": 437
        },
        "id": "9WmBxXCsrZjI",
        "outputId": "77da9026-e866-4bde-bc0a-4f6855d2fead"
      },
      "source": [
        "diamonds %>% ggplot(aes(color, price)) + geom_boxplot()"
      ],
      "execution_count": 95,
      "outputs": [
        {
          "output_type": "display_data",
          "data": {
            "image/png": "[encoded data removed]",
            "text/plain": [
              "plot without title"
            ]
          },
          "metadata": {
            "tags": [],
            "image/png": {
              "width": 420,
              "height": 420
            }
          }
        }
      ]
    },
    {
      "cell_type": "code",
      "metadata": {
        "colab": {
          "base_uri": "https://localhost:8080/",
          "height": 437
        },
        "id": "5FcoBJZlrtdu",
        "outputId": "f16cc8ef-8bef-495e-9d81-1dfa4cb24b2a"
      },
      "source": [
        "diamonds %>% ggplot(aes(cut, price)) + geom_violin()"
      ],
      "execution_count": 96,
      "outputs": [
        {
          "output_type": "display_data",
          "data": {
            "image/png": "[encoded data removed]",
            "text/plain": [
              "plot without title"
            ]
          },
          "metadata": {
            "tags": [],
            "image/png": {
              "width": 420,
              "height": 420
            }
          }
        }
      ]
    },
    {
      "cell_type": "code",
      "metadata": {
        "colab": {
          "base_uri": "https://localhost:8080/",
          "height": 437
        },
        "id": "Dg7aoEl1r1jg",
        "outputId": "7d9d705b-84c7-4207-81b7-2099c2406f20"
      },
      "source": [
        "diamonds %>% ggplot(aes(color, price)) + geom_violin()"
      ],
      "execution_count": 97,
      "outputs": [
        {
          "output_type": "display_data",
          "data": {
            "image/png": "[encoded data removed]",
            "text/plain": [
              "plot without title"
            ]
          },
          "metadata": {
            "tags": [],
            "image/png": {
              "width": 420,
              "height": 420
            }
          }
        }
      ]
    },
    {
      "cell_type": "code",
      "metadata": {
        "id": "lrst0rE5r-M7"
      },
      "source": [
        ""
      ],
      "execution_count": null,
      "outputs": []
    }
  ]
}